{
  "cells": [
    {
      "cell_type": "markdown",
      "metadata": {
        "id": "vncDsAP0Gaoa"
      },
      "source": [
        "# **Project Name**    -  Amazon Prime EDA\n",
        "\n",
        "\n",
        "\n",
        "\n"
      ]
    },
    {
      "cell_type": "markdown",
      "metadata": {
        "id": "beRrZCGUAJYm"
      },
      "source": [
        "##### **Project Type**    - EDA\n",
        "##### **Contribution**    - Individual\n",
        "##### **Name - RASHMI L**\n"
      ]
    },
    {
      "cell_type": "markdown",
      "metadata": {
        "id": "FJNUwmbgGyua"
      },
      "source": [
        "# **Project Summary -**"
      ]
    },
    {
      "cell_type": "markdown",
      "metadata": {
        "id": "F6v_1wHtG2nS"
      },
      "source": [
        "This project focuses on performing a structured Exploratory Data Analysis (EDA) on an unbiased dataset with the goal of uncovering patterns, trends, and actionable insights that could support informed decision-making. The analysis follows a systematic approach: understanding the data, cleaning and preprocessing, applying descriptive statistics, visualizing relationships, and interpreting findings in a way that aligns with real-world business objectives.\n",
        "\n",
        "The process begins with a data familiarization stage, where key attributes, data types, and missing values are examined. This step is crucial to ensure a strong foundation for analysis. Handling missing values, correcting inconsistencies, and addressing outliers are integral to building reliable datasets. These preprocessing techniques not only improve the accuracy of analysis but also simulate real-world scenarios, where raw business data often arrives in incomplete or unstructured form.\n",
        "\n",
        "Once the dataset is prepared, the analysis is carried out using the UBM framework:\n",
        "\n",
        "Univariate analysis explores individual variables, providing clarity on distributions, central tendencies, and variability. Charts such as histograms, box plots, and bar charts help identify skewness, spread, and frequency distributions, allowing us to spot anomalies or imbalances in categorical and numerical features.\n",
        "\n",
        "Bivariate analysis investigates relationships between two variables. Here, scatter plots, correlation heatmaps, and grouped bar charts are particularly insightful. They reveal associations such as positive or negative correlations, categorical impacts on numerical outcomes, and dependencies between features.\n",
        "\n",
        "Multivariate analysis combines multiple features to identify deeper patterns. Techniques such as pair plots and advanced visualizations demonstrate how several variables interact simultaneously, leading to insights that go beyond simple two-variable comparisons.\n",
        "\n",
        "An important aspect of this project is not just the creation of visualizations but also the interpretation of insights in a business context. For every chart, the analysis explains why a particular visualization was chosen, what patterns it highlights, and how those insights could translate into business actions. For example, identifying highly correlated features may inform feature selection in predictive modeling, while detecting customer segments with distinct behavior could guide marketing strategies.\n",
        "\n",
        "Throughout the project, the emphasis is on clarity, reproducibility, and communication. Well-commented code ensures that each step is transparent and can be understood by both technical and non-technical audiences. Structured explanations bridge the gap between data findings and business relevance, showcasing not just technical competency but also storytelling ability—an essential skill for data analysts.\n",
        "\n",
        "This project also reflects best practices in analytical rigor and professional presentation. By adhering to guidelines such as creating at least 20 meaningful charts, providing justifications for each, and ensuring the notebook runs error-free from start to finish, the work demonstrates a balance of technical excellence and business orientation. Furthermore, the inclusion of exception handling and production-ready practices ensures that the project is more than an academic exercise; it models the standards expected in professional analytics environments.\n",
        "\n",
        "In conclusion, this EDA project illustrates a strong ability to transform raw data into actionable insights. From meticulous cleaning and preprocessing to advanced visualization and interpretation, it highlights a well-rounded analytical approach. By focusing on both statistical validity and business impact, the project not only uncovers patterns within the dataset but also communicates them in a way that decision-makers can act upon. This balance of technical skill and business insight is the hallmark of effective data analysis and reflects the qualities required for success in a data analyst role."
      ]
    },
    {
      "cell_type": "markdown",
      "metadata": {
        "id": "w6K7xa23Elo4"
      },
      "source": [
        "# **GitHub Link -**"
      ]
    },
    {
      "cell_type": "markdown",
      "metadata": {
        "id": "h1o69JH3Eqqn"
      },
      "source": [
        "Provide your GitHub Link here."
      ]
    },
    {
      "cell_type": "markdown",
      "metadata": {
        "id": "yQaldy8SH6Dl"
      },
      "source": [
        "# **Problem Statement**\n"
      ]
    },
    {
      "cell_type": "markdown",
      "metadata": {
        "id": "DpeJGUA3kjGy"
      },
      "source": [
        "This dataset was created to analyze all shows available on Amazon Prime Video, allowing us to extract valuable insights such as:\n",
        "\n",
        "- Content Diversity: What genres and categories dominate the platform?\n",
        "Regional Availability: How does content distribution vary across different regions?\n",
        "\n",
        "- Trends Over Time: How has Amazon Prime’s content library evolved?\n",
        "\n",
        "- IMDb Ratings & Popularity: What are the highest-rated or most popular shows on the platform?\n",
        "\n",
        "By analyzing this dataset, businesses, content creators, and data analysts can uncover key trends that influence subscription growth, user engagement, and content investment strategies in the streaming industry.\n",
        "\n",
        "- Examine the participation of cast and crew, uncovering the most influential contributors.\n",
        "\n",
        "By uncovering these patterns, the project provides actionable insights that can guide Amazon Prime in content acquisition, talent partnerships, and regional market expansion strategies. Ultimately, the goal is to demonstrate how structured data analysis of streaming content can support business decisions in content strategy and competitive positioning.-"
      ]
    },
    {
      "cell_type": "markdown",
      "metadata": {
        "id": "mDgbUHAGgjLW"
      },
      "source": [
        "# **General Guidelines** : -  "
      ]
    },
    {
      "cell_type": "markdown",
      "metadata": {
        "id": "ZrxVaUj-hHfC"
      },
      "source": [
        "1.   Well-structured, formatted, and commented code is required.\n",
        "2.   Exception Handling, Production Grade Code & Deployment Ready Code will be a plus. Those students will be awarded some additional credits.\n",
        "     \n",
        "     The additional credits will have advantages over other students during Star Student selection.\n",
        "       \n",
        "             [ Note: - Deployment Ready Code is defined as, the whole .ipynb notebook should be executable in one go\n",
        "                       without a single error logged. ]\n",
        "\n",
        "3.   Each and every logic should have proper comments.\n",
        "4. You may add as many number of charts you want. Make Sure for each and every chart the following format should be answered.\n",
        "        \n",
        "\n",
        "```\n",
        "# Chart visualization code\n",
        "```\n",
        "            \n",
        "\n",
        "*   Why did you pick the specific chart?\n",
        "*   What is/are the insight(s) found from the chart?\n",
        "* Will the gained insights help creating a positive business impact?\n",
        "Are there any insights that lead to negative growth? Justify with specific reason.\n",
        "\n",
        "5. You have to create at least 20 logical & meaningful charts having important insights.\n",
        "\n",
        "\n",
        "[ Hints : - Do the Vizualization in  a structured way while following \"UBM\" Rule.\n",
        "\n",
        "U - Univariate Analysis,\n",
        "\n",
        "B - Bivariate Analysis (Numerical - Categorical, Numerical - Numerical, Categorical - Categorical)\n",
        "\n",
        "M - Multivariate Analysis\n",
        " ]\n",
        "\n",
        "\n",
        "\n"
      ]
    },
    {
      "cell_type": "markdown",
      "metadata": {
        "id": "HhfV-JJviCcP"
      },
      "source": [
        "## ***1. Know Your Data***"
      ]
    },
    {
      "cell_type": "markdown",
      "metadata": {
        "id": "Y3lxredqlCYt"
      },
      "source": [
        "### Import Libraries"
      ]
    },
    {
      "cell_type": "code",
      "execution_count": 1,
      "metadata": {
        "id": "M8Vqi-pPk-HR"
      },
      "outputs": [],
      "source": [
        "# Import Libraries\n",
        "\n",
        "# Import Libraries\n",
        "import numpy as np\n",
        "'''While it wasn't explicitly used in the subsequent cells you've executed so far, it's a common practice to import it at the beginning of data analysis projects as it provides support for large,\n",
        "multi-dimensional arrays and matrices, along with a large collection of high-level mathematical functions to operate on these arrays.\n",
        "It's likely included as a standard import for potential future use in numerical operations or data manipulation within the notebook.'''\n",
        "import pandas as pd\n",
        "import matplotlib.pyplot as plt\n",
        "import seaborn as sns  #Perfect for correlation heatmaps, pair plots, distribution plots, and boxplots with minimal code.\n",
        "from datetime import datetime\n",
        "import warnings\n",
        "warnings.filterwarnings('ignore')"
      ]
    },
    {
      "cell_type": "markdown",
      "metadata": {
        "id": "3RnN4peoiCZX"
      },
      "source": [
        "### Dataset Loading"
      ]
    },
    {
      "cell_type": "markdown",
      "metadata": {
        "id": "PolkE9D4rQd-"
      },
      "source": []
    },
    {
      "cell_type": "code",
      "execution_count": 3,
      "metadata": {
        "id": "4CkvbW_SlZ_R"
      },
      "outputs": [],
      "source": [
        "# Load Dataset\n",
        "\n",
        "credits_csv = pd.read_csv('credits.csv.zip')\n",
        "titles_csv = pd.read_csv('titles.csv.zip')\n",
        "\n",
        "merged_df = pd.merge(titles_csv, credits_csv, on='id',how = 'left')\n"
      ]
    },
    {
      "cell_type": "markdown",
      "metadata": {
        "id": "x71ZqKXriCWQ"
      },
      "source": [
        "### Dataset First View"
      ]
    },
    {
      "cell_type": "code",
      "execution_count": 4,
      "metadata": {
        "id": "LWNFOSvLl09H"
      },
      "outputs": [
        {
          "data": {
            "text/html": [
              "<div>\n",
              "<style scoped>\n",
              "    .dataframe tbody tr th:only-of-type {\n",
              "        vertical-align: middle;\n",
              "    }\n",
              "\n",
              "    .dataframe tbody tr th {\n",
              "        vertical-align: top;\n",
              "    }\n",
              "\n",
              "    .dataframe thead th {\n",
              "        text-align: right;\n",
              "    }\n",
              "</style>\n",
              "<table border=\"1\" class=\"dataframe\">\n",
              "  <thead>\n",
              "    <tr style=\"text-align: right;\">\n",
              "      <th></th>\n",
              "      <th>id</th>\n",
              "      <th>title</th>\n",
              "      <th>type</th>\n",
              "      <th>description</th>\n",
              "      <th>release_year</th>\n",
              "      <th>age_certification</th>\n",
              "      <th>runtime</th>\n",
              "      <th>genres</th>\n",
              "      <th>production_countries</th>\n",
              "      <th>seasons</th>\n",
              "      <th>imdb_id</th>\n",
              "      <th>imdb_score</th>\n",
              "      <th>imdb_votes</th>\n",
              "      <th>tmdb_popularity</th>\n",
              "      <th>tmdb_score</th>\n",
              "      <th>person_id</th>\n",
              "      <th>name</th>\n",
              "      <th>character</th>\n",
              "      <th>role</th>\n",
              "    </tr>\n",
              "  </thead>\n",
              "  <tbody>\n",
              "    <tr>\n",
              "      <th>0</th>\n",
              "      <td>ts20945</td>\n",
              "      <td>The Three Stooges</td>\n",
              "      <td>SHOW</td>\n",
              "      <td>The Three Stooges were an American vaudeville ...</td>\n",
              "      <td>1934</td>\n",
              "      <td>TV-PG</td>\n",
              "      <td>19</td>\n",
              "      <td>['comedy', 'family', 'animation', 'action', 'f...</td>\n",
              "      <td>['US']</td>\n",
              "      <td>26.0</td>\n",
              "      <td>tt0850645</td>\n",
              "      <td>8.6</td>\n",
              "      <td>1092.0</td>\n",
              "      <td>15.424</td>\n",
              "      <td>7.6</td>\n",
              "      <td>59401.0</td>\n",
              "      <td>Joe Besser</td>\n",
              "      <td>Joe</td>\n",
              "      <td>ACTOR</td>\n",
              "    </tr>\n",
              "    <tr>\n",
              "      <th>1</th>\n",
              "      <td>ts20945</td>\n",
              "      <td>The Three Stooges</td>\n",
              "      <td>SHOW</td>\n",
              "      <td>The Three Stooges were an American vaudeville ...</td>\n",
              "      <td>1934</td>\n",
              "      <td>TV-PG</td>\n",
              "      <td>19</td>\n",
              "      <td>['comedy', 'family', 'animation', 'action', 'f...</td>\n",
              "      <td>['US']</td>\n",
              "      <td>26.0</td>\n",
              "      <td>tt0850645</td>\n",
              "      <td>8.6</td>\n",
              "      <td>1092.0</td>\n",
              "      <td>15.424</td>\n",
              "      <td>7.6</td>\n",
              "      <td>31460.0</td>\n",
              "      <td>Moe Howard</td>\n",
              "      <td>Moe</td>\n",
              "      <td>ACTOR</td>\n",
              "    </tr>\n",
              "    <tr>\n",
              "      <th>2</th>\n",
              "      <td>ts20945</td>\n",
              "      <td>The Three Stooges</td>\n",
              "      <td>SHOW</td>\n",
              "      <td>The Three Stooges were an American vaudeville ...</td>\n",
              "      <td>1934</td>\n",
              "      <td>TV-PG</td>\n",
              "      <td>19</td>\n",
              "      <td>['comedy', 'family', 'animation', 'action', 'f...</td>\n",
              "      <td>['US']</td>\n",
              "      <td>26.0</td>\n",
              "      <td>tt0850645</td>\n",
              "      <td>8.6</td>\n",
              "      <td>1092.0</td>\n",
              "      <td>15.424</td>\n",
              "      <td>7.6</td>\n",
              "      <td>31461.0</td>\n",
              "      <td>Larry Fine</td>\n",
              "      <td>Larry</td>\n",
              "      <td>ACTOR</td>\n",
              "    </tr>\n",
              "    <tr>\n",
              "      <th>3</th>\n",
              "      <td>tm19248</td>\n",
              "      <td>The General</td>\n",
              "      <td>MOVIE</td>\n",
              "      <td>During America’s Civil War, Union spies steal ...</td>\n",
              "      <td>1926</td>\n",
              "      <td>NaN</td>\n",
              "      <td>78</td>\n",
              "      <td>['action', 'drama', 'war', 'western', 'comedy'...</td>\n",
              "      <td>['US']</td>\n",
              "      <td>NaN</td>\n",
              "      <td>tt0017925</td>\n",
              "      <td>8.2</td>\n",
              "      <td>89766.0</td>\n",
              "      <td>8.647</td>\n",
              "      <td>8.0</td>\n",
              "      <td>21174.0</td>\n",
              "      <td>Buster Keaton</td>\n",
              "      <td>Johnny Gray</td>\n",
              "      <td>ACTOR</td>\n",
              "    </tr>\n",
              "    <tr>\n",
              "      <th>4</th>\n",
              "      <td>tm19248</td>\n",
              "      <td>The General</td>\n",
              "      <td>MOVIE</td>\n",
              "      <td>During America’s Civil War, Union spies steal ...</td>\n",
              "      <td>1926</td>\n",
              "      <td>NaN</td>\n",
              "      <td>78</td>\n",
              "      <td>['action', 'drama', 'war', 'western', 'comedy'...</td>\n",
              "      <td>['US']</td>\n",
              "      <td>NaN</td>\n",
              "      <td>tt0017925</td>\n",
              "      <td>8.2</td>\n",
              "      <td>89766.0</td>\n",
              "      <td>8.647</td>\n",
              "      <td>8.0</td>\n",
              "      <td>28713.0</td>\n",
              "      <td>Marion Mack</td>\n",
              "      <td>Annabelle Lee</td>\n",
              "      <td>ACTOR</td>\n",
              "    </tr>\n",
              "  </tbody>\n",
              "</table>\n",
              "</div>"
            ],
            "text/plain": [
              "        id              title   type  \\\n",
              "0  ts20945  The Three Stooges   SHOW   \n",
              "1  ts20945  The Three Stooges   SHOW   \n",
              "2  ts20945  The Three Stooges   SHOW   \n",
              "3  tm19248        The General  MOVIE   \n",
              "4  tm19248        The General  MOVIE   \n",
              "\n",
              "                                         description  release_year  \\\n",
              "0  The Three Stooges were an American vaudeville ...          1934   \n",
              "1  The Three Stooges were an American vaudeville ...          1934   \n",
              "2  The Three Stooges were an American vaudeville ...          1934   \n",
              "3  During America’s Civil War, Union spies steal ...          1926   \n",
              "4  During America’s Civil War, Union spies steal ...          1926   \n",
              "\n",
              "  age_certification  runtime  \\\n",
              "0             TV-PG       19   \n",
              "1             TV-PG       19   \n",
              "2             TV-PG       19   \n",
              "3               NaN       78   \n",
              "4               NaN       78   \n",
              "\n",
              "                                              genres production_countries  \\\n",
              "0  ['comedy', 'family', 'animation', 'action', 'f...               ['US']   \n",
              "1  ['comedy', 'family', 'animation', 'action', 'f...               ['US']   \n",
              "2  ['comedy', 'family', 'animation', 'action', 'f...               ['US']   \n",
              "3  ['action', 'drama', 'war', 'western', 'comedy'...               ['US']   \n",
              "4  ['action', 'drama', 'war', 'western', 'comedy'...               ['US']   \n",
              "\n",
              "   seasons    imdb_id  imdb_score  imdb_votes  tmdb_popularity  tmdb_score  \\\n",
              "0     26.0  tt0850645         8.6      1092.0           15.424         7.6   \n",
              "1     26.0  tt0850645         8.6      1092.0           15.424         7.6   \n",
              "2     26.0  tt0850645         8.6      1092.0           15.424         7.6   \n",
              "3      NaN  tt0017925         8.2     89766.0            8.647         8.0   \n",
              "4      NaN  tt0017925         8.2     89766.0            8.647         8.0   \n",
              "\n",
              "   person_id           name      character   role  \n",
              "0    59401.0     Joe Besser            Joe  ACTOR  \n",
              "1    31460.0     Moe Howard            Moe  ACTOR  \n",
              "2    31461.0     Larry Fine          Larry  ACTOR  \n",
              "3    21174.0  Buster Keaton    Johnny Gray  ACTOR  \n",
              "4    28713.0    Marion Mack  Annabelle Lee  ACTOR  "
            ]
          },
          "execution_count": 4,
          "metadata": {},
          "output_type": "execute_result"
        }
      ],
      "source": [
        "# Dataset First Look\n",
        "merged_df.head()"
      ]
    },
    {
      "cell_type": "code",
      "execution_count": 5,
      "metadata": {
        "id": "24JKzZ9SxB2S"
      },
      "outputs": [
        {
          "data": {
            "text/html": [
              "<div>\n",
              "<style scoped>\n",
              "    .dataframe tbody tr th:only-of-type {\n",
              "        vertical-align: middle;\n",
              "    }\n",
              "\n",
              "    .dataframe tbody tr th {\n",
              "        vertical-align: top;\n",
              "    }\n",
              "\n",
              "    .dataframe thead th {\n",
              "        text-align: right;\n",
              "    }\n",
              "</style>\n",
              "<table border=\"1\" class=\"dataframe\">\n",
              "  <thead>\n",
              "    <tr style=\"text-align: right;\">\n",
              "      <th></th>\n",
              "      <th>id</th>\n",
              "      <th>title</th>\n",
              "      <th>type</th>\n",
              "      <th>description</th>\n",
              "      <th>release_year</th>\n",
              "      <th>age_certification</th>\n",
              "      <th>runtime</th>\n",
              "      <th>genres</th>\n",
              "      <th>production_countries</th>\n",
              "      <th>seasons</th>\n",
              "      <th>imdb_id</th>\n",
              "      <th>imdb_score</th>\n",
              "      <th>imdb_votes</th>\n",
              "      <th>tmdb_popularity</th>\n",
              "      <th>tmdb_score</th>\n",
              "      <th>person_id</th>\n",
              "      <th>name</th>\n",
              "      <th>character</th>\n",
              "      <th>role</th>\n",
              "    </tr>\n",
              "  </thead>\n",
              "  <tbody>\n",
              "    <tr>\n",
              "      <th>125349</th>\n",
              "      <td>tm1054116</td>\n",
              "      <td>Baikunth</td>\n",
              "      <td>MOVIE</td>\n",
              "      <td>This story is about prevalent caste problem, e...</td>\n",
              "      <td>2021</td>\n",
              "      <td>NaN</td>\n",
              "      <td>72</td>\n",
              "      <td>['family', 'drama']</td>\n",
              "      <td>[]</td>\n",
              "      <td>NaN</td>\n",
              "      <td>tt14331982</td>\n",
              "      <td>8.4</td>\n",
              "      <td>49.0</td>\n",
              "      <td>0.645</td>\n",
              "      <td>NaN</td>\n",
              "      <td>1938565.0</td>\n",
              "      <td>Vijay Thakur</td>\n",
              "      <td>Sanjay Thakur</td>\n",
              "      <td>ACTOR</td>\n",
              "    </tr>\n",
              "    <tr>\n",
              "      <th>125350</th>\n",
              "      <td>tm1054116</td>\n",
              "      <td>Baikunth</td>\n",
              "      <td>MOVIE</td>\n",
              "      <td>This story is about prevalent caste problem, e...</td>\n",
              "      <td>2021</td>\n",
              "      <td>NaN</td>\n",
              "      <td>72</td>\n",
              "      <td>['family', 'drama']</td>\n",
              "      <td>[]</td>\n",
              "      <td>NaN</td>\n",
              "      <td>tt14331982</td>\n",
              "      <td>8.4</td>\n",
              "      <td>49.0</td>\n",
              "      <td>0.645</td>\n",
              "      <td>NaN</td>\n",
              "      <td>728899.0</td>\n",
              "      <td>Vanya Wellens</td>\n",
              "      <td>Budhiya</td>\n",
              "      <td>ACTOR</td>\n",
              "    </tr>\n",
              "    <tr>\n",
              "      <th>125351</th>\n",
              "      <td>tm1054116</td>\n",
              "      <td>Baikunth</td>\n",
              "      <td>MOVIE</td>\n",
              "      <td>This story is about prevalent caste problem, e...</td>\n",
              "      <td>2021</td>\n",
              "      <td>NaN</td>\n",
              "      <td>72</td>\n",
              "      <td>['family', 'drama']</td>\n",
              "      <td>[]</td>\n",
              "      <td>NaN</td>\n",
              "      <td>tt14331982</td>\n",
              "      <td>8.4</td>\n",
              "      <td>49.0</td>\n",
              "      <td>0.645</td>\n",
              "      <td>NaN</td>\n",
              "      <td>1938620.0</td>\n",
              "      <td>Vishwa Bhanu</td>\n",
              "      <td>Gissu</td>\n",
              "      <td>ACTOR</td>\n",
              "    </tr>\n",
              "    <tr>\n",
              "      <th>125352</th>\n",
              "      <td>tm1054116</td>\n",
              "      <td>Baikunth</td>\n",
              "      <td>MOVIE</td>\n",
              "      <td>This story is about prevalent caste problem, e...</td>\n",
              "      <td>2021</td>\n",
              "      <td>NaN</td>\n",
              "      <td>72</td>\n",
              "      <td>['family', 'drama']</td>\n",
              "      <td>[]</td>\n",
              "      <td>NaN</td>\n",
              "      <td>tt14331982</td>\n",
              "      <td>8.4</td>\n",
              "      <td>49.0</td>\n",
              "      <td>0.645</td>\n",
              "      <td>NaN</td>\n",
              "      <td>1938620.0</td>\n",
              "      <td>Vishwa Bhanu</td>\n",
              "      <td>NaN</td>\n",
              "      <td>DIRECTOR</td>\n",
              "    </tr>\n",
              "    <tr>\n",
              "      <th>125353</th>\n",
              "      <td>ts275838</td>\n",
              "      <td>Waking Up Eighty</td>\n",
              "      <td>SHOW</td>\n",
              "      <td>Kara Stewart, 16, is fed up with just about ev...</td>\n",
              "      <td>2021</td>\n",
              "      <td>NaN</td>\n",
              "      <td>10</td>\n",
              "      <td>['drama']</td>\n",
              "      <td>[]</td>\n",
              "      <td>1.0</td>\n",
              "      <td>tt13542552</td>\n",
              "      <td>NaN</td>\n",
              "      <td>NaN</td>\n",
              "      <td>NaN</td>\n",
              "      <td>NaN</td>\n",
              "      <td>NaN</td>\n",
              "      <td>NaN</td>\n",
              "      <td>NaN</td>\n",
              "      <td>NaN</td>\n",
              "    </tr>\n",
              "  </tbody>\n",
              "</table>\n",
              "</div>"
            ],
            "text/plain": [
              "               id             title   type  \\\n",
              "125349  tm1054116          Baikunth  MOVIE   \n",
              "125350  tm1054116          Baikunth  MOVIE   \n",
              "125351  tm1054116          Baikunth  MOVIE   \n",
              "125352  tm1054116          Baikunth  MOVIE   \n",
              "125353   ts275838  Waking Up Eighty   SHOW   \n",
              "\n",
              "                                              description  release_year  \\\n",
              "125349  This story is about prevalent caste problem, e...          2021   \n",
              "125350  This story is about prevalent caste problem, e...          2021   \n",
              "125351  This story is about prevalent caste problem, e...          2021   \n",
              "125352  This story is about prevalent caste problem, e...          2021   \n",
              "125353  Kara Stewart, 16, is fed up with just about ev...          2021   \n",
              "\n",
              "       age_certification  runtime               genres production_countries  \\\n",
              "125349               NaN       72  ['family', 'drama']                   []   \n",
              "125350               NaN       72  ['family', 'drama']                   []   \n",
              "125351               NaN       72  ['family', 'drama']                   []   \n",
              "125352               NaN       72  ['family', 'drama']                   []   \n",
              "125353               NaN       10            ['drama']                   []   \n",
              "\n",
              "        seasons     imdb_id  imdb_score  imdb_votes  tmdb_popularity  \\\n",
              "125349      NaN  tt14331982         8.4        49.0            0.645   \n",
              "125350      NaN  tt14331982         8.4        49.0            0.645   \n",
              "125351      NaN  tt14331982         8.4        49.0            0.645   \n",
              "125352      NaN  tt14331982         8.4        49.0            0.645   \n",
              "125353      1.0  tt13542552         NaN         NaN              NaN   \n",
              "\n",
              "        tmdb_score  person_id           name      character      role  \n",
              "125349         NaN  1938565.0   Vijay Thakur  Sanjay Thakur     ACTOR  \n",
              "125350         NaN   728899.0  Vanya Wellens        Budhiya     ACTOR  \n",
              "125351         NaN  1938620.0   Vishwa Bhanu          Gissu     ACTOR  \n",
              "125352         NaN  1938620.0   Vishwa Bhanu            NaN  DIRECTOR  \n",
              "125353         NaN        NaN            NaN            NaN       NaN  "
            ]
          },
          "execution_count": 5,
          "metadata": {},
          "output_type": "execute_result"
        }
      ],
      "source": [
        "merged_df.tail()"
      ]
    },
    {
      "cell_type": "markdown",
      "metadata": {
        "id": "7hBIi_osiCS2"
      },
      "source": [
        "### Dataset Rows & Columns count"
      ]
    },
    {
      "cell_type": "code",
      "execution_count": 6,
      "metadata": {
        "id": "Kllu7SJgmLij"
      },
      "outputs": [
        {
          "data": {
            "text/plain": [
              "(125354, 19)"
            ]
          },
          "execution_count": 6,
          "metadata": {},
          "output_type": "execute_result"
        }
      ],
      "source": [
        "# Dataset Rows & Columns count\n",
        "\n",
        "merged_df.shape\n",
        "\n",
        "\n"
      ]
    },
    {
      "cell_type": "code",
      "execution_count": 7,
      "metadata": {
        "id": "moeVXSEBz49x"
      },
      "outputs": [
        {
          "data": {
            "text/plain": [
              "125354"
            ]
          },
          "execution_count": 7,
          "metadata": {},
          "output_type": "execute_result"
        }
      ],
      "source": [
        "len(merged_df) #to find number of rows"
      ]
    },
    {
      "cell_type": "markdown",
      "metadata": {
        "id": "JlHwYmJAmNHm"
      },
      "source": [
        "### Dataset Information"
      ]
    },
    {
      "cell_type": "code",
      "execution_count": 8,
      "metadata": {
        "id": "e9hRXRi6meOf"
      },
      "outputs": [
        {
          "name": "stdout",
          "output_type": "stream",
          "text": [
            "<class 'pandas.core.frame.DataFrame'>\n",
            "RangeIndex: 125354 entries, 0 to 125353\n",
            "Data columns (total 19 columns):\n",
            " #   Column                Non-Null Count   Dtype  \n",
            "---  ------                --------------   -----  \n",
            " 0   id                    125354 non-null  object \n",
            " 1   title                 125354 non-null  object \n",
            " 2   type                  125354 non-null  object \n",
            " 3   description           125163 non-null  object \n",
            " 4   release_year          125354 non-null  int64  \n",
            " 5   age_certification     56857 non-null   object \n",
            " 6   runtime               125354 non-null  int64  \n",
            " 7   genres                125354 non-null  object \n",
            " 8   production_countries  125354 non-null  object \n",
            " 9   seasons               8501 non-null    float64\n",
            " 10  imdb_id               119978 non-null  object \n",
            " 11  imdb_score            118987 non-null  float64\n",
            " 12  imdb_votes            118957 non-null  float64\n",
            " 13  tmdb_popularity       124800 non-null  float64\n",
            " 14  tmdb_score            114263 non-null  float64\n",
            " 15  person_id             124347 non-null  float64\n",
            " 16  name                  124347 non-null  object \n",
            " 17  character             108040 non-null  object \n",
            " 18  role                  124347 non-null  object \n",
            "dtypes: float64(6), int64(2), object(11)\n",
            "memory usage: 18.2+ MB\n"
          ]
        }
      ],
      "source": [
        "# Dataset Info\n",
        "\n",
        "merged_df.info()"
      ]
    },
    {
      "cell_type": "markdown",
      "metadata": {
        "id": "35m5QtbWiB9F"
      },
      "source": [
        "#### Duplicate Values"
      ]
    },
    {
      "cell_type": "code",
      "execution_count": 9,
      "metadata": {
        "id": "1sLdpKYkmox0"
      },
      "outputs": [
        {
          "name": "stdout",
          "output_type": "stream",
          "text": [
            "Number of duplicate rows in merged_df: 168\n"
          ]
        }
      ],
      "source": [
        "# Dataset Duplicate Value Count\n",
        "\n",
        "duplicate_values = merged_df.duplicated().sum()\n",
        "print(f\"Number of duplicate rows in merged_df: {duplicate_values}\")"
      ]
    },
    {
      "cell_type": "code",
      "execution_count": 10,
      "metadata": {
        "id": "ut1K0gpm0sLI"
      },
      "outputs": [
        {
          "data": {
            "text/html": [
              "<div>\n",
              "<style scoped>\n",
              "    .dataframe tbody tr th:only-of-type {\n",
              "        vertical-align: middle;\n",
              "    }\n",
              "\n",
              "    .dataframe tbody tr th {\n",
              "        vertical-align: top;\n",
              "    }\n",
              "\n",
              "    .dataframe thead th {\n",
              "        text-align: right;\n",
              "    }\n",
              "</style>\n",
              "<table border=\"1\" class=\"dataframe\">\n",
              "  <thead>\n",
              "    <tr style=\"text-align: right;\">\n",
              "      <th></th>\n",
              "      <th>id</th>\n",
              "      <th>title</th>\n",
              "      <th>type</th>\n",
              "      <th>description</th>\n",
              "      <th>release_year</th>\n",
              "      <th>age_certification</th>\n",
              "      <th>runtime</th>\n",
              "      <th>genres</th>\n",
              "      <th>production_countries</th>\n",
              "      <th>seasons</th>\n",
              "      <th>imdb_id</th>\n",
              "      <th>imdb_score</th>\n",
              "      <th>imdb_votes</th>\n",
              "      <th>tmdb_popularity</th>\n",
              "      <th>tmdb_score</th>\n",
              "      <th>person_id</th>\n",
              "      <th>name</th>\n",
              "      <th>character</th>\n",
              "      <th>role</th>\n",
              "    </tr>\n",
              "  </thead>\n",
              "  <tbody>\n",
              "    <tr>\n",
              "      <th>9158</th>\n",
              "      <td>tm89134</td>\n",
              "      <td>The Gunman From Bodie</td>\n",
              "      <td>MOVIE</td>\n",
              "      <td>The Rough Riders are after a gang of rustlers....</td>\n",
              "      <td>1941</td>\n",
              "      <td>NaN</td>\n",
              "      <td>62</td>\n",
              "      <td>['western']</td>\n",
              "      <td>['US']</td>\n",
              "      <td>NaN</td>\n",
              "      <td>tt0033683</td>\n",
              "      <td>5.9</td>\n",
              "      <td>133.0</td>\n",
              "      <td>0.991</td>\n",
              "      <td>7.0</td>\n",
              "      <td>130904.0</td>\n",
              "      <td>Buck Jones</td>\n",
              "      <td>Buck Roberts</td>\n",
              "      <td>ACTOR</td>\n",
              "    </tr>\n",
              "    <tr>\n",
              "      <th>9159</th>\n",
              "      <td>tm89134</td>\n",
              "      <td>The Gunman From Bodie</td>\n",
              "      <td>MOVIE</td>\n",
              "      <td>The Rough Riders are after a gang of rustlers....</td>\n",
              "      <td>1941</td>\n",
              "      <td>NaN</td>\n",
              "      <td>62</td>\n",
              "      <td>['western']</td>\n",
              "      <td>['US']</td>\n",
              "      <td>NaN</td>\n",
              "      <td>tt0033683</td>\n",
              "      <td>5.9</td>\n",
              "      <td>133.0</td>\n",
              "      <td>0.991</td>\n",
              "      <td>7.0</td>\n",
              "      <td>36589.0</td>\n",
              "      <td>Tim McCoy</td>\n",
              "      <td>Marshal McCall</td>\n",
              "      <td>ACTOR</td>\n",
              "    </tr>\n",
              "    <tr>\n",
              "      <th>9160</th>\n",
              "      <td>tm89134</td>\n",
              "      <td>The Gunman From Bodie</td>\n",
              "      <td>MOVIE</td>\n",
              "      <td>The Rough Riders are after a gang of rustlers....</td>\n",
              "      <td>1941</td>\n",
              "      <td>NaN</td>\n",
              "      <td>62</td>\n",
              "      <td>['western']</td>\n",
              "      <td>['US']</td>\n",
              "      <td>NaN</td>\n",
              "      <td>tt0033683</td>\n",
              "      <td>5.9</td>\n",
              "      <td>133.0</td>\n",
              "      <td>0.991</td>\n",
              "      <td>7.0</td>\n",
              "      <td>130905.0</td>\n",
              "      <td>Raymond Hatton</td>\n",
              "      <td>Sandy</td>\n",
              "      <td>ACTOR</td>\n",
              "    </tr>\n",
              "    <tr>\n",
              "      <th>9161</th>\n",
              "      <td>tm89134</td>\n",
              "      <td>The Gunman From Bodie</td>\n",
              "      <td>MOVIE</td>\n",
              "      <td>The Rough Riders are after a gang of rustlers....</td>\n",
              "      <td>1941</td>\n",
              "      <td>NaN</td>\n",
              "      <td>62</td>\n",
              "      <td>['western']</td>\n",
              "      <td>['US']</td>\n",
              "      <td>NaN</td>\n",
              "      <td>tt0033683</td>\n",
              "      <td>5.9</td>\n",
              "      <td>133.0</td>\n",
              "      <td>0.991</td>\n",
              "      <td>7.0</td>\n",
              "      <td>132916.0</td>\n",
              "      <td>Christine McIntyre</td>\n",
              "      <td>Alice Borden</td>\n",
              "      <td>ACTOR</td>\n",
              "    </tr>\n",
              "    <tr>\n",
              "      <th>9162</th>\n",
              "      <td>tm89134</td>\n",
              "      <td>The Gunman From Bodie</td>\n",
              "      <td>MOVIE</td>\n",
              "      <td>The Rough Riders are after a gang of rustlers....</td>\n",
              "      <td>1941</td>\n",
              "      <td>NaN</td>\n",
              "      <td>62</td>\n",
              "      <td>['western']</td>\n",
              "      <td>['US']</td>\n",
              "      <td>NaN</td>\n",
              "      <td>tt0033683</td>\n",
              "      <td>5.9</td>\n",
              "      <td>133.0</td>\n",
              "      <td>0.991</td>\n",
              "      <td>7.0</td>\n",
              "      <td>132381.0</td>\n",
              "      <td>Dave O'Brien</td>\n",
              "      <td>Joe Martin</td>\n",
              "      <td>ACTOR</td>\n",
              "    </tr>\n",
              "  </tbody>\n",
              "</table>\n",
              "</div>"
            ],
            "text/plain": [
              "           id                  title   type  \\\n",
              "9158  tm89134  The Gunman From Bodie  MOVIE   \n",
              "9159  tm89134  The Gunman From Bodie  MOVIE   \n",
              "9160  tm89134  The Gunman From Bodie  MOVIE   \n",
              "9161  tm89134  The Gunman From Bodie  MOVIE   \n",
              "9162  tm89134  The Gunman From Bodie  MOVIE   \n",
              "\n",
              "                                            description  release_year  \\\n",
              "9158  The Rough Riders are after a gang of rustlers....          1941   \n",
              "9159  The Rough Riders are after a gang of rustlers....          1941   \n",
              "9160  The Rough Riders are after a gang of rustlers....          1941   \n",
              "9161  The Rough Riders are after a gang of rustlers....          1941   \n",
              "9162  The Rough Riders are after a gang of rustlers....          1941   \n",
              "\n",
              "     age_certification  runtime       genres production_countries  seasons  \\\n",
              "9158               NaN       62  ['western']               ['US']      NaN   \n",
              "9159               NaN       62  ['western']               ['US']      NaN   \n",
              "9160               NaN       62  ['western']               ['US']      NaN   \n",
              "9161               NaN       62  ['western']               ['US']      NaN   \n",
              "9162               NaN       62  ['western']               ['US']      NaN   \n",
              "\n",
              "        imdb_id  imdb_score  imdb_votes  tmdb_popularity  tmdb_score  \\\n",
              "9158  tt0033683         5.9       133.0            0.991         7.0   \n",
              "9159  tt0033683         5.9       133.0            0.991         7.0   \n",
              "9160  tt0033683         5.9       133.0            0.991         7.0   \n",
              "9161  tt0033683         5.9       133.0            0.991         7.0   \n",
              "9162  tt0033683         5.9       133.0            0.991         7.0   \n",
              "\n",
              "      person_id                name       character   role  \n",
              "9158   130904.0          Buck Jones    Buck Roberts  ACTOR  \n",
              "9159    36589.0           Tim McCoy  Marshal McCall  ACTOR  \n",
              "9160   130905.0      Raymond Hatton           Sandy  ACTOR  \n",
              "9161   132916.0  Christine McIntyre    Alice Borden  ACTOR  \n",
              "9162   132381.0        Dave O'Brien      Joe Martin  ACTOR  "
            ]
          },
          "execution_count": 10,
          "metadata": {},
          "output_type": "execute_result"
        }
      ],
      "source": [
        "merged_df[merged_df.duplicated()].head()"
      ]
    },
    {
      "cell_type": "code",
      "execution_count": 11,
      "metadata": {
        "id": "C2PvoJjv3MvL"
      },
      "outputs": [],
      "source": [
        "merged_df = merged_df.drop_duplicates()"
      ]
    },
    {
      "cell_type": "code",
      "execution_count": 12,
      "metadata": {
        "id": "ahG3uE104fsG"
      },
      "outputs": [
        {
          "data": {
            "text/plain": [
              "(125186, 19)"
            ]
          },
          "execution_count": 12,
          "metadata": {},
          "output_type": "execute_result"
        }
      ],
      "source": [
        "merged_df.shape"
      ]
    },
    {
      "cell_type": "markdown",
      "metadata": {
        "id": "PoPl-ycgm1ru"
      },
      "source": [
        "#### Missing Values/Null Values"
      ]
    },
    {
      "cell_type": "code",
      "execution_count": 13,
      "metadata": {
        "id": "GgHWkxvamxVg"
      },
      "outputs": [
        {
          "data": {
            "text/plain": [
              "id                           0\n",
              "title                        0\n",
              "type                         0\n",
              "description                191\n",
              "release_year                 0\n",
              "age_certification        68329\n",
              "runtime                      0\n",
              "genres                       0\n",
              "production_countries         0\n",
              "seasons                 116685\n",
              "imdb_id                   5376\n",
              "imdb_score                6367\n",
              "imdb_votes                6397\n",
              "tmdb_popularity            554\n",
              "tmdb_score               10995\n",
              "person_id                 1007\n",
              "name                      1007\n",
              "character                17284\n",
              "role                      1007\n",
              "dtype: int64"
            ]
          },
          "execution_count": 13,
          "metadata": {},
          "output_type": "execute_result"
        }
      ],
      "source": [
        "# Missing Values/Null Values Count\n",
        "\n",
        "merged_df.isnull().sum()"
      ]
    },
    {
      "cell_type": "markdown",
      "metadata": {
        "id": "H0kj-8xxnORC"
      },
      "source": [
        "### What did you know about your dataset?"
      ]
    },
    {
      "cell_type": "markdown",
      "metadata": {
        "id": "gfoNAAC-nUe_"
      },
      "source": [
        "Answer Here"
      ]
    },
    {
      "cell_type": "markdown",
      "metadata": {
        "id": "nA9Y7ga8ng1Z"
      },
      "source": [
        "## ***2. Understanding Your Variables***"
      ]
    },
    {
      "cell_type": "code",
      "execution_count": 14,
      "metadata": {
        "id": "j7xfkqrt5Ag5"
      },
      "outputs": [
        {
          "data": {
            "text/plain": [
              "Index(['id', 'title', 'type', 'description', 'release_year',\n",
              "       'age_certification', 'runtime', 'genres', 'production_countries',\n",
              "       'seasons', 'imdb_id', 'imdb_score', 'imdb_votes', 'tmdb_popularity',\n",
              "       'tmdb_score', 'person_id', 'name', 'character', 'role'],\n",
              "      dtype='object')"
            ]
          },
          "execution_count": 14,
          "metadata": {},
          "output_type": "execute_result"
        }
      ],
      "source": [
        "# Dataset Columns\n",
        "\n",
        "merged_df.columns"
      ]
    },
    {
      "cell_type": "code",
      "execution_count": 15,
      "metadata": {
        "id": "DnOaZdaE5Q5t"
      },
      "outputs": [
        {
          "data": {
            "text/html": [
              "<div>\n",
              "<style scoped>\n",
              "    .dataframe tbody tr th:only-of-type {\n",
              "        vertical-align: middle;\n",
              "    }\n",
              "\n",
              "    .dataframe tbody tr th {\n",
              "        vertical-align: top;\n",
              "    }\n",
              "\n",
              "    .dataframe thead th {\n",
              "        text-align: right;\n",
              "    }\n",
              "</style>\n",
              "<table border=\"1\" class=\"dataframe\">\n",
              "  <thead>\n",
              "    <tr style=\"text-align: right;\">\n",
              "      <th></th>\n",
              "      <th>release_year</th>\n",
              "      <th>runtime</th>\n",
              "      <th>seasons</th>\n",
              "      <th>imdb_score</th>\n",
              "      <th>imdb_votes</th>\n",
              "      <th>tmdb_popularity</th>\n",
              "      <th>tmdb_score</th>\n",
              "      <th>person_id</th>\n",
              "    </tr>\n",
              "  </thead>\n",
              "  <tbody>\n",
              "    <tr>\n",
              "      <th>count</th>\n",
              "      <td>125186.000000</td>\n",
              "      <td>125186.000000</td>\n",
              "      <td>8501.000000</td>\n",
              "      <td>118819.000000</td>\n",
              "      <td>1.187890e+05</td>\n",
              "      <td>124632.000000</td>\n",
              "      <td>114191.000000</td>\n",
              "      <td>1.241790e+05</td>\n",
              "    </tr>\n",
              "    <tr>\n",
              "      <th>mean</th>\n",
              "      <td>1996.448261</td>\n",
              "      <td>95.348018</td>\n",
              "      <td>2.335372</td>\n",
              "      <td>5.971401</td>\n",
              "      <td>2.314463e+04</td>\n",
              "      <td>10.147005</td>\n",
              "      <td>5.992442</td>\n",
              "      <td>4.065843e+05</td>\n",
              "    </tr>\n",
              "    <tr>\n",
              "      <th>std</th>\n",
              "      <td>27.703798</td>\n",
              "      <td>30.393953</td>\n",
              "      <td>3.164860</td>\n",
              "      <td>1.244669</td>\n",
              "      <td>8.822195e+04</td>\n",
              "      <td>40.692733</td>\n",
              "      <td>1.323075</td>\n",
              "      <td>5.617204e+05</td>\n",
              "    </tr>\n",
              "    <tr>\n",
              "      <th>min</th>\n",
              "      <td>1912.000000</td>\n",
              "      <td>1.000000</td>\n",
              "      <td>1.000000</td>\n",
              "      <td>1.100000</td>\n",
              "      <td>5.000000e+00</td>\n",
              "      <td>0.000011</td>\n",
              "      <td>0.800000</td>\n",
              "      <td>1.000000e+00</td>\n",
              "    </tr>\n",
              "    <tr>\n",
              "      <th>25%</th>\n",
              "      <td>1983.000000</td>\n",
              "      <td>83.000000</td>\n",
              "      <td>1.000000</td>\n",
              "      <td>5.200000</td>\n",
              "      <td>2.810000e+02</td>\n",
              "      <td>1.864000</td>\n",
              "      <td>5.300000</td>\n",
              "      <td>3.898850e+04</td>\n",
              "    </tr>\n",
              "    <tr>\n",
              "      <th>50%</th>\n",
              "      <td>2009.000000</td>\n",
              "      <td>93.000000</td>\n",
              "      <td>1.000000</td>\n",
              "      <td>6.100000</td>\n",
              "      <td>1.228000e+03</td>\n",
              "      <td>3.870000</td>\n",
              "      <td>6.100000</td>\n",
              "      <td>1.339490e+05</td>\n",
              "    </tr>\n",
              "    <tr>\n",
              "      <th>75%</th>\n",
              "      <td>2018.000000</td>\n",
              "      <td>109.000000</td>\n",
              "      <td>2.000000</td>\n",
              "      <td>6.800000</td>\n",
              "      <td>7.041000e+03</td>\n",
              "      <td>8.795000</td>\n",
              "      <td>6.800000</td>\n",
              "      <td>5.712810e+05</td>\n",
              "    </tr>\n",
              "    <tr>\n",
              "      <th>max</th>\n",
              "      <td>2022.000000</td>\n",
              "      <td>549.000000</td>\n",
              "      <td>51.000000</td>\n",
              "      <td>9.900000</td>\n",
              "      <td>1.133692e+06</td>\n",
              "      <td>1437.906000</td>\n",
              "      <td>10.000000</td>\n",
              "      <td>2.371153e+06</td>\n",
              "    </tr>\n",
              "  </tbody>\n",
              "</table>\n",
              "</div>"
            ],
            "text/plain": [
              "        release_year        runtime      seasons     imdb_score    imdb_votes  \\\n",
              "count  125186.000000  125186.000000  8501.000000  118819.000000  1.187890e+05   \n",
              "mean     1996.448261      95.348018     2.335372       5.971401  2.314463e+04   \n",
              "std        27.703798      30.393953     3.164860       1.244669  8.822195e+04   \n",
              "min      1912.000000       1.000000     1.000000       1.100000  5.000000e+00   \n",
              "25%      1983.000000      83.000000     1.000000       5.200000  2.810000e+02   \n",
              "50%      2009.000000      93.000000     1.000000       6.100000  1.228000e+03   \n",
              "75%      2018.000000     109.000000     2.000000       6.800000  7.041000e+03   \n",
              "max      2022.000000     549.000000    51.000000       9.900000  1.133692e+06   \n",
              "\n",
              "       tmdb_popularity     tmdb_score     person_id  \n",
              "count    124632.000000  114191.000000  1.241790e+05  \n",
              "mean         10.147005       5.992442  4.065843e+05  \n",
              "std          40.692733       1.323075  5.617204e+05  \n",
              "min           0.000011       0.800000  1.000000e+00  \n",
              "25%           1.864000       5.300000  3.898850e+04  \n",
              "50%           3.870000       6.100000  1.339490e+05  \n",
              "75%           8.795000       6.800000  5.712810e+05  \n",
              "max        1437.906000      10.000000  2.371153e+06  "
            ]
          },
          "execution_count": 15,
          "metadata": {},
          "output_type": "execute_result"
        }
      ],
      "source": [
        "# Dataset Describe\n",
        "\n",
        "merged_df.describe()"
      ]
    },
    {
      "cell_type": "markdown",
      "metadata": {
        "id": "PBTbrJXOngz2"
      },
      "source": [
        "### Variables Description"
      ]
    },
    {
      "cell_type": "markdown",
      "metadata": {
        "id": "aJV4KIxSnxay"
      },
      "source": [
        "Answer Here"
      ]
    },
    {
      "cell_type": "markdown",
      "metadata": {
        "id": "u3PMJOP6ngxN"
      },
      "source": [
        "### Check Unique Values for each variable."
      ]
    },
    {
      "cell_type": "code",
      "execution_count": 16,
      "metadata": {
        "id": "zms12Yq5n-jE"
      },
      "outputs": [
        {
          "name": "stdout",
          "output_type": "stream",
          "text": [
            "Unique values for id: ['ts20945' 'tm19248' 'tm82253' ... 'tm847725' 'tm1054116' 'ts275838']\n",
            "Unique values for title: ['The Three Stooges' 'The General' 'The Best Years of Our Lives' ...\n",
            " 'Chasing' 'Baikunth' 'Waking Up Eighty']\n",
            "Unique values for type: ['SHOW' 'MOVIE']\n",
            "Unique values for description: [\"The Three Stooges were an American vaudeville and comedy team active from 1922 until 1970, best known for their 190 short subject films by Columbia Pictures that have been regularly airing on television since 1958. Their hallmark was physical farce and slapstick. In films, the stooges were commonly known by their actual first names. There were a total of six stooges over the act's run (with only three active at any given time), but Moe Howard and Larry Fine were the mainstays throughout the ensemble's nearly fifty-year run.\"\n",
            " \"During America’s Civil War, Union spies steal engineer Johnnie Gray's beloved locomotive, 'The General'—with Johnnie's lady love aboard an attached boxcar—and he single-handedly must do all in his power to both get The General back and to rescue Annabelle.\"\n",
            " \"It's the hope that sustains the spirit of every GI: the dream of the day when he will finally return home. For three WWII veterans, the day has arrived. But for each man, the dream is about to become a nightmare.\"\n",
            " ...\n",
            " 'A cop from Chennai sets out to nab a dreaded drug racket based out of Malaysia.'\n",
            " 'This story is about prevalent caste problem, economical inequality & degraded family values among villages in India.'\n",
            " \"Kara Stewart, 16, is fed up with just about everything, especially her mom's annoying new husband. After a fight, she runs away. But, things quickly change when she gets hit by a car and wakes up in a nursing home at the age of 80.\"]\n",
            "Unique values for release_year: [1934 1926 1946 1940 1950 1939 1945 1936 1916 1925 1938 1932 1944 1928\n",
            " 1941 1937 1942 1924 1947 1943 1931 1933 1923 1949 1948 1919 1920 1921\n",
            " 1922 1927 1935 1915 1918 1929 1914 1930 1912 1917 1974 1951 1976 1980\n",
            " 1968 1975 1960 1971 1978 1979 1977 1973 1955 1972 1963 1965 1957 1952\n",
            " 1966 1953 1961 1962 1964 1958 1970 1969 1959 1956 1954 1967 1989 1984\n",
            " 1988 1981 1986 1983 1990 1987 1985 1982 1992 1999 2000 1997 1993 1996\n",
            " 1995 1998 1994 1991 2004 2010 2005 2001 2006 2009 2008 2002 2003 2007\n",
            " 2012 2011 2013 2014 2015 2016 2018 2017 2020 2019 2022 2021]\n",
            "Unique values for age_certification: ['TV-PG' nan 'PG' 'G' 'PG-13' 'R' 'TV-G' 'TV-Y' 'TV-14' 'NC-17' 'TV-Y7'\n",
            " 'TV-MA']\n",
            "Unique values for runtime: [ 19  78 171  92  94  96 130  66  95  57 197 101  63 104  99  70 115 106\n",
            " 100 128  89 112 103 149  83  88 109  90  93  76 105 102 120 122 116  67\n",
            "  80 123 134  69 113  86  53 110  61  77 118 119  79  75 150  58 133  56\n",
            "  45 108  38 111 258  68  30  73  98  72  32  84  64  81  87  74 145  60\n",
            " 132  65 140  71  59  85  91 228  42  52  48  47  62 117  20  55  54  82\n",
            " 143  41 158 138  97 121  50  21  22  51 153  40 114 170 328  36 129 125\n",
            " 237  29 107 163 260 124  23  24  26  25 246 157 165 139 208  13 137 127\n",
            " 126 189 136  28 147 159  46 176 181 161 177 148 152 180 160 178 141 168\n",
            " 151  14 155 175  27   1 131 154 146 182 135 173 156  10   9  43 251 174\n",
            "  15 172 179 142 162 166 144 194  34  44  49   8 185 216 167 187 210   7\n",
            " 183   4  31  37  39  11  17 540  12  16 192   2 164 186 193 169  33   5\n",
            "  35   6 290 549   3 195  18 268 300]\n",
            "Unique values for genres: [\"['comedy', 'family', 'animation', 'action', 'fantasy', 'horror']\"\n",
            " \"['action', 'drama', 'war', 'western', 'comedy', 'european']\"\n",
            " \"['romance', 'war', 'drama']\" ... \"['drama', 'family', 'thriller']\"\n",
            " \"['thriller', 'western', 'comedy']\" \"['comedy', 'action', 'family']\"]\n",
            "Unique values for production_countries: [\"['US']\" \"['GB']\" \"['MX', 'US']\" \"['GB', 'CA']\" \"['DE', 'US']\" \"['SU']\"\n",
            " '[]' \"['IN']\" \"['CA', 'US']\" \"['MX']\" \"['XX']\" \"['US', 'IT']\" \"['JP']\"\n",
            " \"['IT', 'FR']\" \"['HK']\" \"['FR', 'DE', 'IT']\" \"['ES', 'IT']\"\n",
            " \"['GB', 'US']\" \"['IL', 'US']\" \"['US', 'FR', 'IT']\" \"['IT']\"\n",
            " \"['IT', 'GB', 'US']\" \"['GB', 'US', 'IT', 'MX', 'ES']\" \"['AU', 'US']\"\n",
            " \"['CH', 'GB']\" \"['CA', 'FR']\" \"['US', 'IE']\" \"['GB', 'IT']\"\n",
            " \"['IT', 'US']\" \"['FR']\" \"['GR', 'US']\" \"['DE']\" \"['HK', 'US', 'CN']\"\n",
            " \"['US', 'ES']\" \"['PH', 'US']\" \"['NL', 'US']\" \"['FR', 'US']\"\n",
            " \"['IT', 'YU']\" \"['FR', 'DE', 'CH', 'CI']\" \"['PR', 'US']\" \"['US', 'PH']\"\n",
            " \"['YU', 'US']\" \"['IT', 'MX']\" \"['IT', 'ES', 'DE', 'LI']\" \"['US', 'CA']\"\n",
            " \"['US', 'GB']\" \"['US', 'DE']\" \"['US', 'IT', 'FR']\" \"['CA']\"\n",
            " \"['FR', 'GB']\" \"['JP', 'KR']\" \"['GR']\" \"['ES']\" \"['US', 'JP']\"\n",
            " \"['SU', 'US']\" \"['FR', 'DE']\" \"['FR', 'IT']\" \"['DE', 'IT']\"\n",
            " \"['XC', 'DE', 'HU', 'YU']\" \"['DE', 'CH']\" \"['YU']\"\n",
            " \"['YU', 'FR', 'DE', 'IT']\" \"['DE', 'ES', 'IT']\" \"['US', 'MX']\"\n",
            " \"['TW', 'HK']\" \"['IL']\" \"['IT', 'ES', 'DE']\" \"['US', 'KR']\"\n",
            " \"['IT', 'FR', 'ES']\" \"['ES', 'US']\" \"['ES', 'GB']\" \"['AN', 'US']\"\n",
            " \"['PH']\" \"['ES', 'DE', 'IT', 'MC']\" \"['IT', 'ES']\" \"['CA', 'MX']\"\n",
            " \"['IT', 'CA']\" \"['PH', 'CO', 'US', 'ES']\" \"['DE', 'GB']\"\n",
            " \"['IT', 'FR', 'DE']\" \"['HK', 'KR']\" \"['RO']\" \"['EG']\" \"['AU']\"\n",
            " \"['JP', 'US']\" \"['US', 'YU']\" \"['US', 'FR']\" \"['PH', 'AU']\"\n",
            " \"['FR', 'LI', 'CH']\" \"['FR', 'TR', 'GB']\" \"['HK', 'CN']\" \"['IT', 'DE']\"\n",
            " \"['AU', 'GB']\" \"['BE', 'NL']\" \"['ZA']\" \"['KR']\" \"['PT']\" \"['FR', 'PT']\"\n",
            " \"['DE', 'US', 'CL']\" \"['SE', 'US']\" \"['DE', 'IL']\" \"['PH', 'IT']\"\n",
            " \"['US', 'GR']\" \"['MX', 'US', 'IT']\" \"['BR', 'FR']\"\n",
            " \"['DK', 'DE', 'FR', 'IT']\" \"['NZ']\" \"['US', 'FR', 'GB']\" \"['US', 'AU']\"\n",
            " \"['CN', 'US']\" \"['IT', 'NL', 'RU', 'GB', 'FR']\" \"['DK']\" \"['US', 'HK']\"\n",
            " \"['ES', 'FR', 'DE']\" \"['CA', 'DE']\" \"['US', 'BE', 'CA', 'FR']\"\n",
            " \"['FR', 'IE', 'GB', 'DE']\" \"['US', 'LU']\" \"['US', 'IE', 'GB']\"\n",
            " \"['US', 'CZ']\" \"['RU', 'GB']\" \"['FR', 'GB', 'US', 'CA']\"\n",
            " \"['FR', 'BE', 'LU']\" \"['FI', 'FR', 'GB']\" \"['US', 'AU', 'CA']\"\n",
            " \"['FR', 'IT', 'BE']\" \"['BE', 'NL', 'AU']\" \"['GB', 'US', 'CA']\"\n",
            " \"['US', 'CA', 'GB']\" \"['ZA', 'GB']\" \"['GB', 'IL']\" \"['CA', 'GB', 'US']\"\n",
            " \"['CA', 'US', 'GB']\" \"['DE', 'FR', 'DK', 'GB']\" \"['GB', 'IN']\" \"['AT']\"\n",
            " \"['SE']\" \"['GB', 'US', 'IE']\" \"['IE', 'GB']\" \"['DE', 'HU', 'FR', 'GB']\"\n",
            " \"['RU', 'US']\" \"['SK', 'ES', 'GB', 'AR']\" \"['XC']\" \"['VE']\"\n",
            " \"['DE', 'GB', 'US']\" \"['FR', 'GB', 'US']\" \"['ZA', 'US', 'NZ', 'CA']\"\n",
            " \"['AU', 'GB', 'US']\" \"['GB', 'US', 'FR', 'ES']\" \"['US', 'GB', 'NZ']\"\n",
            " \"['DE', 'SE', 'DK']\" \"['US', 'GB', 'DE']\" \"['TH']\" \"['FR', 'LU', 'BE']\"\n",
            " \"['US', 'AU', 'GB']\" \"['GB', 'JP']\" \"['GB', 'FR']\" \"['CN', 'HK']\"\n",
            " \"['JP', 'US', 'NZ', 'CH']\" \"['SE', 'DK', 'DE']\" \"['US', 'PL', 'AE']\"\n",
            " \"['MX', 'ES']\" \"['IN', 'US']\" \"['GB', 'DK']\" \"['US', 'FR', 'IL']\"\n",
            " \"['GB', 'IE']\" \"['IT', 'CA', 'FR']\"\n",
            " \"['IT', 'GB', 'SI', 'BE', 'BA', 'FR']\" \"['US', 'DE', 'JP']\" \"['CN']\"\n",
            " \"['ID']\" \"['US', 'FR', 'IT', 'LU']\" \"['NO']\" \"['US', 'PL', 'RU']\"\n",
            " \"['RO', 'DE', 'FR', 'GB']\" \"['CA', 'US', 'DK', 'JP']\"\n",
            " \"['GB', 'NO', 'PL']\" \"['RU']\" \"['CA', 'AU', 'US']\"\n",
            " \"['IE', 'NL', 'JP', 'AF', 'IR']\" \"['FR', 'SE']\" \"['FR', 'BE']\"\n",
            " \"['DK', 'FR', 'GB', 'US', 'CA']\" \"['IT', 'RO', 'GB', 'US', 'FR', 'DE']\"\n",
            " \"['GB', 'CA', 'DE', 'ZA']\" \"['IS', 'GB', 'US', 'AU', 'CA']\"\n",
            " \"['CA', 'GR']\" \"['US', 'CA', 'DE']\" \"['GB', 'US', 'DE']\"\n",
            " \"['ES', 'BE', 'FR', 'DE', 'IT']\" \"['US', 'CA', 'NL']\" \"['BE', 'FR']\"\n",
            " \"['GB', 'US', 'CN', 'DE', 'RU']\" \"['NO', 'GB']\" \"['AR', 'US']\"\n",
            " \"['BG', 'DE', 'US']\" \"['JM', 'US']\" \"['IE']\" \"['FR', 'GB', 'CA', 'DE']\"\n",
            " \"['US', 'IN']\" \"['DE', 'FR', 'GB', 'US']\" \"['BR']\" \"['RS']\" \"['NL']\"\n",
            " \"['CA', 'IN']\" \"['US', 'HU']\" \"['LU', 'FR']\" \"['KR', 'HK']\"\n",
            " \"['AT', 'DE']\" \"['IL', 'SE']\" \"['GB', 'US', 'RO']\" \"['RO', 'GB', 'US']\"\n",
            " \"['KR', 'JP']\" \"['US', 'RU']\" \"['JM']\" \"['CL', 'US']\"\n",
            " \"['SZ', 'FR', 'ZA', 'GB']\" \"['GR', 'FR', 'IT']\" \"['GB', 'ZA']\" \"['TW']\"\n",
            " \"['CA', 'GB']\" \"['US', 'IL']\" \"['US', 'LT']\" \"['GB', 'ES']\"\n",
            " \"['PL', 'IL']\" \"['PL', 'SK', 'CZ']\" \"['FR', 'US', 'DE']\" \"['TC']\"\n",
            " \"['SG']\" \"['CZ', 'SK']\" \"['FI']\" \"['UY', 'VE', 'CL', 'ES']\" \"['BE']\"\n",
            " \"['MX', 'BO']\" \"['UA']\" \"['ES', 'VE', 'AR']\" \"['HU']\"\n",
            " \"['PT', 'CA', 'FR', 'IT']\" \"['DK', 'US']\" \"['DE', 'AU', 'FI']\"\n",
            " \"['BO', 'FR', 'ES', 'GB']\" \"['FR', 'GB', 'AT', 'BR']\"\n",
            " \"['AU', 'DE', 'GB']\" \"['FR', 'CA']\" \"['MY', 'SG']\" \"['IT', 'GB']\"\n",
            " \"['AT', 'GB', 'US']\" \"['US', 'FR', 'BE']\" \"['ZA', 'CA']\"\n",
            " \"['TR', 'HK', 'IN', 'IE']\" \"['TN', 'FR', 'IT', 'QA']\" \"['DE', 'IN']\"\n",
            " \"['FR', 'MX', 'BE']\" \"['IL', 'PH', 'ES']\" \"['AU', 'CN']\" \"['AF', 'US']\"\n",
            " \"['AR']\" \"['NG', 'US']\" \"['FR', 'CA', 'US']\" \"['CA', 'CH']\"\n",
            " \"['CN', 'TH']\" \"['FR', 'KZ', 'RU', 'BE', 'DE']\" \"['SG', 'US']\" \"['CZ']\"\n",
            " \"['IN', 'US', 'AE']\" \"['IE', 'CA']\" \"['PL', 'GB', 'DK', 'FR']\"\n",
            " \"['AU', 'UA']\" \"['US', 'AT']\" \"['LT', 'PL']\" \"['GB', 'ZA', 'DE', 'CA']\"\n",
            " \"['IS', 'NO', 'GB', 'US']\" \"['SE', 'GB', 'FR']\" \"['ID', 'US']\"\n",
            " \"['US', 'GB', 'CA']\" \"['CN', 'FR', 'US']\" \"['DE', 'IL', 'FR']\"\n",
            " \"['RU', 'UA', 'CZ', 'GB', 'DE']\" \"['ZA', 'US']\" \"['NL', 'ZA', 'GQ']\"\n",
            " \"['NG', 'GB']\" \"['DE', 'AU']\" \"['CA', 'MT']\" \"['CH', 'IN']\"\n",
            " \"['SO', 'US', 'KE']\" \"['FI', 'CA']\" \"['ES', 'BE', 'GB']\"\n",
            " \"['GB', 'US', 'CA', 'ES']\" \"['CH']\" \"['IN', 'CA']\" \"['US', 'CO']\"\n",
            " \"['US', 'GB', 'PL']\" \"['United States of America']\" \"['NG']\"\n",
            " \"['KR', 'MX']\" \"['MA', 'RO', 'AE', 'GB']\" \"['ES', 'FR', 'IE']\" \"['TR']\"\n",
            " \"['VN']\" \"['IL', 'NO', 'ZA', 'AE', 'GB', 'IS', 'IE']\" \"['CA', 'JP']\"\n",
            " \"['GB', 'IN', 'US']\" \"['CZ', 'DE', 'SK']\" \"['MX', 'NO', 'BO']\"\n",
            " \"['FR', 'MA']\" \"['CN', 'GB']\" \"['BD', 'IN']\" \"['PR']\" \"['BE', 'US']\"\n",
            " \"['NZ', 'FJ']\" \"['MX', 'TW', 'US']\" \"['US', 'DK', 'FR']\"\n",
            " \"['GB', 'BE', 'US']\" \"['SE', 'NO']\" \"['FR', 'GB', 'US', 'IE', 'NL']\"\n",
            " \"['FR', 'US', 'GB', 'CZ']\" \"['DE', 'US', 'FR']\" \"['FR', 'IR']\"\n",
            " \"['SE', 'GB', 'BE']\" \"['SE', 'DK', 'HU', 'IE', 'NO']\"\n",
            " \"['GB', 'US', 'IL']\" \"['FR', 'PL']\" \"['NL', 'SE', 'DK']\"\n",
            " \"['SE', 'CA', 'FI', 'FR', 'DE']\" \"['MN', 'US']\" \"['HK', 'US']\"\n",
            " \"['GB', 'SG']\" \"['FR', 'US', 'CA']\" \"['CL']\" \"['KE', 'US']\"\n",
            " \"['US', 'RO']\" \"['BE', 'FR', 'LU']\" \"['CA', 'IL']\" \"['JP', 'GB']\"\n",
            " \"['US', 'MA', 'ES', 'GB']\" \"['ES', 'GB', 'FR']\" \"['FR', 'CL', 'CA']\"\n",
            " \"['UG', 'DE', 'US', 'GB']\" \"['SE', 'DK']\" \"['GB', 'AR']\" \"['TT', 'US']\"\n",
            " \"['PL']\" \"['GB', 'US', 'FR']\" \"['PK']\" \"['XK']\" \"['MY']\" \"['PE']\"\n",
            " \"['DO']\" \"['IN', 'RS']\" \"['FR', 'DE', 'ES', 'US']\" \"['FR', 'PL', 'GB']\"\n",
            " \"['GB', 'CZ', 'AE']\" \"['CO', 'GB', 'AU']\" \"['SE', 'IN']\"\n",
            " \"['JP', 'CN', 'FR']\" \"['EG', 'GB']\" \"['NZ', 'GB']\" \"['CN', 'HK', 'MA']\"\n",
            " \"['ES', 'CA']\" \"['SV', 'US']\" \"['HU', 'US']\" \"['ES', 'US', 'MX']\"\n",
            " \"['TH', 'US']\" \"['AU', 'AE', 'GB', 'ID']\" \"['CH', 'BE', 'GE', 'FR']\"\n",
            " \"['FR', 'IL', 'LU', 'PS', 'BE']\" \"['GB', 'DE']\"\n",
            " \"['CH', 'AE', 'US', 'HK', 'MX', 'MA']\" \"['HR', 'DK', 'FI', 'US']\"\n",
            " \"['AU', 'DE']\" \"['HK', 'CN', 'CZ']\" \"['FR', 'MA', 'BE']\" \"['NZ', 'US']\"\n",
            " \"['LV', 'GB']\" \"['AR', 'US', 'AQ']\" \"['LB']\" \"['NL', 'BE']\" \"['KH']\"\n",
            " \"['CH', 'US', 'IT', 'CA', 'FR']\" \"['US', 'SE']\" \"['CO']\" \"['US', 'ID']\"\n",
            " \"['CR']\" \"['US', 'IL', 'TR']\" \"['IS']\" \"['NO', 'US', 'PL']\"\n",
            " \"['DE', 'AT']\" \"['CA', 'AU']\" \"['DK', 'SE', 'US']\" \"['US', 'AF']\"\n",
            " \"['FR', 'AF']\" \"['ES', 'FR']\" \"['SK', 'CZ']\" \"['IR']\" \"['LB', 'US']\"\n",
            " \"['BM']\" \"['JO', 'GB', 'IR']\" \"['PA']\" \"['AL', 'CY', 'GR']\" \"['MN']\"\n",
            " \"['FR', 'IL']\" \"['US', 'VN']\" \"['CZ', 'PL', 'SK']\" \"['MX', 'US', 'CL']\"\n",
            " \"['AF']\" \"['XK', 'NL']\" \"['BE', 'LU']\" \"['IL', 'ES']\" \"['BR', 'IN']\"\n",
            " \"['GB', 'DE', 'NZ']\" \"['DK', 'IE', 'BE']\" \"['HU', 'US', 'GB']\"\n",
            " \"['FR', 'LU', 'ES']\" \"['CA', 'IE', 'US']\" \"['GB', 'IT', 'FR']\"\n",
            " \"['US', 'SE', 'GB', 'IE']\" \"['GB', 'US', 'IE', 'ES']\"\n",
            " \"['NZ', 'CA', 'IE']\" \"['DE', 'FR']\" \"['GB', 'BE']\"\n",
            " \"['CN', 'DK', 'US', 'AU']\" \"['GB', 'NO', 'US']\" \"['FR', 'GE', 'SE']\"\n",
            " \"['FI', 'DE']\" \"['CN', 'FR', 'GB']\" \"['US', 'AL', 'GE', 'XK']\"\n",
            " \"['CA', 'IE']\" \"['US', 'CU']\" \"['BE', 'GB']\" \"['DE', 'NL', 'PL']\"\n",
            " \"['PY']\" \"['CH', 'US']\" \"['RO', 'ES', 'EE', 'ET', 'LV']\"\n",
            " \"['BE', 'FR', 'IE', 'LU']\" \"['GB', 'FR', 'DE']\" \"['US', 'NO', 'GB']\"\n",
            " \"['UA', 'US']\" \"['DE', 'BR']\" \"['NL', 'AR', 'BR', 'QA', 'CL']\"\n",
            " \"['GB', 'NL']\" \"['US', 'AU', 'CN', 'DK']\" \"['ES', 'CN']\"\n",
            " \"['BE', 'FR', 'US']\" \"['PS', 'QA']\" \"['CH', 'FR', 'DE']\"\n",
            " \"['EG', 'AE', 'GB']\" \"['DE', 'US', 'IN']\" \"['IE', 'NL', 'GB', 'BE']\"\n",
            " \"['US', 'CA', 'KR', 'IT', 'GB']\" \"['US', 'CN']\" \"['DE', 'SG', 'GB']\"\n",
            " \"['ES', 'AR']\" \"['FR', 'IE']\" \"['PL', 'LU', 'IT']\" \"['AR', 'UY']\"\n",
            " \"['DE', 'SK']\" \"['DE', 'JP']\" \"['NO', 'SE']\" \"['KR', 'US']\"\n",
            " \"['SI', 'BA', 'HR', 'CZ', 'LU', 'NO', 'SK']\" \"['PF', 'US', 'CA', 'FJ']\"\n",
            " \"['MX', 'EC', 'ES']\" \"['CA', 'TT']\" \"['IO']\" \"['SK', 'IE']\"\n",
            " \"['US', 'PA']\" \"['RU', 'AM']\" \"['CU', 'GB']\" \"['EG', 'LU', 'BE']\"\n",
            " \"['SY']\" \"['CM', 'GB']\" \"['DE', 'RU', 'US']\" \"['AU', 'CA', 'GB']\"\n",
            " \"['DE', 'JO', 'SE']\" \"['SK']\" \"['EE']\" \"['IN', 'GB', 'US']\"\n",
            " \"['US', 'CA', 'JP']\" \"['FR', 'DE', 'GR', 'JP', 'MX', 'CH', 'BE', 'CA']\"\n",
            " \"['GB', 'MX']\" \"['BE', 'EE', 'RS', 'SE', 'GB']\" \"['BG', 'US']\"\n",
            " \"['IE', 'US']\" \"['SK', 'CZ', 'DE']\" \"['IN', 'RU', 'GB']\"\n",
            " \"['DE', 'PS', 'PT', 'QA', 'FR']\" \"['UY']\" \"['UY', 'AR']\" \"['KZ']\"\n",
            " \"['RU', 'UA', 'US']\" \"['GB', 'NO']\" \"['CO', 'ES']\" \"['ZA', 'LY']\"\n",
            " \"['RS', 'GB']\" \"['IT', 'RO', 'US']\" \"['CZ', 'FR']\" \"['US', 'PR']\"]\n",
            "Unique values for seasons: [26. nan 18.  9. 31.  6. 12. 49.  3. 11. 51. 22.  8.  2.  4.  1.  7. 16.\n",
            " 24. 35.  5. 34. 13. 15. 42. 33. 10. 25. 14. 19. 21. 17. 28.]\n",
            "Unique values for imdb_id: ['tt0850645' 'tt0017925' 'tt0036868' ... 'tt15041600' 'tt14331982'\n",
            " 'tt13542552']\n",
            "Unique values for imdb_score: [8.6 8.2 8.1 7.8 7.9 7.3 8.  4.  7.7 7.5 3.7 7.1 7.6 7.4 7.  6.6 6.3 7.2\n",
            " 6.7 6.5 6.9 nan 6.2 6.  6.4 5.3 5.9 5.1 5.8 6.8 5.5 4.9 5.7 5.  5.2 3.5\n",
            " 3.4 8.3 6.1 4.8 5.4 4.4 4.2 4.5 5.6 3.9 4.1 3.6 4.7 4.3 3.  4.6 3.8 2.8\n",
            " 2.6 3.3 3.2 8.5 8.7 8.4 2.2 9.2 2.9 2.7 1.8 8.8 2.3 8.9 3.1 2.1 9.1 1.9\n",
            " 2.4 2.5 1.2 9.  1.3 1.5 9.3 1.6 2.  9.4 1.1 9.7 1.7 9.5 9.9]\n",
            "Unique values for imdb_votes: [ 1092. 89766. 63026. ...  1075.  1335.  1292.]\n",
            "Unique values for tmdb_popularity: [15.424  8.647  8.435 ...  1.306  0.91   1.406]\n",
            "Unique values for tmdb_score: [ 7.6  8.   7.8  7.4  7.7  8.3  7.2  3.6  7.3  4.1  7.   7.5  6.9  6.5\n",
            "  7.1  6.1  6.3  6.6  5.6  6.8  6.4  5.9  5.   6.7  4.   5.8  5.1  5.4\n",
            "  nan  6.   5.3  5.5  5.7  4.6  3.2  3.3  6.2  4.2  4.9  5.2  4.8  4.4\n",
            "  8.5  3.5  4.5  3.   2.6  4.7  4.3  2.   3.4  3.7  2.7  3.8  1.   9.\n",
            "  1.8 10.   2.5  7.9  8.1  8.2  8.7  3.9  3.1  2.9  8.6  2.3  2.2  2.1\n",
            "  1.7  2.4  8.4  2.8  9.6  8.8  1.5  9.5  9.8  1.9  9.3  1.3  1.4  0.8\n",
            "  9.4  9.2  9.7  8.9  1.2  9.1]\n",
            "Unique values for person_id: [  59401.   31460.   31461. ... 1938565.  728899. 1938620.]\n",
            "Unique values for name: ['Joe Besser' 'Moe Howard' 'Larry Fine' ... 'Vijay Thakur' 'Vanya Wellens'\n",
            " 'Vishwa Bhanu']\n",
            "Unique values for character: ['Joe' 'Moe' 'Larry' ... 'Sanjay Thakur' 'Budhiya' 'Gissu']\n",
            "Unique values for role: ['ACTOR' 'DIRECTOR' nan]\n"
          ]
        }
      ],
      "source": [
        "# Check Unique Values for each variable.\n",
        "\n",
        "for column in merged_df.columns:\n",
        "    unique_values = merged_df[column].unique()\n",
        "    print(f\"Unique values for {column}: {unique_values}\")"
      ]
    },
    {
      "cell_type": "markdown",
      "metadata": {
        "id": "dauF4eBmngu3"
      },
      "source": [
        "## 3. ***Data Wrangling***"
      ]
    },
    {
      "cell_type": "markdown",
      "metadata": {
        "id": "bKJF3rekwFvQ"
      },
      "source": [
        "### Data Wrangling Code"
      ]
    },
    {
      "cell_type": "code",
      "execution_count": 17,
      "metadata": {
        "id": "wk-9a2fpoLcV"
      },
      "outputs": [],
      "source": [
        "# Write your code to make your dataset analysis ready.\n",
        "merged_df.dropna(subset=['description', 'imdb_id'], inplace=True)\n",
        "\n",
        "mode_age_certi = merged_df['age_certification'].mode()[0]\n",
        "merged_df['age_certification'].fillna(mode_age_certi, inplace=True)\n",
        "\n",
        "merged_df['seasons'].fillna(0, inplace=True)\n",
        "\n",
        "merged_df['imdb_votes'].fillna(0, inplace=True)\n",
        "\n",
        "merged_df['character'].fillna('unknown', inplace=True)\n",
        "\n",
        "merged_df['imdb_score'].fillna(merged_df['imdb_score'].mean(), inplace=True)\n",
        "\n",
        "merged_df['tmdb_score'].fillna(merged_df['tmdb_score'].mean(), inplace=True)\n",
        "\n",
        "merged_df['tmdb_popularity'].fillna(merged_df['tmdb_popularity'].mean(), inplace=True)\n",
        "\n",
        "merged_df = merged_df.dropna(subset=['person_id', 'name', 'role'])\n",
        "\n",
        "\n",
        "\n"
      ]
    },
    {
      "cell_type": "code",
      "execution_count": 18,
      "metadata": {
        "id": "bVwj1z-6Bwmg"
      },
      "outputs": [
        {
          "data": {
            "text/plain": [
              "id                      0\n",
              "title                   0\n",
              "type                    0\n",
              "description             0\n",
              "release_year            0\n",
              "age_certification       0\n",
              "runtime                 0\n",
              "genres                  0\n",
              "production_countries    0\n",
              "seasons                 0\n",
              "imdb_id                 0\n",
              "imdb_score              0\n",
              "imdb_votes              0\n",
              "tmdb_popularity         0\n",
              "tmdb_score              0\n",
              "person_id               0\n",
              "name                    0\n",
              "character               0\n",
              "role                    0\n",
              "dtype: int64"
            ]
          },
          "execution_count": 18,
          "metadata": {},
          "output_type": "execute_result"
        }
      ],
      "source": [
        "merged_df.isnull().sum()\n"
      ]
    },
    {
      "cell_type": "code",
      "execution_count": null,
      "metadata": {
        "id": "CB69cPUsBq5R"
      },
      "outputs": [],
      "source": []
    },
    {
      "cell_type": "markdown",
      "metadata": {
        "id": "MSa1f5Uengrz"
      },
      "source": [
        "### What all manipulations have you done and insights you found?"
      ]
    },
    {
      "cell_type": "markdown",
      "metadata": {
        "id": "LbyXE7I1olp8"
      },
      "source": [
        "\n",
        "\n",
        "**1. Data Loading & Merging:**\n",
        "\n",
        "Loaded two datasets: titles.csv (content info) and credits.csv (cast/crew info).\n",
        "\n",
        "Merged them using a left join on the id column to retain all shows and movies, even if cast/crew data was missing.\n",
        "\n",
        "\n",
        "**2. Handling Duplicates:**\n",
        "\n",
        "Removed duplicate rows from the merged dataset using:\n",
        "\n",
        "merged_df = merged_df.drop_duplicates()\n",
        "\n",
        "**3. Handling Missing Values:**\n",
        "\n",
        " **Dropped nulls:**\n",
        "\n",
        "Dropped rows with missing description and imdb_id as these are essential metadata fields.\n",
        "\n",
        "merged_df = merged_df.dropna(subset=['description', 'imdb_id'])\n",
        "\n",
        "**Imputed Values:**\n",
        "\n",
        "Replaced missing values in age_certification with its mode:\n",
        "\n",
        "merged_df['age_certification'].fillna(merged_df['age_certification'].mode()[0], inplace=True).\n",
        "\n",
        "Replaced missing seasons and imdb_votes with 0 and character with 'Unknown' to avoid data loss.\n",
        "\n",
        "merged_df['seasons'].fillna(0, inplace=True)\n",
        "merged_df['imdb_votes'].fillna(0, inplace=True)\n",
        "merged_df['character'].fillna('Unknown', inplace=True)\n",
        "\n",
        "Replaced missing numerical scores like imdb_score, tmdb_popularity, and tmdb_score with their respective mean values to maintain overall data distribution.\n",
        "\n",
        "merged_df['imdb_score'].fillna(merged_df['imdb_score'].mean(), inplace=True)\n",
        "merged_df['tmdb_popularity'].fillna(merged_df['tmdb_popularity'].mean(), inplace=True)\n",
        "merged_df['tmdb_score'].fillna(merged_df['tmdb_score'].mean(), inplace=True)\n",
        "\n",
        "**Removed Unusable Cast Data:**\n",
        "Dropped rows where person_id, name, and role were all null — such rows lacked usable cast/crew information.\n",
        "\n",
        "\n",
        "**4. Insight from Data Cleaning**\n",
        "\n",
        "The dataset had missing values across description, certifications, and rating metrics, indicating inconsistent data recording in the source.\n",
        "\n",
        "Many shows lacked actor-level data, especially older titles, which could skew popularity analysis — handled by carefully dropping only fully unusable entries.\n",
        "\n",
        "Imputation helped preserve the dataset’s overall structure without introducing strong bias or reducing sample size significantly.\n",
        "\n",
        "\n",
        "\n",
        "\n",
        "\n",
        "\n"
      ]
    },
    {
      "cell_type": "code",
      "execution_count": null,
      "metadata": {
        "id": "tbvPwoaIJGLl"
      },
      "outputs": [],
      "source": []
    },
    {
      "cell_type": "markdown",
      "metadata": {
        "id": "GF8Ens_Soomf"
      },
      "source": [
        "## ***4. Data Vizualization, Storytelling & Experimenting with charts : Understand the relationships between variables***"
      ]
    },
    {
      "cell_type": "markdown",
      "metadata": {
        "id": "631LihacnX9O"
      },
      "source": [
        "**Data Vizualization**\n",
        "\n",
        "Data visualization is the graphical representation of information and data. By using visual elements like charts, graphs, and maps, data visualization tools provide an accessible way to see and understand trends, outliers, and patterns in data.\n"
      ]
    },
    {
      "cell_type": "markdown",
      "metadata": {
        "id": "B-986d8On1Ms"
      },
      "source": [
        "# **PROBLEM STATEMENTS:**"
      ]
    },
    {
      "cell_type": "markdown",
      "metadata": {
        "id": "0wOQAZs5pc--"
      },
      "source": [
        "# Chart - 1"
      ]
    },
    {
      "cell_type": "markdown",
      "metadata": {
        "id": "afBjZY5149wW"
      },
      "source": [
        "**Problem: Content Diversity: What genres and categories dominate the platform?**"
      ]
    },
    {
      "cell_type": "code",
      "execution_count": 19,
      "metadata": {
        "id": "7v_ESjsspbW7"
      },
      "outputs": [
        {
          "data": {
            "image/png": "[encoded data removed]",
            "text/plain": [
              "<Figure size 1200x600 with 1 Axes>"
            ]
          },
          "metadata": {},
          "output_type": "display_data"
        }
      ],
      "source": [
        "# Chart - 1 visualization code\n",
        "# problem: Content Diversity: What genres and categories dominate the platform?\n",
        "\n",
        "merged_df['genres'] = merged_df['genres'].apply(eval)  # Convert string to list\n",
        "genre_df = merged_df.explode('genres')\n",
        "\n",
        "genre_count = genre_df['genres'].value_counts().reset_index()\n",
        "genre_count.columns = ['Genre', 'Count']\n",
        "\n",
        "plt.figure(figsize=(12, 6))\n",
        "sns.barplot(x='Count', y='Genre', data=genre_count, palette='viridis')\n",
        "plt.title('Distribution of Content by Genre on Amazon Prime')\n",
        "plt.xlabel('Number of Titles')\n",
        "plt.ylabel('Genre')\n",
        "plt.tight_layout() #Automatically adjusts padding and spacing of the plot elements to avoid overlapping or cutoff text.\n",
        "plt.show()"
      ]
    },
    {
      "cell_type": "code",
      "execution_count": 20,
      "metadata": {
        "id": "6dEct49KWRAt"
      },
      "outputs": [
        {
          "data": {
            "image/png": "[encoded data removed]",
            "text/plain": [
              "<Figure size 1200x600 with 1 Axes>"
            ]
          },
          "metadata": {},
          "output_type": "display_data"
        }
      ],
      "source": [
        "plt.figure(figsize=(12, 6))\n",
        "sns.barplot(x='Genre', y='Count', data=genre_count, palette='viridis')\n",
        "plt.title('Distribution of Content by Genre on Amazon Prime')\n",
        "plt.xlabel('Genre')\n",
        "plt.ylabel('Number of Titles')\n",
        "plt.xticks(rotation=45)  # Rotate x-axis labels to avoid overlap\n",
        "plt.tight_layout()\n",
        "plt.show()\n"
      ]
    },
    {
      "cell_type": "markdown",
      "metadata": {
        "id": "K5QZ13OEpz2H"
      },
      "source": [
        "1. Why did you pick the specific chart?"
      ]
    },
    {
      "cell_type": "markdown",
      "metadata": {
        "id": "a7skD5ln3jD-"
      },
      "source": [
        "I chose a horizontal bar chart because it clearly shows categorical data (genres) against numerical counts (number of titles). It is an intuitive way to compare the relative popularity of different genres in the Amazon Prime catalog."
      ]
    },
    {
      "cell_type": "markdown",
      "metadata": {
        "id": "H4r2AP1MEZYh"
      },
      "source": [
        "2. What is/are the insight(s) found from the chart?"
      ]
    },
    {
      "cell_type": "markdown",
      "metadata": {
        "id": "UbpVSq9i3kFY"
      },
      "source": [
        "The chart shows that Drama and Comedy dominate the platform, followed by Thriller, Action, and Romance. Niche genres like Reality, Sports, and Animation are underrepresented. This highlights Amazon Prime’s heavy focus on mainstream genres, while more specialized categories receive less attention."
      ]
    },
    {
      "cell_type": "markdown",
      "metadata": {
        "id": "448CDAPjqfQr"
      },
      "source": [
        "3. Will the gained insights help creating a positive business impact?\n",
        "Are there any insights that lead to negative growth? Justify with specific reason.\n",
        "\n"
      ]
    },
    {
      "cell_type": "markdown",
      "metadata": {
        "id": "Vb5VR0t83kqH"
      },
      "source": [
        "- **Positive:** The dominance of Drama and Comedy ensures mass-market appeal and broad audience engagement.\n",
        "\n",
        "- **Negative:** Underrepresentation of niche genres may alienate certain customer segments who prefer diverse content. Expanding into areas like Animation or Sports could attract younger viewers or regional markets, strengthening Amazon Prime’s competitive position against rivals like Netflix and Disney+."
      ]
    },
    {
      "cell_type": "markdown",
      "metadata": {
        "id": "KSlN3yHqYklG"
      },
      "source": [
        "# Chart - 2"
      ]
    },
    {
      "cell_type": "markdown",
      "metadata": {
        "id": "3CAS8bE05EnG"
      },
      "source": [
        "## **Regional Availability: How does content distribution vary across different regions?**\n",
        "\n",
        "\n",
        "\n"
      ]
    },
    {
      "cell_type": "code",
      "execution_count": 21,
      "metadata": {
        "id": "R4YgtaqtYklH"
      },
      "outputs": [
        {
          "data": {
            "image/png": "[encoded data removed]",
            "text/plain": [
              "<Figure size 1000x600 with 1 Axes>"
            ]
          },
          "metadata": {},
          "output_type": "display_data"
        }
      ],
      "source": [
        "#Regional Availability: How does content distribution vary across different regions?\n",
        "\n",
        "import pandas as pd\n",
        "import matplotlib.pyplot as plt\n",
        "import seaborn as sns\n",
        "\n",
        "# Split country list (if multiple countries are listed in a single string)\n",
        "country_series = merged_df['production_countries'].dropna().str.split(',').explode().str.strip()\n",
        "\n",
        "# Count how many times each country appears\n",
        "country_counts = country_series.value_counts().head(10)\n",
        "\n",
        "# Plotting\n",
        "plt.figure(figsize=(10,6))\n",
        "sns.barplot(x=country_counts.values, y=country_counts.index, palette='magma')\n",
        "plt.title('Top 10 Production Countries on Amazon Prime')\n",
        "plt.xlabel('Number of Titles')\n",
        "plt.ylabel('Country')\n",
        "plt.tight_layout()\n",
        "plt.show()\n"
      ]
    },
    {
      "cell_type": "markdown",
      "metadata": {
        "id": "t6dVpIINYklI"
      },
      "source": [
        "##### 1. Why did you pick the specific chart?"
      ]
    },
    {
      "cell_type": "markdown",
      "metadata": {
        "id": "5aaW0BYyYklI"
      },
      "source": [
        "I chose a horizontal bar chart because it’s the most effective way to visually compare the number of titles across different countries. Since country names can be long and categorical, a horizontal layout makes the chart easier to read and interpret. Using the top 10 countries keeps the chart focused and avoids clutter."
      ]
    },
    {
      "cell_type": "markdown",
      "metadata": {
        "id": "ijmpgYnKYklI"
      },
      "source": [
        "##### 2. What is/are the insight(s) found from the chart?"
      ]
    },
    {
      "cell_type": "markdown",
      "metadata": {
        "id": "PSx9atu2YklI"
      },
      "source": [
        "The chart reveals which countries contribute the most content to Amazon Prime. For example, the U.S. may dominate the catalog, followed by countries like India, UK, or Canada. This highlights regional dominance and gaps in content diversity. If certain countries are underrepresented, it may indicate opportunities for content acquisition or local production."
      ]
    },
    {
      "cell_type": "markdown",
      "metadata": {
        "id": "-JiQyfWJYklI"
      },
      "source": [
        "##### 3. Will the gained insights help creating a positive business impact?\n",
        "Are there any insights that lead to negative growth? Justify with specific reason."
      ]
    },
    {
      "cell_type": "markdown",
      "metadata": {
        "id": "olUP4jImF0Tg"
      },
      "source": [
        "- **Positive:** A strong U.S. presence ensures alignment with global entertainment demand, while India’s large contribution highlights Amazon Prime’s focus on one of the fastest-growing streaming markets.\n",
        "\n",
        "- **Negative:** Overreliance on a few countries may limit regional diversity. To attract more global audiences, Amazon Prime could expand partnerships in underrepresented regions like Europe, Latin America, and Africa. Additionally, cleaning inconsistent country codes in metadata could improve analytics accuracy."
      ]
    },
    {
      "cell_type": "markdown",
      "metadata": {
        "id": "EM7whBJCYoAo"
      },
      "source": [
        "# Chart - 3"
      ]
    },
    {
      "cell_type": "markdown",
      "metadata": {
        "id": "ayDF3sd-5WGW"
      },
      "source": [
        "**Trends Over Time: How has Amazon Prime’s content library evolved?**"
      ]
    },
    {
      "cell_type": "code",
      "execution_count": 22,
      "metadata": {
        "id": "t6GMdE67YoAp"
      },
      "outputs": [
        {
          "data": {
            "image/png": "[encoded data removed]",
            "text/plain": [
              "<Figure size 1400x600 with 1 Axes>"
            ]
          },
          "metadata": {},
          "output_type": "display_data"
        }
      ],
      "source": [
        "# Chart - 3 visualization code]\n",
        "#Trends Over Time: How has Amazon Prime’s content library evolved?\n",
        "\n",
        "import matplotlib.pyplot as plt\n",
        "import seaborn as sns\n",
        "import pandas as pd  # Make sure pandas is imported if not already\n",
        "\n",
        "# Ensure 'release_year' is numeric\n",
        "merged_df['release_year'] = pd.to_numeric(merged_df['release_year'], errors='coerce')\n",
        "\n",
        "# Count number of titles per year\n",
        "titles_by_year = merged_df['release_year'].value_counts().sort_index()\n",
        "\n",
        "# Plotting the trend\n",
        "plt.figure(figsize=(14, 6))\n",
        "sns.lineplot(x=titles_by_year.index, y=titles_by_year.values, marker='o', color='green')\n",
        "plt.title(' Number of Titles Released Over the Years', fontsize=16)\n",
        "plt.xlabel('Release Year', fontsize=12)\n",
        "plt.ylabel('Number of Titles', fontsize=12)\n",
        "plt.grid(True)\n",
        "plt.xticks(rotation=45)\n",
        "plt.tight_layout()\n",
        "plt.show()\n"
      ]
    },
    {
      "cell_type": "markdown",
      "metadata": {
        "id": "fge-S5ZAYoAp"
      },
      "source": [
        "##### 1. Why did you pick the specific chart?"
      ]
    },
    {
      "cell_type": "markdown",
      "metadata": {
        "id": "5dBItgRVYoAp"
      },
      "source": [
        "I chose a line chart because it's ideal for visualizing trends over time. It helps us clearly track how the number of releases has increased, decreased, or remained stable year after year. This is much more effective than a bar chart for detecting growth patterns or sudden drops."
      ]
    },
    {
      "cell_type": "markdown",
      "metadata": {
        "id": "85gYPyotYoAp"
      },
      "source": [
        "##### 2. What is/are the insight(s) found from the chart?"
      ]
    },
    {
      "cell_type": "markdown",
      "metadata": {
        "id": "4jstXR6OYoAp"
      },
      "source": [
        "The chart reveals how the volume of content released has changed annually. For example:\n",
        "\n",
        "A sharp rise post-2015 might suggest aggressive content acquisition.\n",
        "\n",
        "A dip in 2020 could reflect production delays due to COVID-19.\n",
        "\n",
        "Steady growth may reflect consistent platform investment.\n",
        "\n",
        "\n",
        "These insights help us understand platform strategy and how global events may impact digital content pipelines."
      ]
    },
    {
      "cell_type": "markdown",
      "metadata": {
        "id": "RoGjAbkUYoAp"
      },
      "source": [
        "##### 3. Will the gained insights help creating a positive business impact?\n",
        "Are there any insights that lead to negative growth? Justify with specific reason."
      ]
    },
    {
      "cell_type": "markdown",
      "metadata": {
        "id": "eOSy4hMQGOXK"
      },
      "source": [
        "- **Positive: **The rapid increase in content releases in the 2010s reflects Amazon Prime’s aggressive strategy in content acquisition and global expansion, which aligns with the industry-wide streaming boom.\n",
        "\n",
        "- **Negative: **The sudden decline post-2020 could indicate either a real reduction in content production or dataset limitations. For decision-making, it highlights the need to ensure up-to-date, complete data and to plan for external risks (like pandemics) that may affect production."
      ]
    },
    {
      "cell_type": "markdown",
      "metadata": {
        "id": "1p07d1Ut5h-m"
      },
      "source": [
        "# **Chart- 4**"
      ]
    },
    {
      "cell_type": "markdown",
      "metadata": {
        "id": "w8WobWfVHaiZ"
      },
      "source": [
        "**For top 10 most popular titles by IMDb votes**"
      ]
    },
    {
      "cell_type": "code",
      "execution_count": 23,
      "metadata": {
        "id": "FkXnTpwQU__z"
      },
      "outputs": [
        {
          "data": {
            "image/png": "[encoded data removed]",
            "text/plain": [
              "<Figure size 1200x600 with 1 Axes>"
            ]
          },
          "metadata": {},
          "output_type": "display_data"
        }
      ],
      "source": [
        "#for top 10 most popular titles by IMDb votes\n",
        "\n",
        "import pandas as pd\n",
        "import matplotlib.pyplot as plt\n",
        "import seaborn as sns\n",
        "\n",
        "# Convert imdb_votes to numeric (just in case it's a string)\n",
        "merged_df['imdb_votes'] = pd.to_numeric(merged_df['imdb_votes'], errors='coerce')\n",
        "\n",
        "# Drop duplicates\n",
        "popular = merged_df.drop_duplicates(subset=['title'])\n",
        "\n",
        "# Sort and select top 10 by votes\n",
        "popular = popular.sort_values(by='imdb_votes', ascending=False).head(10)\n",
        "\n",
        "# Plot\n",
        "plt.figure(figsize=(12, 6))\n",
        "sns.barplot(x='imdb_votes', y='title', data=popular, palette='magma')\n",
        "plt.title(' Top 10 Most Popular Titles on Amazon Prime (by IMDb Votes)', fontsize=16)\n",
        "plt.xlabel('IMDb Votes')\n",
        "plt.ylabel('Title')\n",
        "plt.tight_layout()\n",
        "plt.show()"
      ]
    },
    {
      "cell_type": "markdown",
      "metadata": {
        "id": "iky9q4vBYrdO"
      },
      "source": [
        "##### 1. Why did you pick the specific chart?"
      ]
    },
    {
      "cell_type": "markdown",
      "metadata": {
        "id": "aJRCwT6DYrdO"
      },
      "source": [
        " Top 10 Most Popular Titles on Amazon Prime (IMDb Votes)**\n",
        "\n",
        "A horizontal bar chart works best to:\n",
        "\n",
        "Rank titles by total engagement.\n",
        "\n",
        "Let users quickly see which titles had the most community traction."
      ]
    },
    {
      "cell_type": "markdown",
      "metadata": {
        "id": "F6T5p64dYrdO"
      },
      "source": [
        "##### 2. What is/are the insight(s) found from the chart?"
      ]
    },
    {
      "cell_type": "markdown",
      "metadata": {
        "id": "Xx8WAJvtYrdO"
      },
      "source": [
        "Top 10 Most Popular Titles on Amazon Prime (IMDb Votes)**\n",
        "\n",
        "Shows the most engaged-with or widely viewed content.\n",
        "\n",
        "These are titles that trigger user participation, such as voting, reviewing, and social sharing.\n",
        "\n",
        "Even if some of these don’t have the highest scores, they drive massive traffic."
      ]
    },
    {
      "cell_type": "markdown",
      "metadata": {
        "id": "y-Ehk30pYrdP"
      },
      "source": [
        "##### 3. Will the gained insights help creating a positive business impact?\n",
        "Are there any insights that lead to negative growth? Justify with specific reason."
      ]
    },
    {
      "cell_type": "markdown",
      "metadata": {
        "id": "OueXhiUXHDSB"
      },
      "source": [
        "- **Positive:** Understanding which titles receive the highest audience engagement helps Amazon Prime highlight these films in recommendations, marketing campaigns, and retention strategies.\n",
        "\n",
        "- **Negative:** If the most popular titles are primarily older classics, this may indicate a reliance on legacy content rather than newer releases. To sustain long-term growth, Amazon Prime may need to invest in fresh, original titles that can replicate this level of audience popularity."
      ]
    },
    {
      "cell_type": "markdown",
      "metadata": {
        "id": "2Dyy1MVeoN61"
      },
      "source": [
        "**UNIVARIATE ANALYSIS:**"
      ]
    },
    {
      "cell_type": "markdown",
      "metadata": {
        "id": "iLMcQXsQpN1D"
      },
      "source": [
        "**BOX PLOT:**"
      ]
    },
    {
      "cell_type": "markdown",
      "metadata": {
        "id": "He3jd9ArpvxE"
      },
      "source": [
        "**Box plot of imdb_score:**\n",
        "\n",
        "Box plots are plotted to visualize the distribution, spread of data and to identify outliers in data."
      ]
    },
    {
      "cell_type": "markdown",
      "metadata": {
        "id": "bamQiAODYuh1"
      },
      "source": [
        "# Chart - 5"
      ]
    },
    {
      "cell_type": "code",
      "execution_count": 24,
      "metadata": {
        "id": "RVi0ss0-ogQk"
      },
      "outputs": [
        {
          "data": {
            "image/png": "[encoded data removed]",
            "text/plain": [
              "<Figure size 800x600 with 1 Axes>"
            ]
          },
          "metadata": {},
          "output_type": "display_data"
        }
      ],
      "source": [
        "# Box plot of imdb_score\n",
        "plt.figure(figsize = (8,6))\n",
        "sns.boxplot(data = merged_df, y = 'imdb_score')\n",
        "plt.title('Box plot of imdb_score\\n', color = 'brown')\n",
        "plt.show()"
      ]
    },
    {
      "cell_type": "markdown",
      "metadata": {
        "id": "QHF8YVU7Yuh3"
      },
      "source": [
        "##### 1. Why did you pick the specific chart?"
      ]
    },
    {
      "cell_type": "markdown",
      "metadata": {
        "id": "dcxuIMRPYuh3"
      },
      "source": [
        "I chose a box plot because it effectively shows the spread, central tendency, and variability of IMDb scores. It also helps identify outliers, which are important in understanding exceptional cases in audience ratings."
      ]
    },
    {
      "cell_type": "markdown",
      "metadata": {
        "id": "GwzvFGzlYuh3"
      },
      "source": [
        "##### 2. What is/are the insight(s) found from the chart?"
      ]
    },
    {
      "cell_type": "markdown",
      "metadata": {
        "id": "uyqkiB8YYuh3"
      },
      "source": [
        "The median IMDb score is around 6, with most content falling between 5 and 7. There are a few outliers on the lower end (scores near 1–2) and on the higher end (scores close to 9–10). This suggests that while the majority of Amazon Prime’s titles are moderately rated, a small number of titles perform exceptionally well or poorly."
      ]
    },
    {
      "cell_type": "markdown",
      "metadata": {
        "id": "qYpmQ266Yuh3"
      },
      "source": [
        "##### 3. Will the gained insights help creating a positive business impact?\n",
        "Are there any insights that lead to negative growth? Justify with specific reason."
      ]
    },
    {
      "cell_type": "markdown",
      "metadata": {
        "id": "_WtzZ_hCYuh4"
      },
      "source": [
        "- **Positive:** The concentration of titles around mid-level scores indicates consistency in content quality, ensuring that most titles meet a baseline standard for viewers.\n",
        "\n",
        "- **Negative:** Outliers with very low scores may harm the platform’s reputation if prominently featured. By leveraging this insight, Amazon Prime can focus marketing on high-scoring titles to boost brand perception and gradually phase out or improve lower-rated content."
      ]
    },
    {
      "cell_type": "markdown",
      "metadata": {
        "id": "OH-pJp9IphqM"
      },
      "source": [
        "# Chart - 6"
      ]
    },
    {
      "cell_type": "markdown",
      "metadata": {
        "id": "9skm42bnIEsa"
      },
      "source": [
        "**Box plot of runtime:**"
      ]
    },
    {
      "cell_type": "code",
      "execution_count": 25,
      "metadata": {
        "id": "kuRf4wtuphqN"
      },
      "outputs": [
        {
          "data": {
            "image/png": "[encoded data removed]",
            "text/plain": [
              "<Figure size 800x600 with 1 Axes>"
            ]
          },
          "metadata": {},
          "output_type": "display_data"
        }
      ],
      "source": [
        "#Box plot of runtime\n",
        "plt.figure(figsize = (8,6))\n",
        "sns.boxplot(data = merged_df, x = 'runtime')\n",
        "plt.title('Box plot of runtime\\n', color = 'brown')\n",
        "plt.show()"
      ]
    },
    {
      "cell_type": "markdown",
      "metadata": {
        "id": "RUngqDE0IiD6"
      },
      "source": [
        "1. Why did you pick the specific chart?"
      ]
    },
    {
      "cell_type": "markdown",
      "metadata": {
        "id": "gM6gVI_gIh_0"
      },
      "source": [
        "I selected a box plot because it provides a clear view of how movie runtimes are distributed, highlights the median, and identifies outliers. Runtime is an important factor for user engagement, as both very short and very long titles can impact viewer experience differently."
      ]
    },
    {
      "cell_type": "markdown",
      "metadata": {
        "id": "fqhDlqkmIh7T"
      },
      "source": [
        "2. What is/are the insight(s) found from the chart?"
      ]
    },
    {
      "cell_type": "markdown",
      "metadata": {
        "id": "0n65eU5BIhyq"
      },
      "source": [
        "The median runtime is around 100 minutes, which aligns with the standard length of feature films. Most titles fall within 75 to 150 minutes, but there are several outliers on both sides:\n",
        "\n",
        "Short titles under 50 minutes (likely episodes, specials, or short films).\n",
        "\n",
        "Extremely long titles over 200 minutes (epics, extended editions, or documentaries)."
      ]
    },
    {
      "cell_type": "markdown",
      "metadata": {
        "id": "t28EUpufIhrC"
      },
      "source": [
        "3. Will the gained insights help creating a positive business impact?\n",
        "Are there any insights that lead to negative growth? Justify with specific reason."
      ]
    },
    {
      "cell_type": "markdown",
      "metadata": {
        "id": "VROCqia7Ihm5"
      },
      "source": [
        "-**Positive:** Majority of titles fit within the typical viewing expectation (90–120 mins), which is ideal for most audiences.\n",
        "\n",
        "- **Negative:** Outliers with very short runtimes may frustrate users expecting full-length films, while very long runtimes might lead to lower completion rates.\n",
        "\n",
        "Amazon Prime could use this insight to:\n",
        "\n",
        "- Better tag and categorize content (short films, episodes, extended editions).\n",
        "\n",
        "- Recommend runtimes based on user preferences, e.g., short content for quick viewing windows, standard films for regular viewing."
      ]
    },
    {
      "cell_type": "markdown",
      "metadata": {
        "id": "Q-oSE1Xtt-as"
      },
      "source": [
        "# Chart - 7"
      ]
    },
    {
      "cell_type": "code",
      "execution_count": 26,
      "metadata": {
        "id": "R3oVTTz0tnI7"
      },
      "outputs": [
        {
          "data": {
            "image/png": "[encoded data removed]",
            "text/plain": [
              "<Figure size 800x600 with 1 Axes>"
            ]
          },
          "metadata": {},
          "output_type": "display_data"
        }
      ],
      "source": [
        "#Box plot of seasons\n",
        "plt.figure(figsize = (8,6))\n",
        "sns.boxplot(data = merged_df, x = 'seasons')\n",
        "plt.title('Box plot of seasons\\n', color = 'brown')\n",
        "plt.show()"
      ]
    },
    {
      "cell_type": "markdown",
      "metadata": {
        "id": "bbFf2-_FphqN"
      },
      "source": [
        "##### 1. Why did you pick the specific chart?"
      ]
    },
    {
      "cell_type": "markdown",
      "metadata": {
        "id": "loh7H2nzphqN"
      },
      "source": [
        "A box plot was chosen because it clearly shows the spread of seasons across TV shows on Amazon Prime. It helps identify the typical range and outliers — for example, shows with unusually high numbers of seasons compared to the majority."
      ]
    },
    {
      "cell_type": "markdown",
      "metadata": {
        "id": "_ouA3fa0phqN"
      },
      "source": [
        "##### 2. What is/are the insight(s) found from the chart?"
      ]
    },
    {
      "cell_type": "markdown",
      "metadata": {
        "id": "VECbqPI7phqN"
      },
      "source": [
        "Box plot of runtime helps to understand the distribution, typical runtime, spread, and outliers in the runtime data of movies and TV shows on Amazon Prime.\n",
        "\n",
        "The horizontal line inside the box represents the median runtime, which is around 90 minutes.\n",
        "\n",
        "Points plotted outside the whiskers are considered outliers. These are movies or TV shows with short or long runtimes compared to the majority of the content."
      ]
    },
    {
      "cell_type": "markdown",
      "metadata": {
        "id": "Seke61FWphqN"
      },
      "source": [
        "##### 3. Will the gained insights help creating a positive business impact?\n",
        "Are there any insights that lead to negative growth? Justify with specific reason."
      ]
    },
    {
      "cell_type": "markdown",
      "metadata": {
        "id": "DW4_bGpfphqN"
      },
      "source": [
        "- **Positive:** Having mostly shorter series works well for binge-watching culture, making it easier for new users to quickly engage with and complete a show.\n",
        "\n",
        "- **Negative:** Lack of long-running, high-season franchises might limit user loyalty, as multi-season shows are known to keep subscribers engaged over years.\n",
        "\n",
        "Amazon Prime could leverage this insight by:\n",
        "\n",
        "- Investing in original shows with potential for multiple seasons to strengthen long-term subscriber retention.\n",
        "\n",
        "- Categorizing and recommending short vs. long series depending on viewer preference (casual vs. committed watchers)."
      ]
    },
    {
      "cell_type": "markdown",
      "metadata": {
        "id": "GkM397eeqo8F"
      },
      "source": [
        "**HISTOGRAM:**\n",
        "\n",
        "Histograms represents the distribution of numerical variable. They provide a visual way to see the shape of data's distribution."
      ]
    },
    {
      "cell_type": "markdown",
      "metadata": {
        "id": "lmKeuk4yqzd8"
      },
      "source": [
        "**Histogram of release_year:**"
      ]
    },
    {
      "cell_type": "markdown",
      "metadata": {
        "id": "PIIx-8_IphqN"
      },
      "source": [
        "# Chart - 8"
      ]
    },
    {
      "cell_type": "code",
      "execution_count": 27,
      "metadata": {
        "id": "lqAIGUfyphqO"
      },
      "outputs": [
        {
          "data": {
            "image/png": "[encoded data removed]",
            "text/plain": [
              "<Figure size 800x600 with 1 Axes>"
            ]
          },
          "metadata": {},
          "output_type": "display_data"
        }
      ],
      "source": [
        "#Histogram of release_year\n",
        "plt.figure(figsize = (8,6))\n",
        "sns.histplot(data = merged_df, x = 'release_year', bins = 20, color = 'blue', kde = True)\n",
        "plt.title('Histogram of release year\\n', color = 'blue')\n",
        "plt.show()\n",
        "\n"
      ]
    },
    {
      "cell_type": "markdown",
      "metadata": {
        "id": "t27r6nlMphqO"
      },
      "source": [
        "##### 1. Why did you pick the specific chart?"
      ]
    },
    {
      "cell_type": "markdown",
      "metadata": {
        "id": "iv6ro40sphqO"
      },
      "source": [
        "I chose a histogram because it helps visualize the distribution of titles across time. Unlike the line plot (which shows trends), a histogram makes it easier to see concentrations of releases in specific periods, as well as growth over decades."
      ]
    },
    {
      "cell_type": "markdown",
      "metadata": {
        "id": "r2jJGEOYphqO"
      },
      "source": [
        "##### 2. What is/are the insight(s) found from the chart?"
      ]
    },
    {
      "cell_type": "markdown",
      "metadata": {
        "id": "Po6ZPi4hphqO"
      },
      "source": [
        "The histogram of the release_year column shows the distribution of movies and TV shows across different release years.\n",
        "A large of content on Amazon Prime is released recently that is in last decade. The distribution is skewed towards left.\n",
        "we can see an overall increasing trend in the number of movies or TV shows released over the years. This suggests that Amazon Prime Video's content library has been expanding."
      ]
    },
    {
      "cell_type": "markdown",
      "metadata": {
        "id": "b0JNsNcRphqO"
      },
      "source": [
        "##### 3. Will the gained insights help creating a positive business impact?\n",
        "Are there any insights that lead to negative growth? Justify with specific reason."
      ]
    },
    {
      "cell_type": "markdown",
      "metadata": {
        "id": "xvSq8iUTphqO"
      },
      "source": [
        "- **Positive:** The large volume of recent content (post-2000) strengthens Amazon Prime’s ability to cater to modern audiences with up-to-date shows and movies.\n",
        "\n",
        "- **Negative:** Older classics (pre-1980s) are relatively fewer, which may limit the appeal for audiences who enjoy vintage cinema.\n",
        "\n",
        "Amazon Prime could use this insight to:\n",
        "\n",
        "- Market its strength in having a rich and growing modern catalog.\n",
        "\n",
        "- Expand its classic movie collection to diversify content and appeal to nostalgia-driven viewers."
      ]
    },
    {
      "cell_type": "markdown",
      "metadata": {
        "id": "BZR9WyysphqO"
      },
      "source": [
        "# Chart - 9"
      ]
    },
    {
      "cell_type": "markdown",
      "metadata": {
        "id": "DjxKu5das2hE"
      },
      "source": [
        "**Histogram of runtime:**"
      ]
    },
    {
      "cell_type": "code",
      "execution_count": 28,
      "metadata": {
        "id": "TdPTWpAVphqO"
      },
      "outputs": [
        {
          "data": {
            "image/png": "[encoded data removed]",
            "text/plain": [
              "<Figure size 800x600 with 1 Axes>"
            ]
          },
          "metadata": {},
          "output_type": "display_data"
        }
      ],
      "source": [
        "# Histogram of runtime\n",
        "plt.figure(figsize = (8,6))\n",
        "sns.histplot(data = merged_df, x = 'runtime', bins = 25, color = 'grey', kde = True)\n",
        "plt.title('Histogram of runtime\\n', color = 'brown')\n",
        "plt.show()"
      ]
    },
    {
      "cell_type": "markdown",
      "metadata": {
        "id": "jj7wYXLtphqO"
      },
      "source": [
        "##### 1. Why did you pick the specific chart?"
      ]
    },
    {
      "cell_type": "markdown",
      "metadata": {
        "id": "Ob8u6rCTphqO"
      },
      "source": [
        "I used a histogram to study the distribution of runtimes across Amazon Prime content. A histogram is the best choice here because it shows how most movies/episodes are clustered and whether there are unusual outliers."
      ]
    },
    {
      "cell_type": "markdown",
      "metadata": {
        "id": "eZrbJ2SmphqO"
      },
      "source": [
        "##### 2. What is/are the insight(s) found from the chart?"
      ]
    },
    {
      "cell_type": "markdown",
      "metadata": {
        "id": "mZtgC_hjphqO"
      },
      "source": [
        "Distribution: The histogram shows that the runtime of movies and TV shows on Amazon Prime is not normally distributed. Instead, it is right-skewed having longer tail on the right side of the peak.\n",
        "The peak of the histogram is around the 70-90 minute. This suggests that the most common runtime for movies or TV shows on Amazon Prime is around 70-90 minutes.\n",
        "There are more number of movies and shows with runtimes between 60 and 100 minutes. This might be the sweet spot for most viewers and creators as it provides a good balance between storytelling and viewer engagement."
      ]
    },
    {
      "cell_type": "markdown",
      "metadata": {
        "id": "rFu4xreNphqO"
      },
      "source": [
        "##### 3. Will the gained insights help creating a positive business impact?\n",
        "Are there any insights that lead to negative growth? Justify with specific reason."
      ]
    },
    {
      "cell_type": "markdown",
      "metadata": {
        "id": "ey_0qi68phqO"
      },
      "source": [
        "- **Positive:** Amazon Prime caters to mainstream viewing habits with the majority of content falling in the “comfortable” 90–120 minute range.\n",
        "\n",
        "- **Negative:** The presence of outliers may confuse viewers or disrupt engagement if not properly categorized (e.g., shorts, specials, extended versions).\n",
        "\n",
        "Amazon could:\n",
        "\n",
        "- Improve categorization and filtering of content by runtime to enhance user experience.\n",
        "\n",
        "- Use this insight to recommend shorts for quick viewing and long films for dedicated watchers, improving personalization."
      ]
    },
    {
      "cell_type": "markdown",
      "metadata": {
        "id": "YJ55k-q6phqO"
      },
      "source": [
        "# Chart - 10"
      ]
    },
    {
      "cell_type": "markdown",
      "metadata": {
        "id": "0gCmxHwltRt_"
      },
      "source": [
        "**Histogram of seasons:**"
      ]
    },
    {
      "cell_type": "code",
      "execution_count": 29,
      "metadata": {
        "id": "B2aS4O1ophqO"
      },
      "outputs": [
        {
          "data": {
            "image/png": "[encoded data removed]",
            "text/plain": [
              "<Figure size 800x600 with 1 Axes>"
            ]
          },
          "metadata": {},
          "output_type": "display_data"
        }
      ],
      "source": [
        "#Histogram of Seasons\n",
        "plt.figure(figsize = (8,6))\n",
        "sns.histplot(data = merged_df, x = 'seasons', bins = 20)\n",
        "plt.title('Histogram of seasons\\n', color = 'brown')\n",
        "plt.show()\n"
      ]
    },
    {
      "cell_type": "markdown",
      "metadata": {
        "id": "gCFgpxoyphqP"
      },
      "source": [
        "##### 1. Why did you pick the specific chart?"
      ]
    },
    {
      "cell_type": "markdown",
      "metadata": {
        "id": "TVxDimi2phqP"
      },
      "source": [
        "I selected a histogram to visualize the distribution of the number of seasons across Amazon Prime series. Since most shows are short-run, the histogram clearly highlights the skewed nature of season counts."
      ]
    },
    {
      "cell_type": "markdown",
      "metadata": {
        "id": "OVtJsKN_phqQ"
      },
      "source": [
        "##### 2. What is/are the insight(s) found from the chart?"
      ]
    },
    {
      "cell_type": "markdown",
      "metadata": {
        "id": "ngGi97qjphqQ"
      },
      "source": [
        "- The majority of series have just 1 season, indicating that Amazon Prime’s library is dominated by limited or short-run shows.\n",
        "\n",
        "- A smaller number extend to 2–5 seasons, showing moderate audience success and continued renewals.\n",
        "\n",
        "- A very tiny fraction of shows extend beyond 10+ seasons, likely representing iconic long-running series.\n",
        "\n"
      ]
    },
    {
      "cell_type": "markdown",
      "metadata": {
        "id": "lssrdh5qphqQ"
      },
      "source": [
        "##### 3. Will the gained insights help creating a positive business impact?\n",
        "Are there any insights that lead to negative growth? Justify with specific reason."
      ]
    },
    {
      "cell_type": "markdown",
      "metadata": {
        "id": "jxHr3q-9uh8j"
      },
      "source": [
        "- **Positive:** The dominance of single-season content helps Amazon experiment with fresh ideas and appeal to a wide audience with diverse tastes.\n",
        "\n",
        "- **Negative: **The lack of long-running series suggests fewer opportunities for strong franchise-building or sustained audience loyalty.\n",
        "\n",
        "To act on this insight, Amazon could:\n",
        "\n",
        "- Identify short-run shows with strong ratings and invest in multi-season renewals to build loyal audiences.\n",
        "\n",
        "- Strategically balance limited series (for diversity) with franchise-worthy shows (for long-term engagement)."
      ]
    },
    {
      "cell_type": "markdown",
      "metadata": {
        "id": "U2RJ9gkRphqQ"
      },
      "source": [
        "# Chart - 11"
      ]
    },
    {
      "cell_type": "markdown",
      "metadata": {
        "id": "wZ14vQQTukzj"
      },
      "source": [
        "**Histogram of imdb score:**"
      ]
    },
    {
      "cell_type": "code",
      "execution_count": 30,
      "metadata": {
        "id": "GM7a4YP4phqQ"
      },
      "outputs": [
        {
          "data": {
            "image/png": "[encoded data removed]",
            "text/plain": [
              "<Figure size 800x600 with 1 Axes>"
            ]
          },
          "metadata": {},
          "output_type": "display_data"
        }
      ],
      "source": [
        "#Histogram of imdb_score\n",
        "plt.figure(figsize = (8,6))\n",
        "sns.histplot(data = merged_df, x = 'imdb_score', bins = 30, color = 'blue', kde = True)\n",
        "plt.title('Histogram of imdb_score\\n', color = 'brown')\n",
        "plt.show()"
      ]
    },
    {
      "cell_type": "markdown",
      "metadata": {
        "id": "1M8mcRywphqQ"
      },
      "source": [
        "##### 1. Why did you pick the specific chart?"
      ]
    },
    {
      "cell_type": "markdown",
      "metadata": {
        "id": "8agQvks0phqQ"
      },
      "source": [
        "I chose a histogram to examine the distribution of IMDb ratings for Amazon Prime content. This helps assess whether the majority of titles are well-received or poorly rated, giving insights into overall catalog quality."
      ]
    },
    {
      "cell_type": "markdown",
      "metadata": {
        "id": "tgIPom80phqQ"
      },
      "source": [
        "##### 2. What is/are the insight(s) found from the chart?"
      ]
    },
    {
      "cell_type": "markdown",
      "metadata": {
        "id": "Qp13pnNzphqQ"
      },
      "source": [
        "- The distribution is bell-shaped and centered around 6–7, showing that most Amazon Prime titles are average to above-average in quality.\n",
        "\n",
        "- Very few titles fall into the extremely low (1–3) or exceptionally high (9–10) categories.\n",
        "\n",
        "- This suggests Prime’s content library generally avoids extremes and maintains moderate audience satisfaction."
      ]
    },
    {
      "cell_type": "markdown",
      "metadata": {
        "id": "JMzcOPDDphqR"
      },
      "source": [
        "##### 3. Will the gained insights help creating a positive business impact?\n",
        "Are there any insights that lead to negative growth? Justify with specific reason."
      ]
    },
    {
      "cell_type": "markdown",
      "metadata": {
        "id": "R4Ka1PC2phqR"
      },
      "source": [
        "- **Positive:** A strong mid-range score (6–7) indicates that most of Prime’s catalog is reasonably well-received, which helps in customer retention.\n",
        "\n",
        "- **Negative:** Fewer high-scoring titles (8–10) implies limited “flagship” or critically acclaimed content, which competitors like Netflix or HBO may have.\n",
        "\n",
        "**Strategic Takeaway:**\n",
        "\n",
        "Amazon should:\n",
        "\n",
        "- Maintain its wide catalog that ensures variety and stability (safe mid-range).\n",
        "\n",
        "- Invest more in high-quality, prestige projects (aim for 8+ scores) to create buzz, win awards, and strengthen brand reputation."
      ]
    },
    {
      "cell_type": "markdown",
      "metadata": {
        "id": "gcX_POdRvD70"
      },
      "source": [
        "**BAR PLOT/COUNT PLOT:**\n",
        "\n",
        "A bar plot is a type of chart that presents categorical data with rectangular bars with heights or lengths proportional to the values that they represent."
      ]
    },
    {
      "cell_type": "markdown",
      "metadata": {
        "id": "ykzgTv1tvMcM"
      },
      "source": [
        "**Bar plot of type(Movie or TV show):**"
      ]
    },
    {
      "cell_type": "markdown",
      "metadata": {
        "id": "x-EpHcCOp1ci"
      },
      "source": [
        "# Chart - 12"
      ]
    },
    {
      "cell_type": "code",
      "execution_count": 31,
      "metadata": {
        "id": "mAQTIvtqp1cj"
      },
      "outputs": [
        {
          "data": {
            "text/plain": [
              "type\n",
              "MOVIE    111454\n",
              "SHOW       7400\n",
              "Name: count, dtype: int64"
            ]
          },
          "execution_count": 31,
          "metadata": {},
          "output_type": "execute_result"
        }
      ],
      "source": [
        "a = merged_df['type'].value_counts()\n",
        "a\n"
      ]
    },
    {
      "cell_type": "code",
      "execution_count": 32,
      "metadata": {
        "id": "BK8Ah9M-v38c"
      },
      "outputs": [
        {
          "data": {
            "image/png": "[encoded data removed]",
            "text/plain": [
              "<Figure size 800x600 with 1 Axes>"
            ]
          },
          "metadata": {},
          "output_type": "display_data"
        }
      ],
      "source": [
        "#Bar plot of type\n",
        "plt.figure(figsize=(8,6))\n",
        "sns.barplot(x = a.index, y= a.values, width=0.5, color='cyan', edgecolor = 'black')\n",
        "plt.title('Bar plot of type(Movie or TV show)\\n', color = 'brown')\n",
        "plt.ylabel('count')\n",
        "plt.show()"
      ]
    },
    {
      "cell_type": "markdown",
      "metadata": {
        "id": "X_VqEhTip1ck"
      },
      "source": [
        "##### 1. Why did you pick the specific chart?"
      ]
    },
    {
      "cell_type": "markdown",
      "metadata": {
        "id": "-vsMzt_np1ck"
      },
      "source": [
        "I chose a bar chart because the variable type (Movie vs. TV Show) is categorical with only two categories. Bar plots are the most effective way to visualize categorical distributions since they clearly highlight differences in frequency counts. Other visualizations like pie charts could be used, but bar plots are more precise in comparing absolute values and easier to interpret for stakeholders."
      ]
    },
    {
      "cell_type": "markdown",
      "metadata": {
        "id": "8zGJKyg5p1ck"
      },
      "source": [
        "##### 2. What is/are the insight(s) found from the chart?"
      ]
    },
    {
      "cell_type": "markdown",
      "metadata": {
        "id": "ZYdMsrqVp1ck"
      },
      "source": [
        "- Movies dominate the Amazon Prime catalog, with over 110,000+ entries, while TV Shows are far fewer (~7,000–10,000 range).\n",
        "\n",
        "- This indicates Amazon Prime is primarily positioned as a movie-centric streaming platform, unlike Netflix or Disney+, which have heavier investments in TV series."
      ]
    },
    {
      "cell_type": "markdown",
      "metadata": {
        "id": "PVzmfK_Ep1ck"
      },
      "source": [
        "##### 3. Will the gained insights help creating a positive business impact?\n",
        "Are there any insights that lead to negative growth? Justify with specific reason."
      ]
    },
    {
      "cell_type": "markdown",
      "metadata": {
        "id": "druuKYZpp1ck"
      },
      "source": [
        "**Positive:**\n",
        "\n",
        "- By knowing that the catalog is skewed toward movies, Amazon can differentiate marketing campaigns—emphasizing its extensive movie library as a USP (Unique Selling Proposition).\n",
        "\n",
        "- Insights also guide content acquisition strategy: If competitors gain traction with TV shows, Amazon can rebalance its content investments to attract and retain binge-watch audiences.\n",
        "\n",
        "- For data-driven decision-making, this insight could help improve customer segmentation: targeting movie lovers more aggressively, while selectively expanding TV content to capture new markets.\n",
        "\n",
        "\n",
        "**Negative:**\n",
        "\n",
        "- The lack of TV show variety could limit user engagement and retention, since TV series generally drive longer watch times, recurring engagement, and subscription stickiness compared to one-time movies.\n",
        "\n",
        "- In competitive markets, this imbalance may push users toward platforms like Netflix, which have a stronger TV show offering.\n",
        "\n",
        "So while the chart highlights a strength in movies, it also reveals a strategic gap in TV content that could negatively affect long-term growth if not addressed."
      ]
    },
    {
      "cell_type": "markdown",
      "metadata": {
        "id": "n3dbpmDWp1ck"
      },
      "source": [
        "# Chart - 13"
      ]
    },
    {
      "cell_type": "markdown",
      "metadata": {
        "id": "s-zvmZczwXw2"
      },
      "source": [
        "**Bar plot of age certification:**"
      ]
    },
    {
      "cell_type": "code",
      "execution_count": 33,
      "metadata": {
        "id": "bwevp1tKp1ck"
      },
      "outputs": [
        {
          "data": {
            "text/plain": [
              "age_certification\n",
              "R        88755\n",
              "PG-13    12302\n",
              "PG        9437\n",
              "G         3674\n",
              "TV-MA     1712\n",
              "TV-14     1478\n",
              "TV-PG      494\n",
              "TV-Y7      353\n",
              "TV-Y       293\n",
              "TV-G       240\n",
              "NC-17      116\n",
              "Name: count, dtype: int64"
            ]
          },
          "execution_count": 33,
          "metadata": {},
          "output_type": "execute_result"
        }
      ],
      "source": [
        "b = merged_df['age_certification'].value_counts()\n",
        "b"
      ]
    },
    {
      "cell_type": "code",
      "execution_count": 34,
      "metadata": {
        "id": "5c-lGxj1wx90"
      },
      "outputs": [
        {
          "data": {
            "image/png": "[encoded data removed]",
            "text/plain": [
              "<Figure size 800x600 with 1 Axes>"
            ]
          },
          "metadata": {},
          "output_type": "display_data"
        }
      ],
      "source": [
        "#Bar plot of age certification\n",
        "plt.figure(figsize = (8,6))\n",
        "sns.barplot(x = b.index, y = b.values, color= 'yellow', edgecolor = 'black')\n",
        "plt.title('Bar plot of age certification\\n', color = 'brown')\n",
        "plt.ylabel('count')\n",
        "plt.show()"
      ]
    },
    {
      "cell_type": "markdown",
      "metadata": {
        "id": "ylSl6qgtp1ck"
      },
      "source": [
        "##### 1. Why did you pick the specific chart?"
      ]
    },
    {
      "cell_type": "markdown",
      "metadata": {
        "id": "m2xqNkiQp1ck"
      },
      "source": [
        "I chose a bar chart because the variable age_certification is categorical with multiple discrete groups (R, PG-13, PG, G, etc.). Bar plots are the most effective way to visualize categorical distributions since they allow for direct comparison of content counts across certifications. Other charts like pie charts would clutter insights given the large variation in categories."
      ]
    },
    {
      "cell_type": "markdown",
      "metadata": {
        "id": "ZWILFDl5p1ck"
      },
      "source": [
        "##### 2. What is/are the insight(s) found from the chart?"
      ]
    },
    {
      "cell_type": "markdown",
      "metadata": {
        "id": "x-lUsV2mp1ck"
      },
      "source": [
        "Age cerification 'R' means person under 17 requires accompanying parent or adult guardian. There are highest number of movies with 'R' certification.\n",
        "Movies or TV shows with PG-13 rating are at 2nd position these movies may contain material that parents might find inappropriate for younger children, typically those under 13 years old.\n",
        "It is suggested for creators to make movies which comes under rating 'R', as these movies have high response from audience."
      ]
    },
    {
      "cell_type": "markdown",
      "metadata": {
        "id": "M7G43BXep1ck"
      },
      "source": [
        "##### 3. Will the gained insights help creating a positive business impact?\n",
        "Are there any insights that lead to negative growth? Justify with specific reason."
      ]
    },
    {
      "cell_type": "markdown",
      "metadata": {
        "id": "5wwDJXsLp1cl"
      },
      "source": [
        "**Positive Business Impact**\n",
        "\n",
        "- Strong R-rated content library attracts a large adult subscriber base, which aligns with the global majority of paying users.\n",
        "\n",
        "- This focus allows Amazon to differentiate itself from Disney+ and other family-heavy competitors, carving out a niche for adult entertainment.\n",
        "\n",
        "- Marketing campaigns can emphasize Amazon Prime as a go-to platform for thrillers, action, drama, and mature storytelling.\n",
        "\n",
        "\n",
        "**Negative Business Impact**\n",
        "\n",
        "- Lack of family/kids content makes the platform less attractive for multi-user households, reducing potential long-term subscription retention.\n",
        "\n",
        "- Over-dependence on R-rated titles could restrict Amazon Prime in markets with strict censorship (e.g., Middle East, some Asian countries).\n",
        "\n",
        "- Competitors offering strong children’s content may capture the younger generation early, while Amazon risks missing out on future loyal users."
      ]
    },
    {
      "cell_type": "markdown",
      "metadata": {
        "id": "FbuFiP6tb7vk"
      },
      "source": [
        "**4. Are there any insights that lead to negative growth? Justify with a specific reason.**\n",
        "\n",
        "Yes. The underrepresentation of family and child-safe content is a red flag. Households form a significant portion of the streaming market, and children’s content usually drives higher re-watch value and continuous engagement. By focusing too heavily on adult-rated content, Amazon Prime risks slower user growth in the family/household segment, which could negatively impact its long-term global subscriber base."
      ]
    },
    {
      "cell_type": "markdown",
      "metadata": {
        "id": "Ag9LCva-p1cl"
      },
      "source": [
        "# Chart - 14"
      ]
    },
    {
      "cell_type": "markdown",
      "metadata": {
        "id": "YpZOp7D0w9jE"
      },
      "source": [
        "**Bar plot of production countries:**"
      ]
    },
    {
      "cell_type": "code",
      "execution_count": 35,
      "metadata": {
        "id": "fcFhySnhU8wH"
      },
      "outputs": [
        {
          "data": {
            "text/plain": [
              "production_countries\n",
              "['US']          66793\n",
              "['IN']          10625\n",
              "['GB']           6779\n",
              "['CA']           3055\n",
              "['JP']           1917\n",
              "[]               1795\n",
              "['AU']           1591\n",
              "['FR']           1474\n",
              "['CA', 'US']     1170\n",
              "['GB', 'US']     1101\n",
              "Name: count, dtype: int64"
            ]
          },
          "execution_count": 35,
          "metadata": {},
          "output_type": "execute_result"
        }
      ],
      "source": [
        "prod_countries = merged_df['production_countries'].value_counts()\n",
        "countries = prod_countries[prod_countries >1000]\n",
        "countries"
      ]
    },
    {
      "cell_type": "code",
      "execution_count": 36,
      "metadata": {
        "id": "whN4Er4AVC8W"
      },
      "outputs": [
        {
          "data": {
            "image/png": "[encoded data removed]",
            "text/plain": [
              "<Figure size 800x600 with 1 Axes>"
            ]
          },
          "metadata": {},
          "output_type": "display_data"
        }
      ],
      "source": [
        "\n",
        "#Bar plot of production countries\n",
        "plt.figure(figsize=(8,6))\n",
        "sns.barplot(x = countries.values, y = countries.index, orient='h', color = 'lightblue', edgecolor = 'black')\n",
        "plt.title('Bar plot of production countries\\n', color = 'brown')\n",
        "plt.show()"
      ]
    },
    {
      "cell_type": "markdown",
      "metadata": {
        "id": "E6MkPsBcp1cl"
      },
      "source": [
        "##### 1. Why did you pick the specific chart?"
      ]
    },
    {
      "cell_type": "markdown",
      "metadata": {
        "id": "V22bRsFWp1cl"
      },
      "source": [
        "I used a horizontal bar chart because the variable production_countries is categorical with many entries, and horizontal orientation makes it easier to read long category names. A bar chart clearly shows which countries dominate content production and how others compare."
      ]
    },
    {
      "cell_type": "markdown",
      "metadata": {
        "id": "2cELzS2fp1cl"
      },
      "source": [
        "##### 2. What is/are the insight(s) found from the chart?"
      ]
    },
    {
      "cell_type": "markdown",
      "metadata": {
        "id": "ozQPc2_Ip1cl"
      },
      "source": [
        "- The United States dominates production on Amazon Prime, with ~65,000 titles—far higher than any other country.\n",
        "\n",
        "- India comes next, followed by the UK, Canada, Japan, Australia, and France.\n",
        "\n",
        "- There is a strong imbalance: US content overshadows all other regions, suggesting Prime’s library is highly Western-centric, particularly US-driven."
      ]
    },
    {
      "cell_type": "markdown",
      "metadata": {
        "id": "3MPXvC8up1cl"
      },
      "source": [
        "##### 3. Will the gained insights help creating a positive business impact?\n",
        "Are there any insights that lead to negative growth? Justify with specific reason."
      ]
    },
    {
      "cell_type": "markdown",
      "metadata": {
        "id": "GL8l1tdLp1cl"
      },
      "source": [
        "**Positive Business Impact**\n",
        "\n",
        "- Heavy US content strengthens Amazon Prime’s position in the global entertainment market, since US productions are widely popular and often attract large audiences.\n",
        "\n",
        "- Strong Indian presence highlights Amazon’s localization strategy in one of the fastest-growing streaming markets.\n",
        "\n",
        "- This insight helps guide marketing focus—emphasizing American blockbusters globally and Indian originals in regional campaigns.\n",
        "\n",
        "**Negative Business Impact**\n",
        "\n",
        "- Over-dependence on US content may reduce cultural diversity and alienate audiences in non-Western regions.\n",
        "\n",
        "- Limited local production in countries like Japan, Australia, France, etc., might restrict Amazon’s ability to penetrate regional markets deeply.\n",
        "\n",
        "- Competitors like Netflix are investing heavily in local originals, so Amazon risks losing market share where local content consumption is key (e.g., South Korea, Latin America)."
      ]
    },
    {
      "cell_type": "markdown",
      "metadata": {
        "id": "-4L6kaHQckq-"
      },
      "source": [
        "**4. Are there any insights that lead to negative growth? Justify with a specific reason.**\n",
        "\n",
        "Yes. The overconcentration of US content is a potential threat. While globally popular, it may limit adoption in regional markets where audiences increasingly prefer local-language shows and culturally relatable content. Without balancing US dominance with strong local originals, Amazon Prime risks slower growth in international markets, especially Asia-Pacific and Europe, where cultural preferences strongly drive viewership."
      ]
    },
    {
      "cell_type": "markdown",
      "metadata": {
        "id": "-5vN2Ov3XbEP"
      },
      "source": [
        "# **Bivariate Analysis:**"
      ]
    },
    {
      "cell_type": "markdown",
      "metadata": {
        "id": "q7bF2SafXdwn"
      },
      "source": [
        "**SCATTER PLOT:**\n",
        "\n",
        "\n",
        "A scatter plot is a type of data visualization that uses dots to represent the values of two numerical variables. Scatter plots are used to observe relationships between variables."
      ]
    },
    {
      "cell_type": "markdown",
      "metadata": {
        "id": "R15PuwIk6pQP"
      },
      "source": [
        "# Chart - 15"
      ]
    },
    {
      "cell_type": "markdown",
      "metadata": {
        "id": "A2NJBmY7Xmxo"
      },
      "source": [
        "**Scatter plot of imdb_vote and imdb_scores:**"
      ]
    },
    {
      "cell_type": "code",
      "execution_count": 37,
      "metadata": {
        "id": "6p6iI-dtXluP"
      },
      "outputs": [
        {
          "data": {
            "image/png": "[encoded data removed]",
            "text/plain": [
              "<Figure size 640x480 with 1 Axes>"
            ]
          },
          "metadata": {},
          "output_type": "display_data"
        }
      ],
      "source": [
        "sns.scatterplot(data = merged_df, x = 'imdb_votes', y = 'imdb_score', color = 'blue')\n",
        "plt.title('Scatter plot of imdb_vote and imdb_scores\\n', color = 'brown')\n",
        "plt.show()"
      ]
    },
    {
      "cell_type": "markdown",
      "metadata": {
        "id": "britjQTqc2Ki"
      },
      "source": [
        "**1. Why did you pick the specific chart?**\n",
        "\n",
        "I chose a scatter plot because both imdb_votes and imdb_scores are continuous numerical variables. A scatter plot is the best way to visualize the relationship, clustering, and spread between popularity (votes) and perceived quality (ratings). It also helps identify outliers, such as highly voted but low-rated titles or vice versa."
      ]
    },
    {
      "cell_type": "markdown",
      "metadata": {
        "id": "Z78b6-2Ic175"
      },
      "source": [
        "**2. What is/are the insight(s) found from the chart?**\n",
        "\n",
        "- Most titles cluster in the low vote range (<200k votes) with IMDb scores between 6 and 8.\n",
        "\n",
        "- A few titles with very high votes (>500k) tend to also have consistently higher scores (7–9), showing that popular titles usually maintain good ratings.\n",
        "\n",
        "- Outliers exist: some movies/shows received many votes but only moderate ratings, suggesting hype-driven popularity rather than quality."
      ]
    },
    {
      "cell_type": "markdown",
      "metadata": {
        "id": "QRMRjVdLX2Rv"
      },
      "source": [
        "**3. Will the gained insights help create a positive business impact?**\n",
        "\n",
        "**Positive Business Impact**\n",
        "\n",
        "- Identifying titles with both high ratings and high votes helps Amazon Prime highlight “flagship titles” in marketing campaigns, attracting new users.\n",
        "\n",
        "- Titles with good ratings but low votes are hidden gems—Amazon can promote them to boost engagement.\n",
        "\n",
        "- This analysis can help guide content recommendation algorithms by balancing popularity with quality.\n",
        "\n",
        "**Negative Business Impact**\n",
        "\n",
        "- A heavy concentration of titles with average ratings (6–7) may suggest Amazon is not acquiring enough critically acclaimed content, which could weaken brand positioning against competitors with premium shows.\n",
        "\n",
        "- Outliers (high votes but low ratings) could damage user trust if these titles are over-promoted."
      ]
    },
    {
      "cell_type": "markdown",
      "metadata": {
        "id": "ijc6Yn2rdU9q"
      },
      "source": [
        "**4. Are there any insights that lead to negative growth? Justify with a specific reason.**\n",
        "\n",
        "Yes. The fact that most titles sit in the mid-range (6–7 score) suggests that Amazon’s catalog may lack a sufficient share of high-quality, award-winning content. This can negatively impact brand perception, especially compared to Netflix, Disney+, or HBO, which actively market critically acclaimed shows. If Prime relies too much on average-quality titles, it risks losing premium subscribers seeking top-tier content."
      ]
    },
    {
      "cell_type": "markdown",
      "metadata": {
        "id": "xLm6W9VF62yn"
      },
      "source": [
        "# Chart - 16"
      ]
    },
    {
      "cell_type": "markdown",
      "metadata": {
        "id": "yoBeS0K6X9r2"
      },
      "source": [
        "**LINE PLOT:**\n",
        "\n",
        "Line plot connects data points with a line to show trends over time across continuous variable."
      ]
    },
    {
      "cell_type": "markdown",
      "metadata": {
        "id": "jb-QHlsNYHUP"
      },
      "source": [
        "**Line plot of runtime v/s release_year:**"
      ]
    },
    {
      "cell_type": "code",
      "execution_count": 38,
      "metadata": {
        "id": "DJ6qTjRSYQAH"
      },
      "outputs": [
        {
          "data": {
            "image/png": "[encoded data removed]",
            "text/plain": [
              "<Figure size 800x600 with 1 Axes>"
            ]
          },
          "metadata": {},
          "output_type": "display_data"
        }
      ],
      "source": [
        "plt.figure(figsize = (8,6))\n",
        "sns.lineplot(data = merged_df, y = 'runtime', x = 'release_year')\n",
        "plt.title('line plot of runtime v/s release_year\\n', color = 'brown')\n",
        "plt.show()\n"
      ]
    },
    {
      "cell_type": "markdown",
      "metadata": {
        "id": "Pxguj5xNYvIH"
      },
      "source": [
        "**1. Why did you pick the specific chart?**\n",
        "\n",
        "I chose a line plot because both runtime and release_year are continuous variables, and a line chart clearly captures trends over time. Unlike bar charts or scatter plots, line plots reveal patterns, fluctuations, and shifts in movie runtimes across decades."
      ]
    },
    {
      "cell_type": "markdown",
      "metadata": {
        "id": "0zDKtj9ado47"
      },
      "source": [
        "**2. What is/are the insight(s) found from the chart?**\n",
        "\n",
        "- Early 1900s (pre-1920s) saw very high variability, with some films reaching 180+ minutes.\n",
        "\n",
        "- Between 1930–1950, runtimes stabilized around 70–90 minutes.\n",
        "\n",
        "- From 1960 onwards, runtimes gradually increased to ~100 minutes and have remained relatively stable since then.\n",
        "\n",
        "- Modern films (2000–2020) show a consistent average runtime of ~95–105 minutes."
      ]
    },
    {
      "cell_type": "markdown",
      "metadata": {
        "id": "6QLUlVzPdxck"
      },
      "source": [
        "**3. Will the gained insights help create a positive business impact?**\n",
        "\n",
        "**Positive Business Impact**\n",
        "\n",
        "Understanding that audiences are accustomed to 90–120 minute runtimes helps Amazon Prime optimize content strategy, such as acquiring or producing films within this sweet spot.\n",
        "\n",
        "Data validates the predictability of modern runtimes, allowing better scheduling for ads, recommendations, and watch-time predictions.\n",
        "\n",
        "This insight can also guide content production teams, ensuring new releases align with viewer attention spans."
      ]
    },
    {
      "cell_type": "markdown",
      "metadata": {
        "id": "xd_4TeGpeyYM"
      },
      "source": [
        "**4. Are there any insights that lead to negative growth? Justify with a specific reason.**\n",
        "\n",
        "Yes. The stabilization of runtimes around ~100 minutes suggests Amazon may be overly focused on conventional formats. In today’s market, platforms like Netflix experiment with short episodes, interactive movies, and limited series, appealing to evolving viewer preferences. If Amazon sticks too rigidly to the standard 90–120 min format, it risks falling behind on innovation and losing engagement to competitors who adapt faster."
      ]
    },
    {
      "cell_type": "markdown",
      "metadata": {
        "id": "Dbpk8RSO6YOX"
      },
      "source": [
        "# Chart - 17"
      ]
    },
    {
      "cell_type": "markdown",
      "metadata": {
        "id": "lf1saRTgY_Fx"
      },
      "source": [
        "**Line plot of imdb_score v/s release_year:**"
      ]
    },
    {
      "cell_type": "code",
      "execution_count": 39,
      "metadata": {
        "id": "YUXUC6UvZFzv"
      },
      "outputs": [
        {
          "data": {
            "image/png": "[encoded data removed]",
            "text/plain": [
              "<Figure size 800x600 with 1 Axes>"
            ]
          },
          "metadata": {},
          "output_type": "display_data"
        }
      ],
      "source": [
        "plt.figure(figsize = (8,6))\n",
        "sns.lineplot(data = merged_df, y = 'imdb_score', x = 'release_year')\n",
        "plt.title('line plot of imdb_score v/s release_year\\n', color = 'brown')\n",
        "plt.show()"
      ]
    },
    {
      "cell_type": "markdown",
      "metadata": {
        "id": "YKjcRqFafFXi"
      },
      "source": [
        "**1. Why did you pick the specific chart?**\n",
        "\n",
        "I chose a line plot because both imdb_score and release_year are continuous variables. The line chart makes it easy to visualize long-term trends and fluctuations in ratings over time, unlike bar plots which would clutter with too many years."
      ]
    },
    {
      "cell_type": "markdown",
      "metadata": {
        "id": "y0HI0RQnZKXP"
      },
      "source": [
        "**INSIGHTS:**\n",
        "\n",
        "- Movies from 1915–1930 generally had higher IMDb ratings (6.5–7.5) compared to later decades.\n",
        "\n",
        "- Post-1930, IMDb scores declined and stabilized around 6.0–6.5, with some fluctuations.\n",
        "\n",
        "- In recent decades (2000–2020), scores appear more tightly clustered around 6.0, suggesting fewer highly rated outliers compared to early cinema.\n",
        "\n",
        "- Overall, average ratings have slightly declined over time."
      ]
    },
    {
      "cell_type": "markdown",
      "metadata": {
        "id": "Qm3Qt2I5fJHT"
      },
      "source": [
        "**3. Will the gained insights help create a positive business impact?**\n",
        "\n",
        "Yes.\n",
        "\n",
        "- Amazon Prime can position older, classic films as premium/high-quality content in their catalog since historically they scored higher. This can improve viewer engagement and niche audience retention (e.g., cinephiles, critics).\n",
        "\n",
        "- Identifies that modern films struggle to stand out in ratings, so Prime can focus on quality over quantity when commissioning originals.\n",
        "\n",
        "- Helps in marketing strategy — for instance, older movies can be marketed as \"timeless classics with top IMDb scores."
      ]
    },
    {
      "cell_type": "markdown",
      "metadata": {
        "id": "kWhXztpFfpDS"
      },
      "source": [
        "**4. Are there any insights that lead to negative growth? Justify with a specific reason.**\n",
        "\n",
        "Yes. The decline in IMDb scores post-1930s and stabilization at ~6.0 suggests that modern content is struggling to achieve the same critical acclaim as older films. If Prime relies too heavily on recent content without focusing on high-quality originals, it risks losing competitive advantage to platforms like Netflix or Disney+ that emphasize critically acclaimed productions."
      ]
    },
    {
      "cell_type": "markdown",
      "metadata": {
        "id": "IigvQuVSZqjX"
      },
      "source": [
        "**PIE CHART:**\n",
        "\n",
        "Pie chart is used to visualize the proportions of different categories within a whole dataset. It's circular statistical graph, where each slice of the pie represents a category, and the size of the slice is proportional to the category's contribution to the overall data."
      ]
    },
    {
      "cell_type": "markdown",
      "metadata": {
        "id": "vTW-2Zac7DQe"
      },
      "source": [
        "# Chart - 19"
      ]
    },
    {
      "cell_type": "markdown",
      "metadata": {
        "id": "_Te9J1o-ZyaQ"
      },
      "source": [
        "**Pie chart of type(Movie or TV show):**"
      ]
    },
    {
      "cell_type": "code",
      "execution_count": 40,
      "metadata": {
        "id": "4opq3A8xZ2qo"
      },
      "outputs": [
        {
          "data": {
            "image/png": "[encoded data removed]",
            "text/plain": [
              "<Figure size 800x600 with 1 Axes>"
            ]
          },
          "metadata": {},
          "output_type": "display_data"
        }
      ],
      "source": [
        "plt.figure(figsize = (8,6))\n",
        "plt.pie(merged_df['type'].value_counts(), labels=merged_df['type'].value_counts().index, autopct = '%.2f%%')\n",
        "plt.title('Pie chart of type(Movie or TV show)\\n', color = 'brown')\n",
        "plt.show()"
      ]
    },
    {
      "cell_type": "markdown",
      "metadata": {
        "id": "N31dWw9Bf2nz"
      },
      "source": [
        "**1. Why did you pick the specific chart?**\n",
        "\n",
        "I used a pie chart because the variable type is categorical with only two categories: Movie and Show. A pie chart clearly shows the proportion of each category relative to the whole, making it easy to visualize dominance."
      ]
    },
    {
      "cell_type": "markdown",
      "metadata": {
        "id": "DnR-x70laFIA"
      },
      "source": [
        "**INSIGHTS:**\n",
        "\n",
        "- Movies dominate the platform, making up 93.77% of total content.\n",
        "\n",
        "- TV Shows are very limited, only about 6.23% of the library.\n",
        "\n",
        "- This indicates Prime has a movie-heavy catalog compared to TV series."
      ]
    },
    {
      "cell_type": "markdown",
      "metadata": {
        "id": "9QiL5AuCf3Va"
      },
      "source": [
        "**3. Will the gained insights help create a positive business impact?**\n",
        "\n",
        "Yes.\n",
        "\n",
        "- The high proportion of movies can be marketed as a strength for movie lovers, positioning Prime as a strong movie-first platform.\n",
        "\n",
        "- Helps in targeted recommendations for movie-centric audiences, improving user engagement.\n",
        "\n",
        "- Prime can leverage TV shows as exclusive premium content (since they are fewer, they can be marketed as rare/high-value)."
      ]
    },
    {
      "cell_type": "markdown",
      "metadata": {
        "id": "JZ9wwgh7gR5c"
      },
      "source": [
        "**4. Are there any insights that lead to negative growth? Justify with a specific reason.**\n",
        "\n",
        "Yes. The under-representation of TV shows (6.23%) could hurt Prime’s long-term subscriber retention. TV shows generally drive higher engagement (binge-watching, recurring subscriptions) compared to standalone movies. Without strengthening its TV series catalog, Prime risks losing customers to platforms that offer episodic, long-form storytelling."
      ]
    },
    {
      "cell_type": "markdown",
      "metadata": {
        "id": "fAqzW3hX7G53"
      },
      "source": [
        "# Chart - 20"
      ]
    },
    {
      "cell_type": "markdown",
      "metadata": {
        "id": "YPhaNxzVaKxB"
      },
      "source": [
        "**Pie chart of age certification:**"
      ]
    },
    {
      "cell_type": "code",
      "execution_count": 41,
      "metadata": {
        "id": "HVqk1lGSaO3N"
      },
      "outputs": [
        {
          "data": {
            "text/plain": [
              "age_certification\n",
              "R        88755\n",
              "PG-13    12302\n",
              "PG        9437\n",
              "G         3674\n",
              "TV-MA     1712\n",
              "TV-14     1478\n",
              "TV-PG      494\n",
              "TV-Y7      353\n",
              "TV-Y       293\n",
              "TV-G       240\n",
              "NC-17      116\n",
              "Name: count, dtype: int64"
            ]
          },
          "execution_count": 41,
          "metadata": {},
          "output_type": "execute_result"
        }
      ],
      "source": [
        "a = merged_df['age_certification'].value_counts()\n",
        "a"
      ]
    },
    {
      "cell_type": "code",
      "execution_count": 42,
      "metadata": {
        "id": "a-_DzXIoaX3f"
      },
      "outputs": [
        {
          "ename": "ModuleNotFoundError",
          "evalue": "No module named 'plotly'",
          "output_type": "error",
          "traceback": [
            "\u001b[31m---------------------------------------------------------------------------\u001b[39m",
            "\u001b[31mModuleNotFoundError\u001b[39m                       Traceback (most recent call last)",
            "\u001b[36mCell\u001b[39m\u001b[36m \u001b[39m\u001b[32mIn[42]\u001b[39m\u001b[32m, line 2\u001b[39m\n\u001b[32m      1\u001b[39m \u001b[38;5;66;03m#pie chart of age certification\u001b[39;00m\n\u001b[32m----> \u001b[39m\u001b[32m2\u001b[39m \u001b[38;5;28;01mimport\u001b[39;00m\u001b[38;5;250m \u001b[39m\u001b[34;01mplotly\u001b[39;00m\u001b[34;01m.\u001b[39;00m\u001b[34;01mexpress\u001b[39;00m\u001b[38;5;250m \u001b[39m\u001b[38;5;28;01mas\u001b[39;00m\u001b[38;5;250m \u001b[39m\u001b[34;01mpx\u001b[39;00m\n\u001b[32m      3\u001b[39m fig = px.pie(values = a, names = a.index, title = \u001b[33m'\u001b[39m\u001b[33mPie chart of age certification\u001b[39m\u001b[33m'\u001b[39m)\n\u001b[32m      4\u001b[39m fig.show()\n",
            "\u001b[31mModuleNotFoundError\u001b[39m: No module named 'plotly'"
          ]
        }
      ],
      "source": [
        "#pie chart of age certification\n",
        "import plotly.express as px\n",
        "fig = px.pie(values = a, names = a.index, title = 'Pie chart of age certification')\n",
        "fig.show()"
      ]
    },
    {
      "cell_type": "markdown",
      "metadata": {
        "id": "fJKZ3MhkihqU"
      },
      "source": [
        "**1. Why did you pick the specific chart?**\n",
        "\n",
        "I used a pie chart because age_certification is a categorical variable with multiple classes. A pie chart is effective to show the proportional breakdown of certifications, helping to understand which audience segment is most targeted."
      ]
    },
    {
      "cell_type": "markdown",
      "metadata": {
        "id": "sQEdhdAbadJi"
      },
      "source": [
        "**INSIGHTS:**\n",
        "\n",
        "- R-rated content dominates massively, with 74.7% of all titles.\n",
        "\n",
        "- The next largest categories are PG-13 (10.4%) and PG (7.94%).\n",
        "\n",
        "- Family/kids content (G, TV-Y, TV-Y7, TV-G) is very minimal (<2%).\n",
        "\n",
        "- TV-specific certifications (like TV-MA, TV-14, TV-PG) form a tiny fraction, consistent with earlier finding that Prime is movie-heavy."
      ]
    },
    {
      "cell_type": "markdown",
      "metadata": {
        "id": "n5p9YYXsixZ7"
      },
      "source": [
        "**3. Will the gained insights help create a positive business impact?**\n",
        "\n",
        "Yes.\n",
        "\n",
        "- The high share of R-rated content positions Prime strongly for adult and mature audiences, which can be marketed as “premium” or “uncensored entertainment.”\n",
        "\n",
        "- The strong focus on adult content differentiates Prime from Disney+, which is family/kid oriented."
      ]
    },
    {
      "cell_type": "markdown",
      "metadata": {
        "id": "BjHaACUbi6K6"
      },
      "source": [
        "**4. Are there any insights that lead to negative growth? Justify with a specific reason.**\n",
        "\n",
        "Yes. The low percentage of kids/family content (<2%) may lead to lower subscription rates among families — one of the largest household customer segments in streaming. This gap can result in churn, as parents may prefer platforms offering safe, family-friendly viewing options."
      ]
    },
    {
      "cell_type": "markdown",
      "metadata": {
        "id": "SAAdShEZ7LFX"
      },
      "source": [
        "# Chart - 21"
      ]
    },
    {
      "cell_type": "markdown",
      "metadata": {
        "id": "9IAOtYBhalAg"
      },
      "source": [
        "**Violin Plot:**\n",
        "\n",
        "A Violin Plot is a statistical chart that combines aspects of a box plot and a kernel density plot to visualize the distribution of a numeric variable across different categories or groups."
      ]
    },
    {
      "cell_type": "markdown",
      "metadata": {
        "id": "8m-2MdKVatLl"
      },
      "source": [
        "**Violin Plot of imdb_score by type:**"
      ]
    },
    {
      "cell_type": "code",
      "execution_count": null,
      "metadata": {
        "id": "GlMqGt-Aaz4v"
      },
      "outputs": [],
      "source": [
        "plt.figure(figsize=(10, 6))\n",
        "sns.violinplot(x='type', y='imdb_score', data=merged_df)\n",
        "plt.title('Violin Plot of imdb_score by type')\n",
        "plt.show()"
      ]
    },
    {
      "cell_type": "markdown",
      "metadata": {
        "id": "16URbGSsjHxz"
      },
      "source": [
        "**1. Why did you pick the specific chart?**\n",
        "\n",
        "- A violin plot is perfect for comparing distributions of IMDb scores between categories (Movie vs Show).\n",
        "\n",
        "- Unlike bar charts or boxplots, violin plots show the density and spread of data, helping us see where most values are concentrated."
      ]
    },
    {
      "cell_type": "markdown",
      "metadata": {
        "id": "1CV53QeGa9aY"
      },
      "source": [
        "**INSIGHTS:**\n",
        "\n",
        "- TV Shows generally have higher IMDb scores than Movies.\n",
        "\n",
        "- Most shows are concentrated around 7–8, with many above 8.\n",
        "\n",
        "- Movies have a wider spread, but the majority cluster around 6–7.\n",
        "\n",
        "- Shows have fewer very low-rated titles, while Movies have more extreme outliers (both very low and very high ratings)."
      ]
    },
    {
      "cell_type": "markdown",
      "metadata": {
        "id": "t4ijuY37jS87"
      },
      "source": [
        "**3. Will the gained insights help create a positive business impact?**\n",
        "\n",
        "Yes.\n",
        "\n",
        "- Shows are more consistently well-received by audiences than movies.\n",
        "\n",
        "- This suggests Amazon Prime could benefit from investing more in TV series, since they tend to have higher audience satisfaction and engagement.\n",
        "\n",
        "- Good ratings improve subscriber retention, as viewers trust platform quality."
      ]
    },
    {
      "cell_type": "markdown",
      "metadata": {
        "id": "qGgCrH48jdDi"
      },
      "source": [
        "**4. Are there any insights that lead to negative growth? Justify with a specific reason.**\n",
        "\n",
        "Yes. The fact that movies (the majority of content) have lower average ratings could lead to:\n",
        "\n",
        "Lower customer satisfaction (viewers not impressed by available titles).\n",
        "\n",
        "Higher churn, as audiences may shift to platforms offering better-rated, binge-worthy shows (e.g., Netflix).\n",
        "\n",
        "Wasted content investment, since a large movie catalog does not guarantee quality perception."
      ]
    },
    {
      "cell_type": "markdown",
      "metadata": {
        "id": "g8Ca5UCWXQG4"
      },
      "source": [
        "# **Multivariable Analysis:**"
      ]
    },
    {
      "cell_type": "markdown",
      "metadata": {
        "id": "NC_X3p0fY2L0"
      },
      "source": [
        "# Chart - 22 - Correlation Heatmap\n",
        "\n",
        "A heatmap uses color intensities to represent the strength of relationships(correlation) between numeric variables in a dataset."
      ]
    },
    {
      "cell_type": "code",
      "execution_count": null,
      "metadata": {
        "id": "xyC9zolEZNRQ"
      },
      "outputs": [],
      "source": [
        "\n",
        "num_col = merged_df.select_dtypes(include = ['int64','float64'])"
      ]
    },
    {
      "cell_type": "code",
      "execution_count": null,
      "metadata": {
        "id": "ZqxcUJmSVjYm"
      },
      "outputs": [],
      "source": [
        "\n",
        "#heatmap\n",
        "plt.figure(figsize = (10,8))\n",
        "sns.heatmap(num_col.corr(), annot = True, cmap='coolwarm')\n",
        "plt.show()"
      ]
    },
    {
      "cell_type": "markdown",
      "metadata": {
        "id": "UV0SzAkaZNRQ"
      },
      "source": [
        "##### 1. Why did you pick the specific chart?"
      ]
    },
    {
      "cell_type": "markdown",
      "metadata": {
        "id": "DVPuT8LYZNRQ"
      },
      "source": [
        "- A correlation heatmap is useful to quickly detect relationships between numerical variables in the dataset.\n",
        "\n",
        "- It shows both the strength and direction (positive/negative) of correlations.\n",
        "\n",
        "- Helps identify whether certain metrics (like votes, popularity, or runtime) are good predictors of ratings."
      ]
    },
    {
      "cell_type": "markdown",
      "metadata": {
        "id": "YPEH6qLeZNRQ"
      },
      "source": [
        "##### 2. What is/are the insight(s) found from the chart?"
      ]
    },
    {
      "cell_type": "markdown",
      "metadata": {
        "id": "bfSqtnDqZNRR"
      },
      "source": [
        "- IMDb Score & TMDb Score have the highest correlation (0.62) → indicates that ratings across platforms are strongly aligned.\n",
        "\n",
        "- IMDb Votes & IMDb Score show a moderate correlation (0.26) → popular titles often have better ratings, but not always.\n",
        "\n",
        "- Runtime & Seasons are negatively correlated (-0.3) → as expected, TV shows with more seasons usually have shorter runtime per episode, while movies are longer.\n",
        "\n",
        "- Release Year has very weak correlation with ratings → newer content is not necessarily higher rated.\n",
        "\n",
        "- Popularity (TMDb) is weakly correlated with scores (~0.12–0.24) → popularity does not always mean quality."
      ]
    },
    {
      "cell_type": "markdown",
      "metadata": {
        "id": "J0UmCrqLkLja"
      },
      "source": [
        "**3. Will the gained insights help create a positive business impact?**\n",
        "\n",
        "Yes.\n",
        "\n",
        "- Strong correlation between IMDb and TMDb scores means Amazon Prime can use one rating system to predict the other, reducing dependency on multiple external sources.\n",
        "\n",
        "- Moderate correlation between votes and ratings suggests audience engagement (more votes) can serve as a proxy for quality in recommendation systems."
      ]
    },
    {
      "cell_type": "markdown",
      "metadata": {
        "id": "XDxAVXN5kUiD"
      },
      "source": [
        "**4. Are there any insights that lead to negative growth? Justify with a specific reason.**\n",
        "\n",
        "Yes. The low correlation between popularity and rating means relying too heavily on popularity-driven recommendations could cause user frustration (popular but low-rated titles being recommended). This could reduce long-term engagement and retention."
      ]
    },
    {
      "cell_type": "markdown",
      "metadata": {
        "id": "q29F0dvdveiT"
      },
      "source": [
        "# Chart - 23 - Pair Plot\n",
        "\n",
        "Pair plot visualizes the pairwise relationship between variables. It includes scatter plots for relationships and histogram or density plots for individual distributions."
      ]
    },
    {
      "cell_type": "code",
      "execution_count": null,
      "metadata": {
        "id": "o58-TEIhveiU"
      },
      "outputs": [],
      "source": [
        "# Pair Plot visualization code\n",
        "\n",
        "sns.pairplot(merged_df)\n",
        "plt.show()"
      ]
    },
    {
      "cell_type": "markdown",
      "metadata": {
        "id": "EXh0U9oCveiU"
      },
      "source": [
        "##### 1. Why did you pick the specific chart?"
      ]
    },
    {
      "cell_type": "markdown",
      "metadata": {
        "id": "eMmPjTByveiU"
      },
      "source": [
        "A pair plot was chosen because it provides a comprehensive view of the relationships between multiple numerical variables in the dataset at once. This is especially useful for exploratory data analysis (EDA), as it allows us to quickly observe potential correlations, trends, and distributions across several key metrics related to Amazon Prime titles."
      ]
    },
    {
      "cell_type": "markdown",
      "metadata": {
        "id": "22aHeOlLveiV"
      },
      "source": [
        "##### 2. What is/are the insight(s) found from the chart?"
      ]
    },
    {
      "cell_type": "markdown",
      "metadata": {
        "id": "uPQ8RGwHveiV"
      },
      "source": [
        "- There is a positive correlation between imdb_score and tmdb_score — as the IMDb score increases, the TMDb score tends to increase as well, which suggests consistency in ratings across platforms.\n",
        "\n",
        "- The number of IMDb votes (imdb_votes) appears widely spread, but there is a noticeable cluster of titles with lower vote counts, indicating that many titles may not be widely rated.\n",
        "\n",
        "- Popularity (tmdb_popularity) does not show a strong correlation with either IMDb or TMDb scores, which suggests that a high rating doesn’t necessarily correspond to higher popularity, and vice versa.\n",
        "\n",
        "- The spread of data points for all variables suggests significant variability in the dataset, with some extreme outliers, especially in imdb_votes and tmdb_popularity."
      ]
    },
    {
      "cell_type": "markdown",
      "metadata": {
        "id": "7L2l4gwWQISe"
      },
      "source": [
        "3. Will the gained insights help create a positive business impact? Are there any insights that lead to negative growth? Justify with specific reason.\n",
        "\n",
        "**Positive Impact:**\n",
        "Understanding the correlation between ratings (IMDb and TMDb) helps validate the data and suggests that relying on either source is reasonably justified when evaluating content quality. This can streamline decision-making regarding content promotion and acquisition strategies.\n",
        "\n",
        "**Negative Growth Insight:**\n",
        "The lack of a strong correlation between popularity and ratings could indicate that well-rated titles are not necessarily the most watched or popular. This highlights a potential gap in content discoverability or marketing effectiveness. If high-quality content isn’t reaching the audience effectively, it could lead to missed opportunities for user engagement and retention, ultimately impacting revenue growth."
      ]
    },
    {
      "cell_type": "markdown",
      "metadata": {
        "id": "JcMwzZxoAimU"
      },
      "source": [
        "## **5. Solution to Business Objective**"
      ]
    },
    {
      "cell_type": "markdown",
      "metadata": {
        "id": "8G2x9gOozGDZ"
      },
      "source": [
        "#### What do you suggest the client to achieve Business Objective ?\n",
        "Explain Briefly."
      ]
    },
    {
      "cell_type": "markdown",
      "metadata": {
        "id": "pASKb0qOza21"
      },
      "source": [
        "Based on the analysis, here are some suggestions to achieve your business objectives:\n",
        "\n",
        "1. Content Strategy & Acquisition:\n",
        "\n",
        "Diversify Genres: While \"Drama\" and \"Comedy\" are popular, there's an opportunity to invest in other high-performing genres like \"Action,\" \"Thriller,\" and \"Romance\" to cater to a wider audience. The data also indicates a growing interest in \"European\" content.\n",
        "Focus on High-Quality Productions: The analysis shows that titles with higher IMDb scores also tend to have more votes, indicating that quality drives engagement. Prioritize acquiring and producing high-quality content.\n",
        "Expand International Content: While the US dominates production, content from India and the UK also performs well. Continue to invest in and promote international content to cater to a global audience.\n",
        "2. User Engagement & Retention:\n",
        "\n",
        "Promote High-Performing Content: Feature the top-rated and most popular titles prominently on the platform to drive engagement.\n",
        "Optimize Content for Different Viewing Habits: The data shows a trend towards shorter runtimes for movies and longer seasons for TV shows. Cater to these preferences by offering a mix of content lengths.\n",
        "Leverage Age Certification Data: With a large portion of content rated 'R', there is a clear audience for mature content. However, ensure there is a balanced offering for other age groups to attract a wider subscriber base.\n",
        "3. Personalization & Recommendation:\n",
        "\n",
        "Enhance Recommendation Engine: Use the insights from genre preferences, production countries, and age certifications to create more personalized recommendations for users.\n",
        "Targeted Marketing Campaigns: Use the data to create targeted marketing campaigns. For example, promote new \"Action\" titles to users who have previously watched similar content.\n",
        "By implementing these suggestions, you can improve content strategy, increase user engagement, and ultimately achieve your business objectives.\n",
        "\n"
      ]
    },
    {
      "cell_type": "markdown",
      "metadata": {
        "id": "gCX9965dhzqZ"
      },
      "source": [
        "# **Conclusion**"
      ]
    },
    {
      "cell_type": "markdown",
      "metadata": {
        "id": "Fjb1IsQkh3yE"
      },
      "source": [
        "This comprehensive analysis of the Amazon Prime Video dataset has revealed several key insights that can be leveraged to drive business growth. The platform's content library is dominated by movies, with a significant amount of content originating from the US, India, and the UK. While \"Drama\" and \"Comedy\" are the most prevalent genres, there is a clear opportunity to diversify the content portfolio to cater to a broader range of tastes.\n",
        "\n",
        "The data indicates a strong correlation between content quality (IMDb score) and user engagement (IMDb votes), highlighting the importance of investing in high-quality productions. Furthermore, the analysis of content trends over time shows a shift towards shorter movie runtimes and longer TV show seasons, reflecting evolving viewer preferences.\n",
        "\n",
        "By leveraging these insights, Amazon Prime Video can optimize its content strategy, enhance user engagement, and deliver a more personalized viewing experience. The recommendations provided, including diversifying genres, promoting high-performing content, and refining the recommendation engine, offer a clear roadmap for achieving these goals and strengthening the platform's position in the competitive streaming market.\n",
        "\n"
      ]
    }
  ],
  "metadata": {
    "colab": {
      "collapsed_sections": [
        "w6K7xa23Elo4"
      ],
      "private_outputs": true,
      "provenance": []
    },
    "kernelspec": {
      "display_name": "Python 3",
      "name": "python3"
    },
    "language_info": {
      "codemirror_mode": {
        "name": "ipython",
        "version": 3
      },
      "file_extension": ".py",
      "mimetype": "text/x-python",
      "name": "python",
      "nbconvert_exporter": "python",
      "pygments_lexer": "ipython3",
      "version": "3.13.7"
    }
  },
  "nbformat": 4,
  "nbformat_minor": 0
}
