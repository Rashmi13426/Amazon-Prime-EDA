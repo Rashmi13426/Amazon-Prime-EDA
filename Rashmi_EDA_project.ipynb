{
  "nbformat": 4,
  "nbformat_minor": 0,
  "metadata": {
    "colab": {
      "private_outputs": true,
      "provenance": [],
      "collapsed_sections": [
        "w6K7xa23Elo4"
      ]
    },
    "kernelspec": {
      "name": "python3",
      "display_name": "Python 3"
    },
    "language_info": {
      "name": "python"
    }
  },
  "cells": [
    {
      "cell_type": "markdown",
      "source": [
        "# **Project Name**    -  Amazon Prime EDA\n",
        "\n",
        "\n",
        "\n",
        "\n"
      ],
      "metadata": {
        "id": "vncDsAP0Gaoa"
      }
    },
    {
      "cell_type": "markdown",
      "source": [
        "##### **Project Type**    - EDA\n",
        "##### **Contribution**    - Individual\n",
        "##### **Name - RASHMI L**\n"
      ],
      "metadata": {
        "id": "beRrZCGUAJYm"
      }
    },
    {
      "cell_type": "markdown",
      "source": [
        "# **Project Summary -**"
      ],
      "metadata": {
        "id": "FJNUwmbgGyua"
      }
    },
    {
      "cell_type": "markdown",
      "source": [
        "This project focuses on performing a structured Exploratory Data Analysis (EDA) on an unbiased dataset with the goal of uncovering patterns, trends, and actionable insights that could support informed decision-making. The analysis follows a systematic approach: understanding the data, cleaning and preprocessing, applying descriptive statistics, visualizing relationships, and interpreting findings in a way that aligns with real-world business objectives.\n",
        "\n",
        "The process begins with a data familiarization stage, where key attributes, data types, and missing values are examined. This step is crucial to ensure a strong foundation for analysis. Handling missing values, correcting inconsistencies, and addressing outliers are integral to building reliable datasets. These preprocessing techniques not only improve the accuracy of analysis but also simulate real-world scenarios, where raw business data often arrives in incomplete or unstructured form.\n",
        "\n",
        "Once the dataset is prepared, the analysis is carried out using the UBM framework:\n",
        "\n",
        "Univariate analysis explores individual variables, providing clarity on distributions, central tendencies, and variability. Charts such as histograms, box plots, and bar charts help identify skewness, spread, and frequency distributions, allowing us to spot anomalies or imbalances in categorical and numerical features.\n",
        "\n",
        "Bivariate analysis investigates relationships between two variables. Here, scatter plots, correlation heatmaps, and grouped bar charts are particularly insightful. They reveal associations such as positive or negative correlations, categorical impacts on numerical outcomes, and dependencies between features.\n",
        "\n",
        "Multivariate analysis combines multiple features to identify deeper patterns. Techniques such as pair plots and advanced visualizations demonstrate how several variables interact simultaneously, leading to insights that go beyond simple two-variable comparisons.\n",
        "\n",
        "An important aspect of this project is not just the creation of visualizations but also the interpretation of insights in a business context. For every chart, the analysis explains why a particular visualization was chosen, what patterns it highlights, and how those insights could translate into business actions. For example, identifying highly correlated features may inform feature selection in predictive modeling, while detecting customer segments with distinct behavior could guide marketing strategies.\n",
        "\n",
        "Throughout the project, the emphasis is on clarity, reproducibility, and communication. Well-commented code ensures that each step is transparent and can be understood by both technical and non-technical audiences. Structured explanations bridge the gap between data findings and business relevance, showcasing not just technical competency but also storytelling ability—an essential skill for data analysts.\n",
        "\n",
        "This project also reflects best practices in analytical rigor and professional presentation. By adhering to guidelines such as creating at least 20 meaningful charts, providing justifications for each, and ensuring the notebook runs error-free from start to finish, the work demonstrates a balance of technical excellence and business orientation. Furthermore, the inclusion of exception handling and production-ready practices ensures that the project is more than an academic exercise; it models the standards expected in professional analytics environments.\n",
        "\n",
        "In conclusion, this EDA project illustrates a strong ability to transform raw data into actionable insights. From meticulous cleaning and preprocessing to advanced visualization and interpretation, it highlights a well-rounded analytical approach. By focusing on both statistical validity and business impact, the project not only uncovers patterns within the dataset but also communicates them in a way that decision-makers can act upon. This balance of technical skill and business insight is the hallmark of effective data analysis and reflects the qualities required for success in a data analyst role."
      ],
      "metadata": {
        "id": "F6v_1wHtG2nS"
      }
    },
    {
      "cell_type": "markdown",
      "source": [
        "# **GitHub Link -**"
      ],
      "metadata": {
        "id": "w6K7xa23Elo4"
      }
    },
    {
      "cell_type": "markdown",
      "source": [
        "Provide your GitHub Link here."
      ],
      "metadata": {
        "id": "h1o69JH3Eqqn"
      }
    },
    {
      "cell_type": "markdown",
      "source": [
        "# **Problem Statement**\n"
      ],
      "metadata": {
        "id": "yQaldy8SH6Dl"
      }
    },
    {
      "cell_type": "markdown",
      "source": [
        "This dataset was created to analyze all shows available on Amazon Prime Video, allowing us to extract valuable insights such as:\n",
        "\n",
        "- Content Diversity: What genres and categories dominate the platform?\n",
        "Regional Availability: How does content distribution vary across different regions?\n",
        "\n",
        "- Trends Over Time: How has Amazon Prime’s content library evolved?\n",
        "\n",
        "- IMDb Ratings & Popularity: What are the highest-rated or most popular shows on the platform?\n",
        "\n",
        "By analyzing this dataset, businesses, content creators, and data analysts can uncover key trends that influence subscription growth, user engagement, and content investment strategies in the streaming industry.\n",
        "\n",
        "- Examine the participation of cast and crew, uncovering the most influential contributors.\n",
        "\n",
        "By uncovering these patterns, the project provides actionable insights that can guide Amazon Prime in content acquisition, talent partnerships, and regional market expansion strategies. Ultimately, the goal is to demonstrate how structured data analysis of streaming content can support business decisions in content strategy and competitive positioning.-"
      ],
      "metadata": {
        "id": "DpeJGUA3kjGy"
      }
    },
    {
      "cell_type": "markdown",
      "source": [
        "# **General Guidelines** : -  "
      ],
      "metadata": {
        "id": "mDgbUHAGgjLW"
      }
    },
    {
      "cell_type": "markdown",
      "source": [
        "1.   Well-structured, formatted, and commented code is required.\n",
        "2.   Exception Handling, Production Grade Code & Deployment Ready Code will be a plus. Those students will be awarded some additional credits.\n",
        "     \n",
        "     The additional credits will have advantages over other students during Star Student selection.\n",
        "       \n",
        "             [ Note: - Deployment Ready Code is defined as, the whole .ipynb notebook should be executable in one go\n",
        "                       without a single error logged. ]\n",
        "\n",
        "3.   Each and every logic should have proper comments.\n",
        "4. You may add as many number of charts you want. Make Sure for each and every chart the following format should be answered.\n",
        "        \n",
        "\n",
        "```\n",
        "# Chart visualization code\n",
        "```\n",
        "            \n",
        "\n",
        "*   Why did you pick the specific chart?\n",
        "*   What is/are the insight(s) found from the chart?\n",
        "* Will the gained insights help creating a positive business impact?\n",
        "Are there any insights that lead to negative growth? Justify with specific reason.\n",
        "\n",
        "5. You have to create at least 20 logical & meaningful charts having important insights.\n",
        "\n",
        "\n",
        "[ Hints : - Do the Vizualization in  a structured way while following \"UBM\" Rule.\n",
        "\n",
        "U - Univariate Analysis,\n",
        "\n",
        "B - Bivariate Analysis (Numerical - Categorical, Numerical - Numerical, Categorical - Categorical)\n",
        "\n",
        "M - Multivariate Analysis\n",
        " ]\n",
        "\n",
        "\n",
        "\n"
      ],
      "metadata": {
        "id": "ZrxVaUj-hHfC"
      }
    },
    {
      "cell_type": "markdown",
      "source": [
        "## ***1. Know Your Data***"
      ],
      "metadata": {
        "id": "HhfV-JJviCcP"
      }
    },
    {
      "cell_type": "markdown",
      "source": [
        "### Import Libraries"
      ],
      "metadata": {
        "id": "Y3lxredqlCYt"
      }
    },
    {
      "cell_type": "code",
      "source": [
        "# Import Libraries\n",
        "\n",
        "# Import Libraries\n",
        "import numpy as np\n",
        "'''While it wasn't explicitly used in the subsequent cells you've executed so far, it's a common practice to import it at the beginning of data analysis projects as it provides support for large,\n",
        "multi-dimensional arrays and matrices, along with a large collection of high-level mathematical functions to operate on these arrays.\n",
        "It's likely included as a standard import for potential future use in numerical operations or data manipulation within the notebook.'''\n",
        "import pandas as pd\n",
        "import matplotlib.pyplot as plt\n",
        "import seaborn as sns  #Perfect for correlation heatmaps, pair plots, distribution plots, and boxplots with minimal code.\n",
        "from datetime import datetime\n",
        "import warnings\n",
        "warnings.filterwarnings('ignore')"
      ],
      "metadata": {
        "id": "M8Vqi-pPk-HR"
      },
      "execution_count": null,
      "outputs": []
    },
    {
      "cell_type": "markdown",
      "source": [
        "### Dataset Loading"
      ],
      "metadata": {
        "id": "3RnN4peoiCZX"
      }
    },
    {
      "cell_type": "markdown",
      "source": [],
      "metadata": {
        "id": "PolkE9D4rQd-"
      }
    },
    {
      "cell_type": "code",
      "source": [
        "# Load Dataset\n",
        "\n",
        "credits_csv = pd.read_csv('/content/credits.csv.zip')\n",
        "titles_csv = pd.read_csv('/content/titles.csv.zip')\n",
        "\n",
        "merged_df = pd.merge(titles_csv, credits_csv, on='id',how = 'left')\n"
      ],
      "metadata": {
        "id": "4CkvbW_SlZ_R"
      },
      "execution_count": null,
      "outputs": []
    },
    {
      "cell_type": "markdown",
      "source": [
        "### Dataset First View"
      ],
      "metadata": {
        "id": "x71ZqKXriCWQ"
      }
    },
    {
      "cell_type": "code",
      "source": [
        "# Dataset First Look\n",
        "merged_df.head()"
      ],
      "metadata": {
        "id": "LWNFOSvLl09H"
      },
      "execution_count": null,
      "outputs": []
    },
    {
      "cell_type": "code",
      "source": [
        "merged_df.tail()"
      ],
      "metadata": {
        "id": "24JKzZ9SxB2S"
      },
      "execution_count": null,
      "outputs": []
    },
    {
      "cell_type": "markdown",
      "source": [
        "### Dataset Rows & Columns count"
      ],
      "metadata": {
        "id": "7hBIi_osiCS2"
      }
    },
    {
      "cell_type": "code",
      "source": [
        "# Dataset Rows & Columns count\n",
        "\n",
        "merged_df.shape\n",
        "\n",
        "\n"
      ],
      "metadata": {
        "id": "Kllu7SJgmLij"
      },
      "execution_count": null,
      "outputs": []
    },
    {
      "cell_type": "code",
      "source": [
        "len(merged_df) #to find number of rows"
      ],
      "metadata": {
        "id": "moeVXSEBz49x"
      },
      "execution_count": null,
      "outputs": []
    },
    {
      "cell_type": "markdown",
      "source": [
        "### Dataset Information"
      ],
      "metadata": {
        "id": "JlHwYmJAmNHm"
      }
    },
    {
      "cell_type": "code",
      "source": [
        "# Dataset Info\n",
        "\n",
        "merged_df.info()"
      ],
      "metadata": {
        "id": "e9hRXRi6meOf"
      },
      "execution_count": null,
      "outputs": []
    },
    {
      "cell_type": "markdown",
      "source": [
        "#### Duplicate Values"
      ],
      "metadata": {
        "id": "35m5QtbWiB9F"
      }
    },
    {
      "cell_type": "code",
      "source": [
        "# Dataset Duplicate Value Count\n",
        "\n",
        "duplicate_values = merged_df.duplicated().sum()\n",
        "print(f\"Number of duplicate rows in merged_df: {duplicate_values}\")"
      ],
      "metadata": {
        "id": "1sLdpKYkmox0"
      },
      "execution_count": null,
      "outputs": []
    },
    {
      "cell_type": "code",
      "source": [
        "merged_df[merged_df.duplicated()].head()"
      ],
      "metadata": {
        "id": "ut1K0gpm0sLI"
      },
      "execution_count": null,
      "outputs": []
    },
    {
      "cell_type": "code",
      "source": [
        "merged_df = merged_df.drop_duplicates()"
      ],
      "metadata": {
        "id": "C2PvoJjv3MvL"
      },
      "execution_count": null,
      "outputs": []
    },
    {
      "cell_type": "code",
      "source": [
        "merged_df.shape"
      ],
      "metadata": {
        "id": "ahG3uE104fsG"
      },
      "execution_count": null,
      "outputs": []
    },
    {
      "cell_type": "markdown",
      "source": [
        "#### Missing Values/Null Values"
      ],
      "metadata": {
        "id": "PoPl-ycgm1ru"
      }
    },
    {
      "cell_type": "code",
      "source": [
        "# Missing Values/Null Values Count\n",
        "\n",
        "merged_df.isnull().sum()"
      ],
      "metadata": {
        "id": "GgHWkxvamxVg"
      },
      "execution_count": null,
      "outputs": []
    },
    {
      "cell_type": "markdown",
      "source": [
        "### What did you know about your dataset?"
      ],
      "metadata": {
        "id": "H0kj-8xxnORC"
      }
    },
    {
      "cell_type": "markdown",
      "source": [
        "Answer Here"
      ],
      "metadata": {
        "id": "gfoNAAC-nUe_"
      }
    },
    {
      "cell_type": "markdown",
      "source": [
        "## ***2. Understanding Your Variables***"
      ],
      "metadata": {
        "id": "nA9Y7ga8ng1Z"
      }
    },
    {
      "cell_type": "code",
      "source": [
        "# Dataset Columns\n",
        "\n",
        "merged_df.columns"
      ],
      "metadata": {
        "id": "j7xfkqrt5Ag5"
      },
      "execution_count": null,
      "outputs": []
    },
    {
      "cell_type": "code",
      "source": [
        "# Dataset Describe\n",
        "\n",
        "merged_df.describe()"
      ],
      "metadata": {
        "id": "DnOaZdaE5Q5t"
      },
      "execution_count": null,
      "outputs": []
    },
    {
      "cell_type": "markdown",
      "source": [
        "### Variables Description"
      ],
      "metadata": {
        "id": "PBTbrJXOngz2"
      }
    },
    {
      "cell_type": "markdown",
      "source": [
        "Answer Here"
      ],
      "metadata": {
        "id": "aJV4KIxSnxay"
      }
    },
    {
      "cell_type": "markdown",
      "source": [
        "### Check Unique Values for each variable."
      ],
      "metadata": {
        "id": "u3PMJOP6ngxN"
      }
    },
    {
      "cell_type": "code",
      "source": [
        "# Check Unique Values for each variable.\n",
        "\n",
        "for column in merged_df.columns:\n",
        "    unique_values = merged_df[column].unique()\n",
        "    print(f\"Unique values for {column}: {unique_values}\")"
      ],
      "metadata": {
        "id": "zms12Yq5n-jE"
      },
      "execution_count": null,
      "outputs": []
    },
    {
      "cell_type": "markdown",
      "source": [
        "## 3. ***Data Wrangling***"
      ],
      "metadata": {
        "id": "dauF4eBmngu3"
      }
    },
    {
      "cell_type": "markdown",
      "source": [
        "### Data Wrangling Code"
      ],
      "metadata": {
        "id": "bKJF3rekwFvQ"
      }
    },
    {
      "cell_type": "code",
      "source": [
        "# Write your code to make your dataset analysis ready.\n",
        "merged_df.dropna(subset=['description', 'imdb_id'], inplace=True)\n",
        "\n",
        "mode_age_certi = merged_df['age_certification'].mode()[0]\n",
        "merged_df['age_certification'].fillna(mode_age_certi, inplace=True)\n",
        "\n",
        "merged_df['seasons'].fillna(0, inplace=True)\n",
        "\n",
        "merged_df['imdb_votes'].fillna(0, inplace=True)\n",
        "\n",
        "merged_df['character'].fillna('unknown', inplace=True)\n",
        "\n",
        "merged_df['imdb_score'].fillna(merged_df['imdb_score'].mean(), inplace=True)\n",
        "\n",
        "merged_df['tmdb_score'].fillna(merged_df['tmdb_score'].mean(), inplace=True)\n",
        "\n",
        "merged_df['tmdb_popularity'].fillna(merged_df['tmdb_popularity'].mean(), inplace=True)\n",
        "\n",
        "merged_df = merged_df.dropna(subset=['person_id', 'name', 'role'])\n",
        "\n",
        "\n",
        "\n"
      ],
      "metadata": {
        "id": "wk-9a2fpoLcV"
      },
      "execution_count": null,
      "outputs": []
    },
    {
      "cell_type": "code",
      "source": [
        "merged_df.isnull().sum()\n"
      ],
      "metadata": {
        "id": "bVwj1z-6Bwmg"
      },
      "execution_count": null,
      "outputs": []
    },
    {
      "cell_type": "code",
      "source": [],
      "metadata": {
        "id": "CB69cPUsBq5R"
      },
      "execution_count": null,
      "outputs": []
    },
    {
      "cell_type": "markdown",
      "source": [
        "### What all manipulations have you done and insights you found?"
      ],
      "metadata": {
        "id": "MSa1f5Uengrz"
      }
    },
    {
      "cell_type": "markdown",
      "source": [
        "\n",
        "\n",
        "**1. Data Loading & Merging:**\n",
        "\n",
        "Loaded two datasets: titles.csv (content info) and credits.csv (cast/crew info).\n",
        "\n",
        "Merged them using a left join on the id column to retain all shows and movies, even if cast/crew data was missing.\n",
        "\n",
        "\n",
        "**2. Handling Duplicates:**\n",
        "\n",
        "Removed duplicate rows from the merged dataset using:\n",
        "\n",
        "merged_df = merged_df.drop_duplicates()\n",
        "\n",
        "**3. Handling Missing Values:**\n",
        "\n",
        " **Dropped nulls:**\n",
        "\n",
        "Dropped rows with missing description and imdb_id as these are essential metadata fields.\n",
        "\n",
        "merged_df = merged_df.dropna(subset=['description', 'imdb_id'])\n",
        "\n",
        "**Imputed Values:**\n",
        "\n",
        "Replaced missing values in age_certification with its mode:\n",
        "\n",
        "merged_df['age_certification'].fillna(merged_df['age_certification'].mode()[0], inplace=True).\n",
        "\n",
        "Replaced missing seasons and imdb_votes with 0 and character with 'Unknown' to avoid data loss.\n",
        "\n",
        "merged_df['seasons'].fillna(0, inplace=True)\n",
        "merged_df['imdb_votes'].fillna(0, inplace=True)\n",
        "merged_df['character'].fillna('Unknown', inplace=True)\n",
        "\n",
        "Replaced missing numerical scores like imdb_score, tmdb_popularity, and tmdb_score with their respective mean values to maintain overall data distribution.\n",
        "\n",
        "merged_df['imdb_score'].fillna(merged_df['imdb_score'].mean(), inplace=True)\n",
        "merged_df['tmdb_popularity'].fillna(merged_df['tmdb_popularity'].mean(), inplace=True)\n",
        "merged_df['tmdb_score'].fillna(merged_df['tmdb_score'].mean(), inplace=True)\n",
        "\n",
        "**Removed Unusable Cast Data:**\n",
        "Dropped rows where person_id, name, and role were all null — such rows lacked usable cast/crew information.\n",
        "\n",
        "\n",
        "**4. Insight from Data Cleaning**\n",
        "\n",
        "The dataset had missing values across description, certifications, and rating metrics, indicating inconsistent data recording in the source.\n",
        "\n",
        "Many shows lacked actor-level data, especially older titles, which could skew popularity analysis — handled by carefully dropping only fully unusable entries.\n",
        "\n",
        "Imputation helped preserve the dataset’s overall structure without introducing strong bias or reducing sample size significantly.\n",
        "\n",
        "\n",
        "\n",
        "\n",
        "\n",
        "\n"
      ],
      "metadata": {
        "id": "LbyXE7I1olp8"
      }
    },
    {
      "cell_type": "code",
      "source": [],
      "metadata": {
        "id": "tbvPwoaIJGLl"
      },
      "execution_count": null,
      "outputs": []
    },
    {
      "cell_type": "markdown",
      "source": [
        "## ***4. Data Vizualization, Storytelling & Experimenting with charts : Understand the relationships between variables***"
      ],
      "metadata": {
        "id": "GF8Ens_Soomf"
      }
    },
    {
      "cell_type": "markdown",
      "source": [
        "**Data Vizualization**\n",
        "\n",
        "Data visualization is the graphical representation of information and data. By using visual elements like charts, graphs, and maps, data visualization tools provide an accessible way to see and understand trends, outliers, and patterns in data.\n"
      ],
      "metadata": {
        "id": "631LihacnX9O"
      }
    },
    {
      "cell_type": "markdown",
      "source": [
        "# **PROBLEM STATEMENTS:**"
      ],
      "metadata": {
        "id": "B-986d8On1Ms"
      }
    },
    {
      "cell_type": "markdown",
      "source": [
        "# Chart - 1"
      ],
      "metadata": {
        "id": "0wOQAZs5pc--"
      }
    },
    {
      "cell_type": "markdown",
      "source": [
        "**Problem: Content Diversity: What genres and categories dominate the platform?**"
      ],
      "metadata": {
        "id": "afBjZY5149wW"
      }
    },
    {
      "cell_type": "code",
      "source": [
        "# Chart - 1 visualization code\n",
        "# problem: Content Diversity: What genres and categories dominate the platform?\n",
        "\n",
        "merged_df['genres'] = merged_df['genres'].apply(eval)  # Convert string to list\n",
        "genre_df = merged_df.explode('genres')\n",
        "\n",
        "genre_count = genre_df['genres'].value_counts().reset_index()\n",
        "genre_count.columns = ['Genre', 'Count']\n",
        "\n",
        "plt.figure(figsize=(12, 6))\n",
        "sns.barplot(x='Count', y='Genre', data=genre_count, palette='viridis')\n",
        "plt.title('Distribution of Content by Genre on Amazon Prime')\n",
        "plt.xlabel('Number of Titles')\n",
        "plt.ylabel('Genre')\n",
        "plt.tight_layout() #Automatically adjusts padding and spacing of the plot elements to avoid overlapping or cutoff text.\n",
        "plt.show()"
      ],
      "metadata": {
        "id": "7v_ESjsspbW7"
      },
      "execution_count": null,
      "outputs": []
    },
    {
      "cell_type": "code",
      "source": [
        "plt.figure(figsize=(12, 6))\n",
        "sns.barplot(x='Genre', y='Count', data=genre_count, palette='viridis')\n",
        "plt.title('Distribution of Content by Genre on Amazon Prime')\n",
        "plt.xlabel('Genre')\n",
        "plt.ylabel('Number of Titles')\n",
        "plt.xticks(rotation=45)  # Rotate x-axis labels to avoid overlap\n",
        "plt.tight_layout()\n",
        "plt.show()\n"
      ],
      "metadata": {
        "id": "6dEct49KWRAt"
      },
      "execution_count": null,
      "outputs": []
    },
    {
      "cell_type": "markdown",
      "source": [
        "1. Why did you pick the specific chart?"
      ],
      "metadata": {
        "id": "K5QZ13OEpz2H"
      }
    },
    {
      "cell_type": "markdown",
      "source": [
        "I chose a horizontal bar chart because it clearly shows categorical data (genres) against numerical counts (number of titles). It is an intuitive way to compare the relative popularity of different genres in the Amazon Prime catalog."
      ],
      "metadata": {
        "id": "a7skD5ln3jD-"
      }
    },
    {
      "cell_type": "markdown",
      "source": [
        "2. What is/are the insight(s) found from the chart?"
      ],
      "metadata": {
        "id": "H4r2AP1MEZYh"
      }
    },
    {
      "cell_type": "markdown",
      "source": [
        "The chart shows that Drama and Comedy dominate the platform, followed by Thriller, Action, and Romance. Niche genres like Reality, Sports, and Animation are underrepresented. This highlights Amazon Prime’s heavy focus on mainstream genres, while more specialized categories receive less attention."
      ],
      "metadata": {
        "id": "UbpVSq9i3kFY"
      }
    },
    {
      "cell_type": "markdown",
      "source": [
        "3. Will the gained insights help creating a positive business impact?\n",
        "Are there any insights that lead to negative growth? Justify with specific reason.\n",
        "\n"
      ],
      "metadata": {
        "id": "448CDAPjqfQr"
      }
    },
    {
      "cell_type": "markdown",
      "source": [
        "- **Positive:** The dominance of Drama and Comedy ensures mass-market appeal and broad audience engagement.\n",
        "\n",
        "- **Negative:** Underrepresentation of niche genres may alienate certain customer segments who prefer diverse content. Expanding into areas like Animation or Sports could attract younger viewers or regional markets, strengthening Amazon Prime’s competitive position against rivals like Netflix and Disney+."
      ],
      "metadata": {
        "id": "Vb5VR0t83kqH"
      }
    },
    {
      "cell_type": "markdown",
      "source": [
        "# Chart - 2"
      ],
      "metadata": {
        "id": "KSlN3yHqYklG"
      }
    },
    {
      "cell_type": "markdown",
      "source": [
        "## **Regional Availability: How does content distribution vary across different regions?**\n",
        "\n",
        "\n",
        "\n"
      ],
      "metadata": {
        "id": "3CAS8bE05EnG"
      }
    },
    {
      "cell_type": "code",
      "source": [
        "#Regional Availability: How does content distribution vary across different regions?\n",
        "\n",
        "import pandas as pd\n",
        "import matplotlib.pyplot as plt\n",
        "import seaborn as sns\n",
        "\n",
        "# Split country list (if multiple countries are listed in a single string)\n",
        "country_series = merged_df['production_countries'].dropna().str.split(',').explode().str.strip()\n",
        "\n",
        "# Count how many times each country appears\n",
        "country_counts = country_series.value_counts().head(10)\n",
        "\n",
        "# Plotting\n",
        "plt.figure(figsize=(10,6))\n",
        "sns.barplot(x=country_counts.values, y=country_counts.index, palette='magma')\n",
        "plt.title('Top 10 Production Countries on Amazon Prime')\n",
        "plt.xlabel('Number of Titles')\n",
        "plt.ylabel('Country')\n",
        "plt.tight_layout()\n",
        "plt.show()\n"
      ],
      "metadata": {
        "id": "R4YgtaqtYklH"
      },
      "execution_count": null,
      "outputs": []
    },
    {
      "cell_type": "markdown",
      "source": [
        "##### 1. Why did you pick the specific chart?"
      ],
      "metadata": {
        "id": "t6dVpIINYklI"
      }
    },
    {
      "cell_type": "markdown",
      "source": [
        "I chose a horizontal bar chart because it’s the most effective way to visually compare the number of titles across different countries. Since country names can be long and categorical, a horizontal layout makes the chart easier to read and interpret. Using the top 10 countries keeps the chart focused and avoids clutter."
      ],
      "metadata": {
        "id": "5aaW0BYyYklI"
      }
    },
    {
      "cell_type": "markdown",
      "source": [
        "##### 2. What is/are the insight(s) found from the chart?"
      ],
      "metadata": {
        "id": "ijmpgYnKYklI"
      }
    },
    {
      "cell_type": "markdown",
      "source": [
        "The chart reveals which countries contribute the most content to Amazon Prime. For example, the U.S. may dominate the catalog, followed by countries like India, UK, or Canada. This highlights regional dominance and gaps in content diversity. If certain countries are underrepresented, it may indicate opportunities for content acquisition or local production."
      ],
      "metadata": {
        "id": "PSx9atu2YklI"
      }
    },
    {
      "cell_type": "markdown",
      "source": [
        "##### 3. Will the gained insights help creating a positive business impact?\n",
        "Are there any insights that lead to negative growth? Justify with specific reason."
      ],
      "metadata": {
        "id": "-JiQyfWJYklI"
      }
    },
    {
      "cell_type": "markdown",
      "source": [
        "- **Positive:** A strong U.S. presence ensures alignment with global entertainment demand, while India’s large contribution highlights Amazon Prime’s focus on one of the fastest-growing streaming markets.\n",
        "\n",
        "- **Negative:** Overreliance on a few countries may limit regional diversity. To attract more global audiences, Amazon Prime could expand partnerships in underrepresented regions like Europe, Latin America, and Africa. Additionally, cleaning inconsistent country codes in metadata could improve analytics accuracy."
      ],
      "metadata": {
        "id": "olUP4jImF0Tg"
      }
    },
    {
      "cell_type": "markdown",
      "source": [
        "# Chart - 3"
      ],
      "metadata": {
        "id": "EM7whBJCYoAo"
      }
    },
    {
      "cell_type": "markdown",
      "source": [
        "**Trends Over Time: How has Amazon Prime’s content library evolved?**"
      ],
      "metadata": {
        "id": "ayDF3sd-5WGW"
      }
    },
    {
      "cell_type": "code",
      "source": [
        "# Chart - 3 visualization code]\n",
        "#Trends Over Time: How has Amazon Prime’s content library evolved?\n",
        "\n",
        "import matplotlib.pyplot as plt\n",
        "import seaborn as sns\n",
        "import pandas as pd  # Make sure pandas is imported if not already\n",
        "\n",
        "# Ensure 'release_year' is numeric\n",
        "merged_df['release_year'] = pd.to_numeric(merged_df['release_year'], errors='coerce')\n",
        "\n",
        "# Count number of titles per year\n",
        "titles_by_year = merged_df['release_year'].value_counts().sort_index()\n",
        "\n",
        "# Plotting the trend\n",
        "plt.figure(figsize=(14, 6))\n",
        "sns.lineplot(x=titles_by_year.index, y=titles_by_year.values, marker='o', color='green')\n",
        "plt.title(' Number of Titles Released Over the Years', fontsize=16)\n",
        "plt.xlabel('Release Year', fontsize=12)\n",
        "plt.ylabel('Number of Titles', fontsize=12)\n",
        "plt.grid(True)\n",
        "plt.xticks(rotation=45)\n",
        "plt.tight_layout()\n",
        "plt.show()\n"
      ],
      "metadata": {
        "id": "t6GMdE67YoAp"
      },
      "execution_count": null,
      "outputs": []
    },
    {
      "cell_type": "markdown",
      "source": [
        "##### 1. Why did you pick the specific chart?"
      ],
      "metadata": {
        "id": "fge-S5ZAYoAp"
      }
    },
    {
      "cell_type": "markdown",
      "source": [
        "I chose a line chart because it's ideal for visualizing trends over time. It helps us clearly track how the number of releases has increased, decreased, or remained stable year after year. This is much more effective than a bar chart for detecting growth patterns or sudden drops."
      ],
      "metadata": {
        "id": "5dBItgRVYoAp"
      }
    },
    {
      "cell_type": "markdown",
      "source": [
        "##### 2. What is/are the insight(s) found from the chart?"
      ],
      "metadata": {
        "id": "85gYPyotYoAp"
      }
    },
    {
      "cell_type": "markdown",
      "source": [
        "The chart reveals how the volume of content released has changed annually. For example:\n",
        "\n",
        "A sharp rise post-2015 might suggest aggressive content acquisition.\n",
        "\n",
        "A dip in 2020 could reflect production delays due to COVID-19.\n",
        "\n",
        "Steady growth may reflect consistent platform investment.\n",
        "\n",
        "\n",
        "These insights help us understand platform strategy and how global events may impact digital content pipelines."
      ],
      "metadata": {
        "id": "4jstXR6OYoAp"
      }
    },
    {
      "cell_type": "markdown",
      "source": [
        "##### 3. Will the gained insights help creating a positive business impact?\n",
        "Are there any insights that lead to negative growth? Justify with specific reason."
      ],
      "metadata": {
        "id": "RoGjAbkUYoAp"
      }
    },
    {
      "cell_type": "markdown",
      "source": [
        "- **Positive: **The rapid increase in content releases in the 2010s reflects Amazon Prime’s aggressive strategy in content acquisition and global expansion, which aligns with the industry-wide streaming boom.\n",
        "\n",
        "- **Negative: **The sudden decline post-2020 could indicate either a real reduction in content production or dataset limitations. For decision-making, it highlights the need to ensure up-to-date, complete data and to plan for external risks (like pandemics) that may affect production."
      ],
      "metadata": {
        "id": "eOSy4hMQGOXK"
      }
    },
    {
      "cell_type": "markdown",
      "source": [
        "# **Chart- 4**"
      ],
      "metadata": {
        "id": "1p07d1Ut5h-m"
      }
    },
    {
      "cell_type": "markdown",
      "source": [
        "**For top 10 most popular titles by IMDb votes**"
      ],
      "metadata": {
        "id": "w8WobWfVHaiZ"
      }
    },
    {
      "cell_type": "code",
      "source": [
        "#for top 10 most popular titles by IMDb votes\n",
        "\n",
        "import pandas as pd\n",
        "import matplotlib.pyplot as plt\n",
        "import seaborn as sns\n",
        "\n",
        "# Convert imdb_votes to numeric (just in case it's a string)\n",
        "merged_df['imdb_votes'] = pd.to_numeric(merged_df['imdb_votes'], errors='coerce')\n",
        "\n",
        "# Drop duplicates\n",
        "popular = merged_df.drop_duplicates(subset=['title'])\n",
        "\n",
        "# Sort and select top 10 by votes\n",
        "popular = popular.sort_values(by='imdb_votes', ascending=False).head(10)\n",
        "\n",
        "# Plot\n",
        "plt.figure(figsize=(12, 6))\n",
        "sns.barplot(x='imdb_votes', y='title', data=popular, palette='magma')\n",
        "plt.title(' Top 10 Most Popular Titles on Amazon Prime (by IMDb Votes)', fontsize=16)\n",
        "plt.xlabel('IMDb Votes')\n",
        "plt.ylabel('Title')\n",
        "plt.tight_layout()\n",
        "plt.show()"
      ],
      "metadata": {
        "id": "FkXnTpwQU__z"
      },
      "execution_count": null,
      "outputs": []
    },
    {
      "cell_type": "markdown",
      "source": [
        "##### 1. Why did you pick the specific chart?"
      ],
      "metadata": {
        "id": "iky9q4vBYrdO"
      }
    },
    {
      "cell_type": "markdown",
      "source": [
        " Top 10 Most Popular Titles on Amazon Prime (IMDb Votes)**\n",
        "\n",
        "A horizontal bar chart works best to:\n",
        "\n",
        "Rank titles by total engagement.\n",
        "\n",
        "Let users quickly see which titles had the most community traction."
      ],
      "metadata": {
        "id": "aJRCwT6DYrdO"
      }
    },
    {
      "cell_type": "markdown",
      "source": [
        "##### 2. What is/are the insight(s) found from the chart?"
      ],
      "metadata": {
        "id": "F6T5p64dYrdO"
      }
    },
    {
      "cell_type": "markdown",
      "source": [
        "Top 10 Most Popular Titles on Amazon Prime (IMDb Votes)**\n",
        "\n",
        "Shows the most engaged-with or widely viewed content.\n",
        "\n",
        "These are titles that trigger user participation, such as voting, reviewing, and social sharing.\n",
        "\n",
        "Even if some of these don’t have the highest scores, they drive massive traffic."
      ],
      "metadata": {
        "id": "Xx8WAJvtYrdO"
      }
    },
    {
      "cell_type": "markdown",
      "source": [
        "##### 3. Will the gained insights help creating a positive business impact?\n",
        "Are there any insights that lead to negative growth? Justify with specific reason."
      ],
      "metadata": {
        "id": "y-Ehk30pYrdP"
      }
    },
    {
      "cell_type": "markdown",
      "source": [
        "- **Positive:** Understanding which titles receive the highest audience engagement helps Amazon Prime highlight these films in recommendations, marketing campaigns, and retention strategies.\n",
        "\n",
        "- **Negative:** If the most popular titles are primarily older classics, this may indicate a reliance on legacy content rather than newer releases. To sustain long-term growth, Amazon Prime may need to invest in fresh, original titles that can replicate this level of audience popularity."
      ],
      "metadata": {
        "id": "OueXhiUXHDSB"
      }
    },
    {
      "cell_type": "markdown",
      "source": [
        "**UNIVARIATE ANALYSIS:**"
      ],
      "metadata": {
        "id": "2Dyy1MVeoN61"
      }
    },
    {
      "cell_type": "markdown",
      "source": [
        "**BOX PLOT:**"
      ],
      "metadata": {
        "id": "iLMcQXsQpN1D"
      }
    },
    {
      "cell_type": "markdown",
      "source": [
        "**Box plot of imdb_score:**\n",
        "\n",
        "Box plots are plotted to visualize the distribution, spread of data and to identify outliers in data."
      ],
      "metadata": {
        "id": "He3jd9ArpvxE"
      }
    },
    {
      "cell_type": "markdown",
      "source": [
        "# Chart - 5"
      ],
      "metadata": {
        "id": "bamQiAODYuh1"
      }
    },
    {
      "cell_type": "code",
      "source": [
        "# Box plot of imdb_score\n",
        "plt.figure(figsize = (8,6))\n",
        "sns.boxplot(data = merged_df, y = 'imdb_score')\n",
        "plt.title('Box plot of imdb_score\\n', color = 'brown')\n",
        "plt.show()"
      ],
      "metadata": {
        "id": "RVi0ss0-ogQk"
      },
      "execution_count": null,
      "outputs": []
    },
    {
      "cell_type": "markdown",
      "source": [
        "##### 1. Why did you pick the specific chart?"
      ],
      "metadata": {
        "id": "QHF8YVU7Yuh3"
      }
    },
    {
      "cell_type": "markdown",
      "source": [
        "I chose a box plot because it effectively shows the spread, central tendency, and variability of IMDb scores. It also helps identify outliers, which are important in understanding exceptional cases in audience ratings."
      ],
      "metadata": {
        "id": "dcxuIMRPYuh3"
      }
    },
    {
      "cell_type": "markdown",
      "source": [
        "##### 2. What is/are the insight(s) found from the chart?"
      ],
      "metadata": {
        "id": "GwzvFGzlYuh3"
      }
    },
    {
      "cell_type": "markdown",
      "source": [
        "The median IMDb score is around 6, with most content falling between 5 and 7. There are a few outliers on the lower end (scores near 1–2) and on the higher end (scores close to 9–10). This suggests that while the majority of Amazon Prime’s titles are moderately rated, a small number of titles perform exceptionally well or poorly."
      ],
      "metadata": {
        "id": "uyqkiB8YYuh3"
      }
    },
    {
      "cell_type": "markdown",
      "source": [
        "##### 3. Will the gained insights help creating a positive business impact?\n",
        "Are there any insights that lead to negative growth? Justify with specific reason."
      ],
      "metadata": {
        "id": "qYpmQ266Yuh3"
      }
    },
    {
      "cell_type": "markdown",
      "source": [
        "- **Positive:** The concentration of titles around mid-level scores indicates consistency in content quality, ensuring that most titles meet a baseline standard for viewers.\n",
        "\n",
        "- **Negative:** Outliers with very low scores may harm the platform’s reputation if prominently featured. By leveraging this insight, Amazon Prime can focus marketing on high-scoring titles to boost brand perception and gradually phase out or improve lower-rated content."
      ],
      "metadata": {
        "id": "_WtzZ_hCYuh4"
      }
    },
    {
      "cell_type": "markdown",
      "source": [
        "# Chart - 6"
      ],
      "metadata": {
        "id": "OH-pJp9IphqM"
      }
    },
    {
      "cell_type": "markdown",
      "source": [
        "**Box plot of runtime:**"
      ],
      "metadata": {
        "id": "9skm42bnIEsa"
      }
    },
    {
      "cell_type": "code",
      "source": [
        "#Box plot of runtime\n",
        "plt.figure(figsize = (8,6))\n",
        "sns.boxplot(data = merged_df, x = 'runtime')\n",
        "plt.title('Box plot of runtime\\n', color = 'brown')\n",
        "plt.show()"
      ],
      "metadata": {
        "id": "kuRf4wtuphqN"
      },
      "execution_count": null,
      "outputs": []
    },
    {
      "cell_type": "markdown",
      "source": [
        "1. Why did you pick the specific chart?"
      ],
      "metadata": {
        "id": "RUngqDE0IiD6"
      }
    },
    {
      "cell_type": "markdown",
      "source": [
        "I selected a box plot because it provides a clear view of how movie runtimes are distributed, highlights the median, and identifies outliers. Runtime is an important factor for user engagement, as both very short and very long titles can impact viewer experience differently."
      ],
      "metadata": {
        "id": "gM6gVI_gIh_0"
      }
    },
    {
      "cell_type": "markdown",
      "source": [
        "2. What is/are the insight(s) found from the chart?"
      ],
      "metadata": {
        "id": "fqhDlqkmIh7T"
      }
    },
    {
      "cell_type": "markdown",
      "source": [
        "The median runtime is around 100 minutes, which aligns with the standard length of feature films. Most titles fall within 75 to 150 minutes, but there are several outliers on both sides:\n",
        "\n",
        "Short titles under 50 minutes (likely episodes, specials, or short films).\n",
        "\n",
        "Extremely long titles over 200 minutes (epics, extended editions, or documentaries)."
      ],
      "metadata": {
        "id": "0n65eU5BIhyq"
      }
    },
    {
      "cell_type": "markdown",
      "source": [
        "3. Will the gained insights help creating a positive business impact?\n",
        "Are there any insights that lead to negative growth? Justify with specific reason."
      ],
      "metadata": {
        "id": "t28EUpufIhrC"
      }
    },
    {
      "cell_type": "markdown",
      "source": [
        "-**Positive:** Majority of titles fit within the typical viewing expectation (90–120 mins), which is ideal for most audiences.\n",
        "\n",
        "- **Negative:** Outliers with very short runtimes may frustrate users expecting full-length films, while very long runtimes might lead to lower completion rates.\n",
        "\n",
        "Amazon Prime could use this insight to:\n",
        "\n",
        "- Better tag and categorize content (short films, episodes, extended editions).\n",
        "\n",
        "- Recommend runtimes based on user preferences, e.g., short content for quick viewing windows, standard films for regular viewing."
      ],
      "metadata": {
        "id": "VROCqia7Ihm5"
      }
    },
    {
      "cell_type": "markdown",
      "source": [
        "# Chart - 7"
      ],
      "metadata": {
        "id": "Q-oSE1Xtt-as"
      }
    },
    {
      "cell_type": "code",
      "source": [
        "#Box plot of seasons\n",
        "plt.figure(figsize = (8,6))\n",
        "sns.boxplot(data = merged_df, x = 'seasons')\n",
        "plt.title('Box plot of seasons\\n', color = 'brown')\n",
        "plt.show()"
      ],
      "metadata": {
        "id": "R3oVTTz0tnI7"
      },
      "execution_count": null,
      "outputs": []
    },
    {
      "cell_type": "markdown",
      "source": [
        "##### 1. Why did you pick the specific chart?"
      ],
      "metadata": {
        "id": "bbFf2-_FphqN"
      }
    },
    {
      "cell_type": "markdown",
      "source": [
        "A box plot was chosen because it clearly shows the spread of seasons across TV shows on Amazon Prime. It helps identify the typical range and outliers — for example, shows with unusually high numbers of seasons compared to the majority."
      ],
      "metadata": {
        "id": "loh7H2nzphqN"
      }
    },
    {
      "cell_type": "markdown",
      "source": [
        "##### 2. What is/are the insight(s) found from the chart?"
      ],
      "metadata": {
        "id": "_ouA3fa0phqN"
      }
    },
    {
      "cell_type": "markdown",
      "source": [
        "Box plot of runtime helps to understand the distribution, typical runtime, spread, and outliers in the runtime data of movies and TV shows on Amazon Prime.\n",
        "\n",
        "The horizontal line inside the box represents the median runtime, which is around 90 minutes.\n",
        "\n",
        "Points plotted outside the whiskers are considered outliers. These are movies or TV shows with short or long runtimes compared to the majority of the content."
      ],
      "metadata": {
        "id": "VECbqPI7phqN"
      }
    },
    {
      "cell_type": "markdown",
      "source": [
        "##### 3. Will the gained insights help creating a positive business impact?\n",
        "Are there any insights that lead to negative growth? Justify with specific reason."
      ],
      "metadata": {
        "id": "Seke61FWphqN"
      }
    },
    {
      "cell_type": "markdown",
      "source": [
        "- **Positive:** Having mostly shorter series works well for binge-watching culture, making it easier for new users to quickly engage with and complete a show.\n",
        "\n",
        "- **Negative:** Lack of long-running, high-season franchises might limit user loyalty, as multi-season shows are known to keep subscribers engaged over years.\n",
        "\n",
        "Amazon Prime could leverage this insight by:\n",
        "\n",
        "- Investing in original shows with potential for multiple seasons to strengthen long-term subscriber retention.\n",
        "\n",
        "- Categorizing and recommending short vs. long series depending on viewer preference (casual vs. committed watchers)."
      ],
      "metadata": {
        "id": "DW4_bGpfphqN"
      }
    },
    {
      "cell_type": "markdown",
      "source": [
        "**HISTOGRAM:**\n",
        "\n",
        "Histograms represents the distribution of numerical variable. They provide a visual way to see the shape of data's distribution."
      ],
      "metadata": {
        "id": "GkM397eeqo8F"
      }
    },
    {
      "cell_type": "markdown",
      "source": [
        "**Histogram of release_year:**"
      ],
      "metadata": {
        "id": "lmKeuk4yqzd8"
      }
    },
    {
      "cell_type": "markdown",
      "source": [
        "# Chart - 8"
      ],
      "metadata": {
        "id": "PIIx-8_IphqN"
      }
    },
    {
      "cell_type": "code",
      "source": [
        "#Histogram of release_year\n",
        "plt.figure(figsize = (8,6))\n",
        "sns.histplot(data = merged_df, x = 'release_year', bins = 20, color = 'blue', kde = True)\n",
        "plt.title('Histogram of release year\\n', color = 'blue')\n",
        "plt.show()\n",
        "\n"
      ],
      "metadata": {
        "id": "lqAIGUfyphqO"
      },
      "execution_count": null,
      "outputs": []
    },
    {
      "cell_type": "markdown",
      "source": [
        "##### 1. Why did you pick the specific chart?"
      ],
      "metadata": {
        "id": "t27r6nlMphqO"
      }
    },
    {
      "cell_type": "markdown",
      "source": [
        "I chose a histogram because it helps visualize the distribution of titles across time. Unlike the line plot (which shows trends), a histogram makes it easier to see concentrations of releases in specific periods, as well as growth over decades."
      ],
      "metadata": {
        "id": "iv6ro40sphqO"
      }
    },
    {
      "cell_type": "markdown",
      "source": [
        "##### 2. What is/are the insight(s) found from the chart?"
      ],
      "metadata": {
        "id": "r2jJGEOYphqO"
      }
    },
    {
      "cell_type": "markdown",
      "source": [
        "The histogram of the release_year column shows the distribution of movies and TV shows across different release years.\n",
        "A large of content on Amazon Prime is released recently that is in last decade. The distribution is skewed towards left.\n",
        "we can see an overall increasing trend in the number of movies or TV shows released over the years. This suggests that Amazon Prime Video's content library has been expanding."
      ],
      "metadata": {
        "id": "Po6ZPi4hphqO"
      }
    },
    {
      "cell_type": "markdown",
      "source": [
        "##### 3. Will the gained insights help creating a positive business impact?\n",
        "Are there any insights that lead to negative growth? Justify with specific reason."
      ],
      "metadata": {
        "id": "b0JNsNcRphqO"
      }
    },
    {
      "cell_type": "markdown",
      "source": [
        "- **Positive:** The large volume of recent content (post-2000) strengthens Amazon Prime’s ability to cater to modern audiences with up-to-date shows and movies.\n",
        "\n",
        "- **Negative:** Older classics (pre-1980s) are relatively fewer, which may limit the appeal for audiences who enjoy vintage cinema.\n",
        "\n",
        "Amazon Prime could use this insight to:\n",
        "\n",
        "- Market its strength in having a rich and growing modern catalog.\n",
        "\n",
        "- Expand its classic movie collection to diversify content and appeal to nostalgia-driven viewers."
      ],
      "metadata": {
        "id": "xvSq8iUTphqO"
      }
    },
    {
      "cell_type": "markdown",
      "source": [
        "# Chart - 9"
      ],
      "metadata": {
        "id": "BZR9WyysphqO"
      }
    },
    {
      "cell_type": "markdown",
      "source": [
        "**Histogram of runtime:**"
      ],
      "metadata": {
        "id": "DjxKu5das2hE"
      }
    },
    {
      "cell_type": "code",
      "source": [
        "# Histogram of runtime\n",
        "plt.figure(figsize = (8,6))\n",
        "sns.histplot(data = merged_df, x = 'runtime', bins = 25, color = 'grey', kde = True)\n",
        "plt.title('Histogram of runtime\\n', color = 'brown')\n",
        "plt.show()"
      ],
      "metadata": {
        "id": "TdPTWpAVphqO"
      },
      "execution_count": null,
      "outputs": []
    },
    {
      "cell_type": "markdown",
      "source": [
        "##### 1. Why did you pick the specific chart?"
      ],
      "metadata": {
        "id": "jj7wYXLtphqO"
      }
    },
    {
      "cell_type": "markdown",
      "source": [
        "I used a histogram to study the distribution of runtimes across Amazon Prime content. A histogram is the best choice here because it shows how most movies/episodes are clustered and whether there are unusual outliers."
      ],
      "metadata": {
        "id": "Ob8u6rCTphqO"
      }
    },
    {
      "cell_type": "markdown",
      "source": [
        "##### 2. What is/are the insight(s) found from the chart?"
      ],
      "metadata": {
        "id": "eZrbJ2SmphqO"
      }
    },
    {
      "cell_type": "markdown",
      "source": [
        "Distribution: The histogram shows that the runtime of movies and TV shows on Amazon Prime is not normally distributed. Instead, it is right-skewed having longer tail on the right side of the peak.\n",
        "The peak of the histogram is around the 70-90 minute. This suggests that the most common runtime for movies or TV shows on Amazon Prime is around 70-90 minutes.\n",
        "There are more number of movies and shows with runtimes between 60 and 100 minutes. This might be the sweet spot for most viewers and creators as it provides a good balance between storytelling and viewer engagement."
      ],
      "metadata": {
        "id": "mZtgC_hjphqO"
      }
    },
    {
      "cell_type": "markdown",
      "source": [
        "##### 3. Will the gained insights help creating a positive business impact?\n",
        "Are there any insights that lead to negative growth? Justify with specific reason."
      ],
      "metadata": {
        "id": "rFu4xreNphqO"
      }
    },
    {
      "cell_type": "markdown",
      "source": [
        "- **Positive:** Amazon Prime caters to mainstream viewing habits with the majority of content falling in the “comfortable” 90–120 minute range.\n",
        "\n",
        "- **Negative:** The presence of outliers may confuse viewers or disrupt engagement if not properly categorized (e.g., shorts, specials, extended versions).\n",
        "\n",
        "Amazon could:\n",
        "\n",
        "- Improve categorization and filtering of content by runtime to enhance user experience.\n",
        "\n",
        "- Use this insight to recommend shorts for quick viewing and long films for dedicated watchers, improving personalization."
      ],
      "metadata": {
        "id": "ey_0qi68phqO"
      }
    },
    {
      "cell_type": "markdown",
      "source": [
        "# Chart - 10"
      ],
      "metadata": {
        "id": "YJ55k-q6phqO"
      }
    },
    {
      "cell_type": "markdown",
      "source": [
        "**Histogram of seasons:**"
      ],
      "metadata": {
        "id": "0gCmxHwltRt_"
      }
    },
    {
      "cell_type": "code",
      "source": [
        "#Histogram of Seasons\n",
        "plt.figure(figsize = (8,6))\n",
        "sns.histplot(data = merged_df, x = 'seasons', bins = 20)\n",
        "plt.title('Histogram of seasons\\n', color = 'brown')\n",
        "plt.show()\n"
      ],
      "metadata": {
        "id": "B2aS4O1ophqO"
      },
      "execution_count": null,
      "outputs": []
    },
    {
      "cell_type": "markdown",
      "source": [
        "##### 1. Why did you pick the specific chart?"
      ],
      "metadata": {
        "id": "gCFgpxoyphqP"
      }
    },
    {
      "cell_type": "markdown",
      "source": [
        "I selected a histogram to visualize the distribution of the number of seasons across Amazon Prime series. Since most shows are short-run, the histogram clearly highlights the skewed nature of season counts."
      ],
      "metadata": {
        "id": "TVxDimi2phqP"
      }
    },
    {
      "cell_type": "markdown",
      "source": [
        "##### 2. What is/are the insight(s) found from the chart?"
      ],
      "metadata": {
        "id": "OVtJsKN_phqQ"
      }
    },
    {
      "cell_type": "markdown",
      "source": [
        "- The majority of series have just 1 season, indicating that Amazon Prime’s library is dominated by limited or short-run shows.\n",
        "\n",
        "- A smaller number extend to 2–5 seasons, showing moderate audience success and continued renewals.\n",
        "\n",
        "- A very tiny fraction of shows extend beyond 10+ seasons, likely representing iconic long-running series.\n",
        "\n"
      ],
      "metadata": {
        "id": "ngGi97qjphqQ"
      }
    },
    {
      "cell_type": "markdown",
      "source": [
        "##### 3. Will the gained insights help creating a positive business impact?\n",
        "Are there any insights that lead to negative growth? Justify with specific reason."
      ],
      "metadata": {
        "id": "lssrdh5qphqQ"
      }
    },
    {
      "cell_type": "markdown",
      "source": [
        "- **Positive:** The dominance of single-season content helps Amazon experiment with fresh ideas and appeal to a wide audience with diverse tastes.\n",
        "\n",
        "- **Negative: **The lack of long-running series suggests fewer opportunities for strong franchise-building or sustained audience loyalty.\n",
        "\n",
        "To act on this insight, Amazon could:\n",
        "\n",
        "- Identify short-run shows with strong ratings and invest in multi-season renewals to build loyal audiences.\n",
        "\n",
        "- Strategically balance limited series (for diversity) with franchise-worthy shows (for long-term engagement)."
      ],
      "metadata": {
        "id": "jxHr3q-9uh8j"
      }
    },
    {
      "cell_type": "markdown",
      "source": [
        "# Chart - 11"
      ],
      "metadata": {
        "id": "U2RJ9gkRphqQ"
      }
    },
    {
      "cell_type": "markdown",
      "source": [
        "**Histogram of imdb score:**"
      ],
      "metadata": {
        "id": "wZ14vQQTukzj"
      }
    },
    {
      "cell_type": "code",
      "source": [
        "#Histogram of imdb_score\n",
        "plt.figure(figsize = (8,6))\n",
        "sns.histplot(data = merged_df, x = 'imdb_score', bins = 30, color = 'blue', kde = True)\n",
        "plt.title('Histogram of imdb_score\\n', color = 'brown')\n",
        "plt.show()"
      ],
      "metadata": {
        "id": "GM7a4YP4phqQ"
      },
      "execution_count": null,
      "outputs": []
    },
    {
      "cell_type": "markdown",
      "source": [
        "##### 1. Why did you pick the specific chart?"
      ],
      "metadata": {
        "id": "1M8mcRywphqQ"
      }
    },
    {
      "cell_type": "markdown",
      "source": [
        "I chose a histogram to examine the distribution of IMDb ratings for Amazon Prime content. This helps assess whether the majority of titles are well-received or poorly rated, giving insights into overall catalog quality."
      ],
      "metadata": {
        "id": "8agQvks0phqQ"
      }
    },
    {
      "cell_type": "markdown",
      "source": [
        "##### 2. What is/are the insight(s) found from the chart?"
      ],
      "metadata": {
        "id": "tgIPom80phqQ"
      }
    },
    {
      "cell_type": "markdown",
      "source": [
        "- The distribution is bell-shaped and centered around 6–7, showing that most Amazon Prime titles are average to above-average in quality.\n",
        "\n",
        "- Very few titles fall into the extremely low (1–3) or exceptionally high (9–10) categories.\n",
        "\n",
        "- This suggests Prime’s content library generally avoids extremes and maintains moderate audience satisfaction."
      ],
      "metadata": {
        "id": "Qp13pnNzphqQ"
      }
    },
    {
      "cell_type": "markdown",
      "source": [
        "##### 3. Will the gained insights help creating a positive business impact?\n",
        "Are there any insights that lead to negative growth? Justify with specific reason."
      ],
      "metadata": {
        "id": "JMzcOPDDphqR"
      }
    },
    {
      "cell_type": "markdown",
      "source": [
        "- **Positive:** A strong mid-range score (6–7) indicates that most of Prime’s catalog is reasonably well-received, which helps in customer retention.\n",
        "\n",
        "- **Negative:** Fewer high-scoring titles (8–10) implies limited “flagship” or critically acclaimed content, which competitors like Netflix or HBO may have.\n",
        "\n",
        "**Strategic Takeaway:**\n",
        "\n",
        "Amazon should:\n",
        "\n",
        "- Maintain its wide catalog that ensures variety and stability (safe mid-range).\n",
        "\n",
        "- Invest more in high-quality, prestige projects (aim for 8+ scores) to create buzz, win awards, and strengthen brand reputation."
      ],
      "metadata": {
        "id": "R4Ka1PC2phqR"
      }
    },
    {
      "cell_type": "markdown",
      "source": [
        "**BAR PLOT/COUNT PLOT:**\n",
        "\n",
        "A bar plot is a type of chart that presents categorical data with rectangular bars with heights or lengths proportional to the values that they represent."
      ],
      "metadata": {
        "id": "gcX_POdRvD70"
      }
    },
    {
      "cell_type": "markdown",
      "source": [
        "**Bar plot of type(Movie or TV show):**"
      ],
      "metadata": {
        "id": "ykzgTv1tvMcM"
      }
    },
    {
      "cell_type": "markdown",
      "source": [
        "# Chart - 12"
      ],
      "metadata": {
        "id": "x-EpHcCOp1ci"
      }
    },
    {
      "cell_type": "code",
      "source": [
        "a = merged_df['type'].value_counts()\n",
        "a\n"
      ],
      "metadata": {
        "id": "mAQTIvtqp1cj"
      },
      "execution_count": null,
      "outputs": []
    },
    {
      "cell_type": "code",
      "source": [
        "#Bar plot of type\n",
        "plt.figure(figsize=(8,6))\n",
        "sns.barplot(x = a.index, y= a.values, width=0.5, color='cyan', edgecolor = 'black')\n",
        "plt.title('Bar plot of type(Movie or TV show)\\n', color = 'brown')\n",
        "plt.ylabel('count')\n",
        "plt.show()"
      ],
      "metadata": {
        "id": "BK8Ah9M-v38c"
      },
      "execution_count": null,
      "outputs": []
    },
    {
      "cell_type": "markdown",
      "source": [
        "##### 1. Why did you pick the specific chart?"
      ],
      "metadata": {
        "id": "X_VqEhTip1ck"
      }
    },
    {
      "cell_type": "markdown",
      "source": [
        "I chose a bar chart because the variable type (Movie vs. TV Show) is categorical with only two categories. Bar plots are the most effective way to visualize categorical distributions since they clearly highlight differences in frequency counts. Other visualizations like pie charts could be used, but bar plots are more precise in comparing absolute values and easier to interpret for stakeholders."
      ],
      "metadata": {
        "id": "-vsMzt_np1ck"
      }
    },
    {
      "cell_type": "markdown",
      "source": [
        "##### 2. What is/are the insight(s) found from the chart?"
      ],
      "metadata": {
        "id": "8zGJKyg5p1ck"
      }
    },
    {
      "cell_type": "markdown",
      "source": [
        "- Movies dominate the Amazon Prime catalog, with over 110,000+ entries, while TV Shows are far fewer (~7,000–10,000 range).\n",
        "\n",
        "- This indicates Amazon Prime is primarily positioned as a movie-centric streaming platform, unlike Netflix or Disney+, which have heavier investments in TV series."
      ],
      "metadata": {
        "id": "ZYdMsrqVp1ck"
      }
    },
    {
      "cell_type": "markdown",
      "source": [
        "##### 3. Will the gained insights help creating a positive business impact?\n",
        "Are there any insights that lead to negative growth? Justify with specific reason."
      ],
      "metadata": {
        "id": "PVzmfK_Ep1ck"
      }
    },
    {
      "cell_type": "markdown",
      "source": [
        "**Positive:**\n",
        "\n",
        "- By knowing that the catalog is skewed toward movies, Amazon can differentiate marketing campaigns—emphasizing its extensive movie library as a USP (Unique Selling Proposition).\n",
        "\n",
        "- Insights also guide content acquisition strategy: If competitors gain traction with TV shows, Amazon can rebalance its content investments to attract and retain binge-watch audiences.\n",
        "\n",
        "- For data-driven decision-making, this insight could help improve customer segmentation: targeting movie lovers more aggressively, while selectively expanding TV content to capture new markets.\n",
        "\n",
        "\n",
        "**Negative:**\n",
        "\n",
        "- The lack of TV show variety could limit user engagement and retention, since TV series generally drive longer watch times, recurring engagement, and subscription stickiness compared to one-time movies.\n",
        "\n",
        "- In competitive markets, this imbalance may push users toward platforms like Netflix, which have a stronger TV show offering.\n",
        "\n",
        "So while the chart highlights a strength in movies, it also reveals a strategic gap in TV content that could negatively affect long-term growth if not addressed."
      ],
      "metadata": {
        "id": "druuKYZpp1ck"
      }
    },
    {
      "cell_type": "markdown",
      "source": [
        "# Chart - 13"
      ],
      "metadata": {
        "id": "n3dbpmDWp1ck"
      }
    },
    {
      "cell_type": "markdown",
      "source": [
        "**Bar plot of age certification:**"
      ],
      "metadata": {
        "id": "s-zvmZczwXw2"
      }
    },
    {
      "cell_type": "code",
      "source": [
        "b = merged_df['age_certification'].value_counts()\n",
        "b"
      ],
      "metadata": {
        "id": "bwevp1tKp1ck"
      },
      "execution_count": null,
      "outputs": []
    },
    {
      "cell_type": "code",
      "source": [
        "#Bar plot of age certification\n",
        "plt.figure(figsize = (8,6))\n",
        "sns.barplot(x = b.index, y = b.values, color= 'yellow', edgecolor = 'black')\n",
        "plt.title('Bar plot of age certification\\n', color = 'brown')\n",
        "plt.ylabel('count')\n",
        "plt.show()"
      ],
      "metadata": {
        "id": "5c-lGxj1wx90"
      },
      "execution_count": null,
      "outputs": []
    },
    {
      "cell_type": "markdown",
      "source": [
        "##### 1. Why did you pick the specific chart?"
      ],
      "metadata": {
        "id": "ylSl6qgtp1ck"
      }
    },
    {
      "cell_type": "markdown",
      "source": [
        "I chose a bar chart because the variable age_certification is categorical with multiple discrete groups (R, PG-13, PG, G, etc.). Bar plots are the most effective way to visualize categorical distributions since they allow for direct comparison of content counts across certifications. Other charts like pie charts would clutter insights given the large variation in categories."
      ],
      "metadata": {
        "id": "m2xqNkiQp1ck"
      }
    },
    {
      "cell_type": "markdown",
      "source": [
        "##### 2. What is/are the insight(s) found from the chart?"
      ],
      "metadata": {
        "id": "ZWILFDl5p1ck"
      }
    },
    {
      "cell_type": "markdown",
      "source": [
        "Age cerification 'R' means person under 17 requires accompanying parent or adult guardian. There are highest number of movies with 'R' certification.\n",
        "Movies or TV shows with PG-13 rating are at 2nd position these movies may contain material that parents might find inappropriate for younger children, typically those under 13 years old.\n",
        "It is suggested for creators to make movies which comes under rating 'R', as these movies have high response from audience."
      ],
      "metadata": {
        "id": "x-lUsV2mp1ck"
      }
    },
    {
      "cell_type": "markdown",
      "source": [
        "##### 3. Will the gained insights help creating a positive business impact?\n",
        "Are there any insights that lead to negative growth? Justify with specific reason."
      ],
      "metadata": {
        "id": "M7G43BXep1ck"
      }
    },
    {
      "cell_type": "markdown",
      "source": [
        "**Positive Business Impact**\n",
        "\n",
        "- Strong R-rated content library attracts a large adult subscriber base, which aligns with the global majority of paying users.\n",
        "\n",
        "- This focus allows Amazon to differentiate itself from Disney+ and other family-heavy competitors, carving out a niche for adult entertainment.\n",
        "\n",
        "- Marketing campaigns can emphasize Amazon Prime as a go-to platform for thrillers, action, drama, and mature storytelling.\n",
        "\n",
        "\n",
        "**Negative Business Impact**\n",
        "\n",
        "- Lack of family/kids content makes the platform less attractive for multi-user households, reducing potential long-term subscription retention.\n",
        "\n",
        "- Over-dependence on R-rated titles could restrict Amazon Prime in markets with strict censorship (e.g., Middle East, some Asian countries).\n",
        "\n",
        "- Competitors offering strong children’s content may capture the younger generation early, while Amazon risks missing out on future loyal users."
      ],
      "metadata": {
        "id": "5wwDJXsLp1cl"
      }
    },
    {
      "cell_type": "markdown",
      "source": [
        "**4. Are there any insights that lead to negative growth? Justify with a specific reason.**\n",
        "\n",
        "Yes. The underrepresentation of family and child-safe content is a red flag. Households form a significant portion of the streaming market, and children’s content usually drives higher re-watch value and continuous engagement. By focusing too heavily on adult-rated content, Amazon Prime risks slower user growth in the family/household segment, which could negatively impact its long-term global subscriber base."
      ],
      "metadata": {
        "id": "FbuFiP6tb7vk"
      }
    },
    {
      "cell_type": "markdown",
      "source": [
        "# Chart - 14"
      ],
      "metadata": {
        "id": "Ag9LCva-p1cl"
      }
    },
    {
      "cell_type": "markdown",
      "source": [
        "**Bar plot of production countries:**"
      ],
      "metadata": {
        "id": "YpZOp7D0w9jE"
      }
    },
    {
      "cell_type": "code",
      "source": [
        "prod_countries = merged_df['production_countries'].value_counts()\n",
        "countries = prod_countries[prod_countries >1000]\n",
        "countries"
      ],
      "metadata": {
        "id": "fcFhySnhU8wH"
      },
      "execution_count": null,
      "outputs": []
    },
    {
      "cell_type": "code",
      "source": [
        "\n",
        "#Bar plot of production countries\n",
        "plt.figure(figsize=(8,6))\n",
        "sns.barplot(x = countries.values, y = countries.index, orient='h', color = 'lightblue', edgecolor = 'black')\n",
        "plt.title('Bar plot of production countries\\n', color = 'brown')\n",
        "plt.show()"
      ],
      "metadata": {
        "id": "whN4Er4AVC8W"
      },
      "execution_count": null,
      "outputs": []
    },
    {
      "cell_type": "markdown",
      "source": [
        "##### 1. Why did you pick the specific chart?"
      ],
      "metadata": {
        "id": "E6MkPsBcp1cl"
      }
    },
    {
      "cell_type": "markdown",
      "source": [
        "I used a horizontal bar chart because the variable production_countries is categorical with many entries, and horizontal orientation makes it easier to read long category names. A bar chart clearly shows which countries dominate content production and how others compare."
      ],
      "metadata": {
        "id": "V22bRsFWp1cl"
      }
    },
    {
      "cell_type": "markdown",
      "source": [
        "##### 2. What is/are the insight(s) found from the chart?"
      ],
      "metadata": {
        "id": "2cELzS2fp1cl"
      }
    },
    {
      "cell_type": "markdown",
      "source": [
        "- The United States dominates production on Amazon Prime, with ~65,000 titles—far higher than any other country.\n",
        "\n",
        "- India comes next, followed by the UK, Canada, Japan, Australia, and France.\n",
        "\n",
        "- There is a strong imbalance: US content overshadows all other regions, suggesting Prime’s library is highly Western-centric, particularly US-driven."
      ],
      "metadata": {
        "id": "ozQPc2_Ip1cl"
      }
    },
    {
      "cell_type": "markdown",
      "source": [
        "##### 3. Will the gained insights help creating a positive business impact?\n",
        "Are there any insights that lead to negative growth? Justify with specific reason."
      ],
      "metadata": {
        "id": "3MPXvC8up1cl"
      }
    },
    {
      "cell_type": "markdown",
      "source": [
        "**Positive Business Impact**\n",
        "\n",
        "- Heavy US content strengthens Amazon Prime’s position in the global entertainment market, since US productions are widely popular and often attract large audiences.\n",
        "\n",
        "- Strong Indian presence highlights Amazon’s localization strategy in one of the fastest-growing streaming markets.\n",
        "\n",
        "- This insight helps guide marketing focus—emphasizing American blockbusters globally and Indian originals in regional campaigns.\n",
        "\n",
        "**Negative Business Impact**\n",
        "\n",
        "- Over-dependence on US content may reduce cultural diversity and alienate audiences in non-Western regions.\n",
        "\n",
        "- Limited local production in countries like Japan, Australia, France, etc., might restrict Amazon’s ability to penetrate regional markets deeply.\n",
        "\n",
        "- Competitors like Netflix are investing heavily in local originals, so Amazon risks losing market share where local content consumption is key (e.g., South Korea, Latin America)."
      ],
      "metadata": {
        "id": "GL8l1tdLp1cl"
      }
    },
    {
      "cell_type": "markdown",
      "source": [
        "**4. Are there any insights that lead to negative growth? Justify with a specific reason.**\n",
        "\n",
        "Yes. The overconcentration of US content is a potential threat. While globally popular, it may limit adoption in regional markets where audiences increasingly prefer local-language shows and culturally relatable content. Without balancing US dominance with strong local originals, Amazon Prime risks slower growth in international markets, especially Asia-Pacific and Europe, where cultural preferences strongly drive viewership."
      ],
      "metadata": {
        "id": "-4L6kaHQckq-"
      }
    },
    {
      "cell_type": "markdown",
      "source": [
        "# **Bivariate Analysis:**"
      ],
      "metadata": {
        "id": "-5vN2Ov3XbEP"
      }
    },
    {
      "cell_type": "markdown",
      "source": [
        "**SCATTER PLOT:**\n",
        "\n",
        "\n",
        "A scatter plot is a type of data visualization that uses dots to represent the values of two numerical variables. Scatter plots are used to observe relationships between variables."
      ],
      "metadata": {
        "id": "q7bF2SafXdwn"
      }
    },
    {
      "cell_type": "markdown",
      "source": [
        "# Chart - 15"
      ],
      "metadata": {
        "id": "R15PuwIk6pQP"
      }
    },
    {
      "cell_type": "markdown",
      "source": [
        "**Scatter plot of imdb_vote and imdb_scores:**"
      ],
      "metadata": {
        "id": "A2NJBmY7Xmxo"
      }
    },
    {
      "cell_type": "code",
      "source": [
        "sns.scatterplot(data = merged_df, x = 'imdb_votes', y = 'imdb_score', color = 'blue')\n",
        "plt.title('Scatter plot of imdb_vote and imdb_scores\\n', color = 'brown')\n",
        "plt.show()"
      ],
      "metadata": {
        "id": "6p6iI-dtXluP"
      },
      "execution_count": null,
      "outputs": []
    },
    {
      "cell_type": "markdown",
      "source": [
        "**1. Why did you pick the specific chart?**\n",
        "\n",
        "I chose a scatter plot because both imdb_votes and imdb_scores are continuous numerical variables. A scatter plot is the best way to visualize the relationship, clustering, and spread between popularity (votes) and perceived quality (ratings). It also helps identify outliers, such as highly voted but low-rated titles or vice versa."
      ],
      "metadata": {
        "id": "britjQTqc2Ki"
      }
    },
    {
      "cell_type": "markdown",
      "source": [
        "**2. What is/are the insight(s) found from the chart?**\n",
        "\n",
        "- Most titles cluster in the low vote range (<200k votes) with IMDb scores between 6 and 8.\n",
        "\n",
        "- A few titles with very high votes (>500k) tend to also have consistently higher scores (7–9), showing that popular titles usually maintain good ratings.\n",
        "\n",
        "- Outliers exist: some movies/shows received many votes but only moderate ratings, suggesting hype-driven popularity rather than quality."
      ],
      "metadata": {
        "id": "Z78b6-2Ic175"
      }
    },
    {
      "cell_type": "markdown",
      "source": [
        "**3. Will the gained insights help create a positive business impact?**\n",
        "\n",
        "**Positive Business Impact**\n",
        "\n",
        "- Identifying titles with both high ratings and high votes helps Amazon Prime highlight “flagship titles” in marketing campaigns, attracting new users.\n",
        "\n",
        "- Titles with good ratings but low votes are hidden gems—Amazon can promote them to boost engagement.\n",
        "\n",
        "- This analysis can help guide content recommendation algorithms by balancing popularity with quality.\n",
        "\n",
        "**Negative Business Impact**\n",
        "\n",
        "- A heavy concentration of titles with average ratings (6–7) may suggest Amazon is not acquiring enough critically acclaimed content, which could weaken brand positioning against competitors with premium shows.\n",
        "\n",
        "- Outliers (high votes but low ratings) could damage user trust if these titles are over-promoted."
      ],
      "metadata": {
        "id": "QRMRjVdLX2Rv"
      }
    },
    {
      "cell_type": "markdown",
      "source": [
        "**4. Are there any insights that lead to negative growth? Justify with a specific reason.**\n",
        "\n",
        "Yes. The fact that most titles sit in the mid-range (6–7 score) suggests that Amazon’s catalog may lack a sufficient share of high-quality, award-winning content. This can negatively impact brand perception, especially compared to Netflix, Disney+, or HBO, which actively market critically acclaimed shows. If Prime relies too much on average-quality titles, it risks losing premium subscribers seeking top-tier content."
      ],
      "metadata": {
        "id": "ijc6Yn2rdU9q"
      }
    },
    {
      "cell_type": "markdown",
      "source": [
        "# Chart - 16"
      ],
      "metadata": {
        "id": "xLm6W9VF62yn"
      }
    },
    {
      "cell_type": "markdown",
      "source": [
        "**LINE PLOT:**\n",
        "\n",
        "Line plot connects data points with a line to show trends over time across continuous variable."
      ],
      "metadata": {
        "id": "yoBeS0K6X9r2"
      }
    },
    {
      "cell_type": "markdown",
      "source": [
        "**Line plot of runtime v/s release_year:**"
      ],
      "metadata": {
        "id": "jb-QHlsNYHUP"
      }
    },
    {
      "cell_type": "code",
      "source": [
        "plt.figure(figsize = (8,6))\n",
        "sns.lineplot(data = merged_df, y = 'runtime', x = 'release_year')\n",
        "plt.title('line plot of runtime v/s release_year\\n', color = 'brown')\n",
        "plt.show()\n"
      ],
      "metadata": {
        "id": "DJ6qTjRSYQAH"
      },
      "execution_count": null,
      "outputs": []
    },
    {
      "cell_type": "markdown",
      "source": [
        "**1. Why did you pick the specific chart?**\n",
        "\n",
        "I chose a line plot because both runtime and release_year are continuous variables, and a line chart clearly captures trends over time. Unlike bar charts or scatter plots, line plots reveal patterns, fluctuations, and shifts in movie runtimes across decades."
      ],
      "metadata": {
        "id": "Pxguj5xNYvIH"
      }
    },
    {
      "cell_type": "markdown",
      "source": [
        "**2. What is/are the insight(s) found from the chart?**\n",
        "\n",
        "- Early 1900s (pre-1920s) saw very high variability, with some films reaching 180+ minutes.\n",
        "\n",
        "- Between 1930–1950, runtimes stabilized around 70–90 minutes.\n",
        "\n",
        "- From 1960 onwards, runtimes gradually increased to ~100 minutes and have remained relatively stable since then.\n",
        "\n",
        "- Modern films (2000–2020) show a consistent average runtime of ~95–105 minutes."
      ],
      "metadata": {
        "id": "0zDKtj9ado47"
      }
    },
    {
      "cell_type": "markdown",
      "source": [
        "**3. Will the gained insights help create a positive business impact?**\n",
        "\n",
        "**Positive Business Impact**\n",
        "\n",
        "Understanding that audiences are accustomed to 90–120 minute runtimes helps Amazon Prime optimize content strategy, such as acquiring or producing films within this sweet spot.\n",
        "\n",
        "Data validates the predictability of modern runtimes, allowing better scheduling for ads, recommendations, and watch-time predictions.\n",
        "\n",
        "This insight can also guide content production teams, ensuring new releases align with viewer attention spans."
      ],
      "metadata": {
        "id": "6QLUlVzPdxck"
      }
    },
    {
      "cell_type": "markdown",
      "source": [
        "**4. Are there any insights that lead to negative growth? Justify with a specific reason.**\n",
        "\n",
        "Yes. The stabilization of runtimes around ~100 minutes suggests Amazon may be overly focused on conventional formats. In today’s market, platforms like Netflix experiment with short episodes, interactive movies, and limited series, appealing to evolving viewer preferences. If Amazon sticks too rigidly to the standard 90–120 min format, it risks falling behind on innovation and losing engagement to competitors who adapt faster."
      ],
      "metadata": {
        "id": "xd_4TeGpeyYM"
      }
    },
    {
      "cell_type": "markdown",
      "source": [
        "# Chart - 17"
      ],
      "metadata": {
        "id": "Dbpk8RSO6YOX"
      }
    },
    {
      "cell_type": "markdown",
      "source": [
        "**Line plot of imdb_score v/s release_year:**"
      ],
      "metadata": {
        "id": "lf1saRTgY_Fx"
      }
    },
    {
      "cell_type": "code",
      "source": [
        "plt.figure(figsize = (8,6))\n",
        "sns.lineplot(data = merged_df, y = 'imdb_score', x = 'release_year')\n",
        "plt.title('line plot of imdb_score v/s release_year\\n', color = 'brown')\n",
        "plt.show()"
      ],
      "metadata": {
        "id": "YUXUC6UvZFzv"
      },
      "execution_count": null,
      "outputs": []
    },
    {
      "cell_type": "markdown",
      "source": [
        "**1. Why did you pick the specific chart?**\n",
        "\n",
        "I chose a line plot because both imdb_score and release_year are continuous variables. The line chart makes it easy to visualize long-term trends and fluctuations in ratings over time, unlike bar plots which would clutter with too many years."
      ],
      "metadata": {
        "id": "YKjcRqFafFXi"
      }
    },
    {
      "cell_type": "markdown",
      "source": [
        "**INSIGHTS:**\n",
        "\n",
        "- Movies from 1915–1930 generally had higher IMDb ratings (6.5–7.5) compared to later decades.\n",
        "\n",
        "- Post-1930, IMDb scores declined and stabilized around 6.0–6.5, with some fluctuations.\n",
        "\n",
        "- In recent decades (2000–2020), scores appear more tightly clustered around 6.0, suggesting fewer highly rated outliers compared to early cinema.\n",
        "\n",
        "- Overall, average ratings have slightly declined over time."
      ],
      "metadata": {
        "id": "y0HI0RQnZKXP"
      }
    },
    {
      "cell_type": "markdown",
      "source": [
        "**3. Will the gained insights help create a positive business impact?**\n",
        "\n",
        "Yes.\n",
        "\n",
        "- Amazon Prime can position older, classic films as premium/high-quality content in their catalog since historically they scored higher. This can improve viewer engagement and niche audience retention (e.g., cinephiles, critics).\n",
        "\n",
        "- Identifies that modern films struggle to stand out in ratings, so Prime can focus on quality over quantity when commissioning originals.\n",
        "\n",
        "- Helps in marketing strategy — for instance, older movies can be marketed as \"timeless classics with top IMDb scores."
      ],
      "metadata": {
        "id": "Qm3Qt2I5fJHT"
      }
    },
    {
      "cell_type": "markdown",
      "source": [
        "**4. Are there any insights that lead to negative growth? Justify with a specific reason.**\n",
        "\n",
        "Yes. The decline in IMDb scores post-1930s and stabilization at ~6.0 suggests that modern content is struggling to achieve the same critical acclaim as older films. If Prime relies too heavily on recent content without focusing on high-quality originals, it risks losing competitive advantage to platforms like Netflix or Disney+ that emphasize critically acclaimed productions."
      ],
      "metadata": {
        "id": "kWhXztpFfpDS"
      }
    },
    {
      "cell_type": "markdown",
      "source": [
        "**PIE CHART:**\n",
        "\n",
        "Pie chart is used to visualize the proportions of different categories within a whole dataset. It's circular statistical graph, where each slice of the pie represents a category, and the size of the slice is proportional to the category's contribution to the overall data."
      ],
      "metadata": {
        "id": "IigvQuVSZqjX"
      }
    },
    {
      "cell_type": "markdown",
      "source": [
        "# Chart - 19"
      ],
      "metadata": {
        "id": "vTW-2Zac7DQe"
      }
    },
    {
      "cell_type": "markdown",
      "source": [
        "**Pie chart of type(Movie or TV show):**"
      ],
      "metadata": {
        "id": "_Te9J1o-ZyaQ"
      }
    },
    {
      "cell_type": "code",
      "source": [
        "plt.figure(figsize = (8,6))\n",
        "plt.pie(merged_df['type'].value_counts(), labels=merged_df['type'].value_counts().index, autopct = '%.2f%%')\n",
        "plt.title('Pie chart of type(Movie or TV show)\\n', color = 'brown')\n",
        "plt.show()"
      ],
      "metadata": {
        "id": "4opq3A8xZ2qo"
      },
      "execution_count": null,
      "outputs": []
    },
    {
      "cell_type": "markdown",
      "source": [
        "**1. Why did you pick the specific chart?**\n",
        "\n",
        "I used a pie chart because the variable type is categorical with only two categories: Movie and Show. A pie chart clearly shows the proportion of each category relative to the whole, making it easy to visualize dominance."
      ],
      "metadata": {
        "id": "N31dWw9Bf2nz"
      }
    },
    {
      "cell_type": "markdown",
      "source": [
        "**INSIGHTS:**\n",
        "\n",
        "- Movies dominate the platform, making up 93.77% of total content.\n",
        "\n",
        "- TV Shows are very limited, only about 6.23% of the library.\n",
        "\n",
        "- This indicates Prime has a movie-heavy catalog compared to TV series."
      ],
      "metadata": {
        "id": "DnR-x70laFIA"
      }
    },
    {
      "cell_type": "markdown",
      "source": [
        "**3. Will the gained insights help create a positive business impact?**\n",
        "\n",
        "Yes.\n",
        "\n",
        "- The high proportion of movies can be marketed as a strength for movie lovers, positioning Prime as a strong movie-first platform.\n",
        "\n",
        "- Helps in targeted recommendations for movie-centric audiences, improving user engagement.\n",
        "\n",
        "- Prime can leverage TV shows as exclusive premium content (since they are fewer, they can be marketed as rare/high-value)."
      ],
      "metadata": {
        "id": "9QiL5AuCf3Va"
      }
    },
    {
      "cell_type": "markdown",
      "source": [
        "**4. Are there any insights that lead to negative growth? Justify with a specific reason.**\n",
        "\n",
        "Yes. The under-representation of TV shows (6.23%) could hurt Prime’s long-term subscriber retention. TV shows generally drive higher engagement (binge-watching, recurring subscriptions) compared to standalone movies. Without strengthening its TV series catalog, Prime risks losing customers to platforms that offer episodic, long-form storytelling."
      ],
      "metadata": {
        "id": "JZ9wwgh7gR5c"
      }
    },
    {
      "cell_type": "markdown",
      "source": [
        "# Chart - 20"
      ],
      "metadata": {
        "id": "fAqzW3hX7G53"
      }
    },
    {
      "cell_type": "markdown",
      "source": [
        "**Pie chart of age certification:**"
      ],
      "metadata": {
        "id": "YPhaNxzVaKxB"
      }
    },
    {
      "cell_type": "code",
      "source": [
        "a = merged_df['age_certification'].value_counts()\n",
        "a"
      ],
      "metadata": {
        "id": "HVqk1lGSaO3N"
      },
      "execution_count": null,
      "outputs": []
    },
    {
      "cell_type": "code",
      "source": [
        "#pie chart of age certification\n",
        "import plotly.express as px\n",
        "fig = px.pie(values = a, names = a.index, title = 'Pie chart of age certification')\n",
        "fig.show()"
      ],
      "metadata": {
        "id": "a-_DzXIoaX3f"
      },
      "execution_count": null,
      "outputs": []
    },
    {
      "cell_type": "markdown",
      "source": [
        "**1. Why did you pick the specific chart?**\n",
        "\n",
        "I used a pie chart because age_certification is a categorical variable with multiple classes. A pie chart is effective to show the proportional breakdown of certifications, helping to understand which audience segment is most targeted."
      ],
      "metadata": {
        "id": "fJKZ3MhkihqU"
      }
    },
    {
      "cell_type": "markdown",
      "source": [
        "**INSIGHTS:**\n",
        "\n",
        "- R-rated content dominates massively, with 74.7% of all titles.\n",
        "\n",
        "- The next largest categories are PG-13 (10.4%) and PG (7.94%).\n",
        "\n",
        "- Family/kids content (G, TV-Y, TV-Y7, TV-G) is very minimal (<2%).\n",
        "\n",
        "- TV-specific certifications (like TV-MA, TV-14, TV-PG) form a tiny fraction, consistent with earlier finding that Prime is movie-heavy."
      ],
      "metadata": {
        "id": "sQEdhdAbadJi"
      }
    },
    {
      "cell_type": "markdown",
      "source": [
        "**3. Will the gained insights help create a positive business impact?**\n",
        "\n",
        "Yes.\n",
        "\n",
        "- The high share of R-rated content positions Prime strongly for adult and mature audiences, which can be marketed as “premium” or “uncensored entertainment.”\n",
        "\n",
        "- The strong focus on adult content differentiates Prime from Disney+, which is family/kid oriented."
      ],
      "metadata": {
        "id": "n5p9YYXsixZ7"
      }
    },
    {
      "cell_type": "markdown",
      "source": [
        "**4. Are there any insights that lead to negative growth? Justify with a specific reason.**\n",
        "\n",
        "Yes. The low percentage of kids/family content (<2%) may lead to lower subscription rates among families — one of the largest household customer segments in streaming. This gap can result in churn, as parents may prefer platforms offering safe, family-friendly viewing options."
      ],
      "metadata": {
        "id": "BjHaACUbi6K6"
      }
    },
    {
      "cell_type": "markdown",
      "source": [
        "# Chart - 21"
      ],
      "metadata": {
        "id": "SAAdShEZ7LFX"
      }
    },
    {
      "cell_type": "markdown",
      "source": [
        "**Violin Plot:**\n",
        "\n",
        "A Violin Plot is a statistical chart that combines aspects of a box plot and a kernel density plot to visualize the distribution of a numeric variable across different categories or groups."
      ],
      "metadata": {
        "id": "9IAOtYBhalAg"
      }
    },
    {
      "cell_type": "markdown",
      "source": [
        "**Violin Plot of imdb_score by type:**"
      ],
      "metadata": {
        "id": "8m-2MdKVatLl"
      }
    },
    {
      "cell_type": "code",
      "source": [
        "plt.figure(figsize=(10, 6))\n",
        "sns.violinplot(x='type', y='imdb_score', data=merged_df)\n",
        "plt.title('Violin Plot of imdb_score by type')\n",
        "plt.show()"
      ],
      "metadata": {
        "id": "GlMqGt-Aaz4v"
      },
      "execution_count": null,
      "outputs": []
    },
    {
      "cell_type": "markdown",
      "source": [
        "**1. Why did you pick the specific chart?**\n",
        "\n",
        "- A violin plot is perfect for comparing distributions of IMDb scores between categories (Movie vs Show).\n",
        "\n",
        "- Unlike bar charts or boxplots, violin plots show the density and spread of data, helping us see where most values are concentrated."
      ],
      "metadata": {
        "id": "16URbGSsjHxz"
      }
    },
    {
      "cell_type": "markdown",
      "source": [
        "**INSIGHTS:**\n",
        "\n",
        "- TV Shows generally have higher IMDb scores than Movies.\n",
        "\n",
        "- Most shows are concentrated around 7–8, with many above 8.\n",
        "\n",
        "- Movies have a wider spread, but the majority cluster around 6–7.\n",
        "\n",
        "- Shows have fewer very low-rated titles, while Movies have more extreme outliers (both very low and very high ratings)."
      ],
      "metadata": {
        "id": "1CV53QeGa9aY"
      }
    },
    {
      "cell_type": "markdown",
      "source": [
        "**3. Will the gained insights help create a positive business impact?**\n",
        "\n",
        "Yes.\n",
        "\n",
        "- Shows are more consistently well-received by audiences than movies.\n",
        "\n",
        "- This suggests Amazon Prime could benefit from investing more in TV series, since they tend to have higher audience satisfaction and engagement.\n",
        "\n",
        "- Good ratings improve subscriber retention, as viewers trust platform quality."
      ],
      "metadata": {
        "id": "t4ijuY37jS87"
      }
    },
    {
      "cell_type": "markdown",
      "source": [
        "**4. Are there any insights that lead to negative growth? Justify with a specific reason.**\n",
        "\n",
        "Yes. The fact that movies (the majority of content) have lower average ratings could lead to:\n",
        "\n",
        "Lower customer satisfaction (viewers not impressed by available titles).\n",
        "\n",
        "Higher churn, as audiences may shift to platforms offering better-rated, binge-worthy shows (e.g., Netflix).\n",
        "\n",
        "Wasted content investment, since a large movie catalog does not guarantee quality perception."
      ],
      "metadata": {
        "id": "qGgCrH48jdDi"
      }
    },
    {
      "cell_type": "markdown",
      "source": [
        "# **Multivariable Analysis:**"
      ],
      "metadata": {
        "id": "g8Ca5UCWXQG4"
      }
    },
    {
      "cell_type": "markdown",
      "source": [
        "# Chart - 22 - Correlation Heatmap\n",
        "\n",
        "A heatmap uses color intensities to represent the strength of relationships(correlation) between numeric variables in a dataset."
      ],
      "metadata": {
        "id": "NC_X3p0fY2L0"
      }
    },
    {
      "cell_type": "code",
      "source": [
        "\n",
        "num_col = merged_df.select_dtypes(include = ['int64','float64'])"
      ],
      "metadata": {
        "id": "xyC9zolEZNRQ"
      },
      "execution_count": null,
      "outputs": []
    },
    {
      "cell_type": "code",
      "source": [
        "\n",
        "#heatmap\n",
        "plt.figure(figsize = (10,8))\n",
        "sns.heatmap(num_col.corr(), annot = True, cmap='coolwarm')\n",
        "plt.show()"
      ],
      "metadata": {
        "id": "ZqxcUJmSVjYm"
      },
      "execution_count": null,
      "outputs": []
    },
    {
      "cell_type": "markdown",
      "source": [
        "##### 1. Why did you pick the specific chart?"
      ],
      "metadata": {
        "id": "UV0SzAkaZNRQ"
      }
    },
    {
      "cell_type": "markdown",
      "source": [
        "- A correlation heatmap is useful to quickly detect relationships between numerical variables in the dataset.\n",
        "\n",
        "- It shows both the strength and direction (positive/negative) of correlations.\n",
        "\n",
        "- Helps identify whether certain metrics (like votes, popularity, or runtime) are good predictors of ratings."
      ],
      "metadata": {
        "id": "DVPuT8LYZNRQ"
      }
    },
    {
      "cell_type": "markdown",
      "source": [
        "##### 2. What is/are the insight(s) found from the chart?"
      ],
      "metadata": {
        "id": "YPEH6qLeZNRQ"
      }
    },
    {
      "cell_type": "markdown",
      "source": [
        "- IMDb Score & TMDb Score have the highest correlation (0.62) → indicates that ratings across platforms are strongly aligned.\n",
        "\n",
        "- IMDb Votes & IMDb Score show a moderate correlation (0.26) → popular titles often have better ratings, but not always.\n",
        "\n",
        "- Runtime & Seasons are negatively correlated (-0.3) → as expected, TV shows with more seasons usually have shorter runtime per episode, while movies are longer.\n",
        "\n",
        "- Release Year has very weak correlation with ratings → newer content is not necessarily higher rated.\n",
        "\n",
        "- Popularity (TMDb) is weakly correlated with scores (~0.12–0.24) → popularity does not always mean quality."
      ],
      "metadata": {
        "id": "bfSqtnDqZNRR"
      }
    },
    {
      "cell_type": "markdown",
      "source": [
        "**3. Will the gained insights help create a positive business impact?**\n",
        "\n",
        "Yes.\n",
        "\n",
        "- Strong correlation between IMDb and TMDb scores means Amazon Prime can use one rating system to predict the other, reducing dependency on multiple external sources.\n",
        "\n",
        "- Moderate correlation between votes and ratings suggests audience engagement (more votes) can serve as a proxy for quality in recommendation systems."
      ],
      "metadata": {
        "id": "J0UmCrqLkLja"
      }
    },
    {
      "cell_type": "markdown",
      "source": [
        "**4. Are there any insights that lead to negative growth? Justify with a specific reason.**\n",
        "\n",
        "Yes. The low correlation between popularity and rating means relying too heavily on popularity-driven recommendations could cause user frustration (popular but low-rated titles being recommended). This could reduce long-term engagement and retention."
      ],
      "metadata": {
        "id": "XDxAVXN5kUiD"
      }
    },
    {
      "cell_type": "markdown",
      "source": [
        "# Chart - 23 - Pair Plot\n",
        "\n",
        "Pair plot visualizes the pairwise relationship between variables. It includes scatter plots for relationships and histogram or density plots for individual distributions."
      ],
      "metadata": {
        "id": "q29F0dvdveiT"
      }
    },
    {
      "cell_type": "code",
      "source": [
        "# Pair Plot visualization code\n",
        "\n",
        "sns.pairplot(merged_df)\n",
        "plt.show()"
      ],
      "metadata": {
        "id": "o58-TEIhveiU"
      },
      "execution_count": null,
      "outputs": []
    },
    {
      "cell_type": "markdown",
      "source": [
        "##### 1. Why did you pick the specific chart?"
      ],
      "metadata": {
        "id": "EXh0U9oCveiU"
      }
    },
    {
      "cell_type": "markdown",
      "source": [
        "A pair plot was chosen because it provides a comprehensive view of the relationships between multiple numerical variables in the dataset at once. This is especially useful for exploratory data analysis (EDA), as it allows us to quickly observe potential correlations, trends, and distributions across several key metrics related to Amazon Prime titles."
      ],
      "metadata": {
        "id": "eMmPjTByveiU"
      }
    },
    {
      "cell_type": "markdown",
      "source": [
        "##### 2. What is/are the insight(s) found from the chart?"
      ],
      "metadata": {
        "id": "22aHeOlLveiV"
      }
    },
    {
      "cell_type": "markdown",
      "source": [
        "- There is a positive correlation between imdb_score and tmdb_score — as the IMDb score increases, the TMDb score tends to increase as well, which suggests consistency in ratings across platforms.\n",
        "\n",
        "- The number of IMDb votes (imdb_votes) appears widely spread, but there is a noticeable cluster of titles with lower vote counts, indicating that many titles may not be widely rated.\n",
        "\n",
        "- Popularity (tmdb_popularity) does not show a strong correlation with either IMDb or TMDb scores, which suggests that a high rating doesn’t necessarily correspond to higher popularity, and vice versa.\n",
        "\n",
        "- The spread of data points for all variables suggests significant variability in the dataset, with some extreme outliers, especially in imdb_votes and tmdb_popularity."
      ],
      "metadata": {
        "id": "uPQ8RGwHveiV"
      }
    },
    {
      "cell_type": "markdown",
      "source": [
        "3. Will the gained insights help create a positive business impact? Are there any insights that lead to negative growth? Justify with specific reason.\n",
        "\n",
        "**Positive Impact:**\n",
        "Understanding the correlation between ratings (IMDb and TMDb) helps validate the data and suggests that relying on either source is reasonably justified when evaluating content quality. This can streamline decision-making regarding content promotion and acquisition strategies.\n",
        "\n",
        "**Negative Growth Insight:**\n",
        "The lack of a strong correlation between popularity and ratings could indicate that well-rated titles are not necessarily the most watched or popular. This highlights a potential gap in content discoverability or marketing effectiveness. If high-quality content isn’t reaching the audience effectively, it could lead to missed opportunities for user engagement and retention, ultimately impacting revenue growth."
      ],
      "metadata": {
        "id": "7L2l4gwWQISe"
      }
    },
    {
      "cell_type": "markdown",
      "source": [
        "## **5. Solution to Business Objective**"
      ],
      "metadata": {
        "id": "JcMwzZxoAimU"
      }
    },
    {
      "cell_type": "markdown",
      "source": [
        "#### What do you suggest the client to achieve Business Objective ?\n",
        "Explain Briefly."
      ],
      "metadata": {
        "id": "8G2x9gOozGDZ"
      }
    },
    {
      "cell_type": "markdown",
      "source": [
        "Based on the analysis, here are some suggestions to achieve your business objectives:\n",
        "\n",
        "1. Content Strategy & Acquisition:\n",
        "\n",
        "Diversify Genres: While \"Drama\" and \"Comedy\" are popular, there's an opportunity to invest in other high-performing genres like \"Action,\" \"Thriller,\" and \"Romance\" to cater to a wider audience. The data also indicates a growing interest in \"European\" content.\n",
        "Focus on High-Quality Productions: The analysis shows that titles with higher IMDb scores also tend to have more votes, indicating that quality drives engagement. Prioritize acquiring and producing high-quality content.\n",
        "Expand International Content: While the US dominates production, content from India and the UK also performs well. Continue to invest in and promote international content to cater to a global audience.\n",
        "2. User Engagement & Retention:\n",
        "\n",
        "Promote High-Performing Content: Feature the top-rated and most popular titles prominently on the platform to drive engagement.\n",
        "Optimize Content for Different Viewing Habits: The data shows a trend towards shorter runtimes for movies and longer seasons for TV shows. Cater to these preferences by offering a mix of content lengths.\n",
        "Leverage Age Certification Data: With a large portion of content rated 'R', there is a clear audience for mature content. However, ensure there is a balanced offering for other age groups to attract a wider subscriber base.\n",
        "3. Personalization & Recommendation:\n",
        "\n",
        "Enhance Recommendation Engine: Use the insights from genre preferences, production countries, and age certifications to create more personalized recommendations for users.\n",
        "Targeted Marketing Campaigns: Use the data to create targeted marketing campaigns. For example, promote new \"Action\" titles to users who have previously watched similar content.\n",
        "By implementing these suggestions, you can improve content strategy, increase user engagement, and ultimately achieve your business objectives.\n",
        "\n"
      ],
      "metadata": {
        "id": "pASKb0qOza21"
      }
    },
    {
      "cell_type": "markdown",
      "source": [
        "# **Conclusion**"
      ],
      "metadata": {
        "id": "gCX9965dhzqZ"
      }
    },
    {
      "cell_type": "markdown",
      "source": [
        "This comprehensive analysis of the Amazon Prime Video dataset has revealed several key insights that can be leveraged to drive business growth. The platform's content library is dominated by movies, with a significant amount of content originating from the US, India, and the UK. While \"Drama\" and \"Comedy\" are the most prevalent genres, there is a clear opportunity to diversify the content portfolio to cater to a broader range of tastes.\n",
        "\n",
        "The data indicates a strong correlation between content quality (IMDb score) and user engagement (IMDb votes), highlighting the importance of investing in high-quality productions. Furthermore, the analysis of content trends over time shows a shift towards shorter movie runtimes and longer TV show seasons, reflecting evolving viewer preferences.\n",
        "\n",
        "By leveraging these insights, Amazon Prime Video can optimize its content strategy, enhance user engagement, and deliver a more personalized viewing experience. The recommendations provided, including diversifying genres, promoting high-performing content, and refining the recommendation engine, offer a clear roadmap for achieving these goals and strengthening the platform's position in the competitive streaming market.\n",
        "\n"
      ],
      "metadata": {
        "id": "Fjb1IsQkh3yE"
      }
    }
  ]
}